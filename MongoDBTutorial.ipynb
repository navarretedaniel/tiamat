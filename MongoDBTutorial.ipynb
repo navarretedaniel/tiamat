{
 "cells": [
  {
   "cell_type": "code",
   "execution_count": 1,
   "metadata": {},
   "outputs": [],
   "source": [
    "from IPython.core.display import HTML"
   ]
  },
  {
   "cell_type": "markdown",
   "metadata": {},
   "source": [
    "# Introduction to MongoDB with PyMongo and NOAA Data\n",
    "\n",
    "This notebook provides a basic walkthrough of how to use MongoDB and is based on a tutorial originally by [Alberto Negron](http://altons.github.io/python/2013/01/21/gentle-introduction-to-mongodb-using-pymongo/).\n",
    "\n",
    "## What is MongoDB?\n",
    "MongoDB is a cross-platform document-oriented NoSQL database. Rather than the traditional table-based relational database structure, MongoDB stores JSON-like documents with dynamic schemas (called BSON), making data integration easier and faster for certain types of applications.\n",
    "\n",
    "## Features\n",
    "Some of the features include:    \n",
    "\n",
    "__Document-orientation__\n",
    "Instead of taking a business subject and breaking it up into multiple relational structures, MongoDB can store the business subject in the minimal number of documents.    \n",
    "\n",
    "__Ad hoc queries__\n",
    "MongoDB supports field, range queries, regular expression searches. Queries can return specific fields of documents and also include user-defined JavaScript functions.    \n",
    "\n",
    "__Indexing__\n",
    "Any field in a MongoDB document can be indexed – including within arrays and embedded documents. Primary and secondary indices are available.    \n",
    "\n",
    "__Aggregation__\n",
    "Aggregation operators can be strung together to form a pipeline – analogous to Unix pipes.    \n",
    "\n",
    "\n",
    "## When it makes sense to use MongoDB    \n",
    "Metadata records are frequently stored as JSON, and almost anything you get from an API will be JSON. For example, check out the [metadata records](https://data.noaa.gov/data.json) for the National Oceanic and Atmospheric Administration. \n",
    "\n",
    "MongoDB is a great tool to use with JSON data because it stores structured data as JSON-like documents, using dynamic rather than predefined schemas. \n",
    "\n",
    "In MongoDB, an element of data is called a document, and documents are stored in collections. One collection may have any number of documents. Collections are a bit like tables in a relational database, and documents are like records. But there is one big difference: every record in a table has the same fields (with, usually, differing values) in the same order, while each document in a collection can have completely different fields from the other documents.\n",
    "\n",
    "Documents are Python dictionaries that can have strings as keys and can contain various primitive types (int, float,unicode, datetime) as well as other documents (Python dicts) and arrays (Python lists).\n",
    "\n",
    "## Getting started\n",
    "First we need to import `json` and `pymongo`.\n",
    "\n",
    "Note that the `pprint` module provides a capability to “pretty-print” arbitrary Python data structures in a form which can be used as input to the interpreter. This is particularly helpful with JSON. You can read more about `pprint` [here](https://docs.python.org/2/library/pprint.html)."
   ]
  },
  {
   "cell_type": "code",
   "execution_count": 2,
   "metadata": {},
   "outputs": [],
   "source": [
    "import json\n",
    "import pymongo\n",
    "from pprint import pprint"
   ]
  },
  {
   "cell_type": "markdown",
   "metadata": {},
   "source": [
    "## Connect    \n",
    "Just as with the relational database example with `sqlite`, we need to begin by setting up a connection. With MongoDB, we will be using `pymongo`, though MongoDB also comes with a [console API that uses Javascript](https://docs.mongodb.org/manual/tutorial/write-scripts-for-the-mongo-shell/).    \n",
    "\n",
    "Make sure you have launched Mongo on your system before you connect.\n",
    "OS X - mongod\n",
    "Windows - net start MongoDB\n",
    "\n",
    "To make our connection, we will use the PyMongo method `MongoClient`:"
   ]
  },
  {
   "cell_type": "code",
   "execution_count": 3,
   "metadata": {},
   "outputs": [],
   "source": [
    "conn = pymongo.MongoClient()"
   ]
  },
  {
   "cell_type": "markdown",
   "metadata": {},
   "source": [
    "The above code will connect on the default local host and port.\n",
    "\n",
    "We can also specify the host and port explicitly, as follows:\n",
    "\n",
    "* `conn = pymongo.MongoClient('localhost', 27017)`\n",
    "\n",
    "Or by using the MongoDB URI:\n",
    "\n",
    "* `conn = pymongo.MongoClient('mongodb://localhost:27017/')`"
   ]
  },
  {
   "cell_type": "code",
   "execution_count": 4,
   "metadata": {},
   "outputs": [
    {
     "data": {
      "text/plain": [
       "MongoClient(host=['localhost:27017'], document_class=dict, tz_aware=False, connect=True)"
      ]
     },
     "execution_count": 4,
     "metadata": {},
     "output_type": "execute_result"
    }
   ],
   "source": [
    "# Check to see whether you're connected to MongoDB:\n",
    "conn"
   ]
  },
  {
   "cell_type": "markdown",
   "metadata": {},
   "source": [
    "## Create and access a database    \n",
    "\n",
    "MongoDB creates databases and collections automatically for you if they don't exist already. A single instance of MongoDB can support multiple independent databases. When working with PyMongo, we access databases using attribute style access, just like we did with `sqlite`:"
   ]
  },
  {
   "cell_type": "code",
   "execution_count": 5,
   "metadata": {},
   "outputs": [],
   "source": [
    "db = conn.mydb"
   ]
  },
  {
   "cell_type": "code",
   "execution_count": 6,
   "metadata": {},
   "outputs": [
    {
     "data": {
      "text/plain": [
       "Database(MongoClient(host=['localhost:27017'], document_class=dict, tz_aware=False, connect=True), 'mydb')"
      ]
     },
     "execution_count": 6,
     "metadata": {},
     "output_type": "execute_result"
    }
   ],
   "source": [
    "# Check to see whether you're connected to the 'mydb' database in MongoDB:\n",
    "db"
   ]
  },
  {
   "cell_type": "markdown",
   "metadata": {},
   "source": [
    "If your connection fails, verify your Mongo server is running."
   ]
  },
  {
   "cell_type": "code",
   "execution_count": 7,
   "metadata": {},
   "outputs": [
    {
     "data": {
      "text/plain": [
       "['admin', 'config', 'local']"
      ]
     },
     "execution_count": 7,
     "metadata": {},
     "output_type": "execute_result"
    }
   ],
   "source": [
    "# View databases:\n",
    "conn.list_database_names()"
   ]
  },
  {
   "cell_type": "markdown",
   "metadata": {},
   "source": [
    "Note that 'mydb' does not appear in the list yet."
   ]
  },
  {
   "cell_type": "markdown",
   "metadata": {},
   "source": [
    "## Collections    \n",
    "A collection is a group of documents stored in MongoDB, and can be thought of as roughly the equivalent of a table in a relational database. Getting a collection in PyMongo works the same as getting a database:"
   ]
  },
  {
   "cell_type": "code",
   "execution_count": 8,
   "metadata": {},
   "outputs": [],
   "source": [
    "collection = db.my_collection"
   ]
  },
  {
   "cell_type": "code",
   "execution_count": 9,
   "metadata": {},
   "outputs": [
    {
     "data": {
      "text/plain": [
       "[]"
      ]
     },
     "execution_count": 9,
     "metadata": {},
     "output_type": "execute_result"
    }
   ],
   "source": [
    "db.list_collection_names()"
   ]
  },
  {
   "cell_type": "markdown",
   "metadata": {},
   "source": [
    "## Insert data   \n",
    "To insert some data into MongoDB, all we need to do is create a dict and call `insert_one` on the collection object:"
   ]
  },
  {
   "cell_type": "code",
   "execution_count": 10,
   "metadata": {},
   "outputs": [
    {
     "data": {
      "text/plain": [
       "<pymongo.results.InsertOneResult at 0x24cb7c65888>"
      ]
     },
     "execution_count": 10,
     "metadata": {},
     "output_type": "execute_result"
    }
   ],
   "source": [
    "doc = {\"class\":\"xbus-502\",\"date\":\"03-05-2016\",\"instructor\":\"bengfort\",\"classroom\":\"C222\",\"roster_count\":\"25\"}\n",
    "collection.insert_one(doc)"
   ]
  },
  {
   "cell_type": "markdown",
   "metadata": {},
   "source": [
    "You can put _anything_ in:"
   ]
  },
  {
   "cell_type": "code",
   "execution_count": 11,
   "metadata": {},
   "outputs": [
    {
     "data": {
      "text/plain": [
       "<pymongo.results.InsertOneResult at 0x24cb79fe748>"
      ]
     },
     "execution_count": 11,
     "metadata": {},
     "output_type": "execute_result"
    }
   ],
   "source": [
    "doc = {\"class\":\"xbus-502\",\"date\":\"03-05-2016\",\"teaching_assistant\":\"bilbro\", \"sauce\": \"awesome\"}\n",
    "collection.insert_one(doc)"
   ]
  },
  {
   "cell_type": "code",
   "execution_count": 12,
   "metadata": {},
   "outputs": [
    {
     "data": {
      "text/plain": [
       "<pymongo.results.InsertOneResult at 0x24cb7c65088>"
      ]
     },
     "execution_count": 12,
     "metadata": {},
     "output_type": "execute_result"
    }
   ],
   "source": [
    "doc = {\"class\":\"xbus-502\",\"date\":\"09-21-2019\",\"teaching_assistant\":\"navarrete\", \"sauce\": \"also awesome\"}\n",
    "collection.insert_one(doc)"
   ]
  },
  {
   "cell_type": "markdown",
   "metadata": {},
   "source": [
    "## View listings"
   ]
  },
  {
   "cell_type": "markdown",
   "metadata": {},
   "source": [
    "Now that we've populated our collection, '`my_collection`' will appear in the list of collection names:"
   ]
  },
  {
   "cell_type": "code",
   "execution_count": 13,
   "metadata": {},
   "outputs": [
    {
     "data": {
      "text/plain": [
       "['my_collection']"
      ]
     },
     "execution_count": 13,
     "metadata": {},
     "output_type": "execute_result"
    }
   ],
   "source": [
    "db.list_collection_names()"
   ]
  },
  {
   "cell_type": "markdown",
   "metadata": {},
   "source": [
    "And '`mydb`' appears in the list of database names:"
   ]
  },
  {
   "cell_type": "code",
   "execution_count": 14,
   "metadata": {},
   "outputs": [
    {
     "data": {
      "text/plain": [
       "['admin', 'config', 'local', 'mydb']"
      ]
     },
     "execution_count": 14,
     "metadata": {},
     "output_type": "execute_result"
    }
   ],
   "source": [
    "conn.list_database_names()"
   ]
  },
  {
   "cell_type": "markdown",
   "metadata": {},
   "source": [
    "## Print our documents"
   ]
  },
  {
   "cell_type": "markdown",
   "metadata": {},
   "source": [
    "Using Python's default print:"
   ]
  },
  {
   "cell_type": "code",
   "execution_count": 15,
   "metadata": {},
   "outputs": [
    {
     "name": "stdout",
     "output_type": "stream",
     "text": [
      "{'_id': ObjectId('5d814911a20ce1b8b05c039c'), 'class': 'xbus-502', 'date': '03-05-2016', 'instructor': 'bengfort', 'classroom': 'C222', 'roster_count': '25'}\n",
      "{'_id': ObjectId('5d814911a20ce1b8b05c039d'), 'class': 'xbus-502', 'date': '03-05-2016', 'teaching_assistant': 'bilbro', 'sauce': 'awesome'}\n",
      "{'_id': ObjectId('5d814911a20ce1b8b05c039e'), 'class': 'xbus-502', 'date': '09-21-2019', 'teaching_assistant': 'navarrete', 'sauce': 'also awesome'}\n"
     ]
    }
   ],
   "source": [
    "see_collection = collection.find({})\n",
    "\n",
    "for document in see_collection:\n",
    "    print(document)"
   ]
  },
  {
   "cell_type": "markdown",
   "metadata": {},
   "source": [
    "Using pretty print (`pprint`):"
   ]
  },
  {
   "cell_type": "code",
   "execution_count": 16,
   "metadata": {},
   "outputs": [
    {
     "name": "stdout",
     "output_type": "stream",
     "text": [
      "{'_id': ObjectId('5d814911a20ce1b8b05c039c'),\n",
      " 'class': 'xbus-502',\n",
      " 'classroom': 'C222',\n",
      " 'date': '03-05-2016',\n",
      " 'instructor': 'bengfort',\n",
      " 'roster_count': '25'}\n",
      "{'_id': ObjectId('5d814911a20ce1b8b05c039d'),\n",
      " 'class': 'xbus-502',\n",
      " 'date': '03-05-2016',\n",
      " 'sauce': 'awesome',\n",
      " 'teaching_assistant': 'bilbro'}\n",
      "{'_id': ObjectId('5d814911a20ce1b8b05c039e'),\n",
      " 'class': 'xbus-502',\n",
      " 'date': '09-21-2019',\n",
      " 'sauce': 'also awesome',\n",
      " 'teaching_assistant': 'navarrete'}\n"
     ]
    }
   ],
   "source": [
    "see_collection = collection.find({})\n",
    "\n",
    "for document in see_collection:\n",
    "    pprint(document)"
   ]
  },
  {
   "cell_type": "markdown",
   "metadata": {},
   "source": [
    "## A practical example\n",
    "\n",
    "Rebecca Bilbro, former teaching assistant and current instructor, has created this practical example for us to work through: \n",
    "\n",
    "At my job I have been working on a project to [help make Commerce datasets easier to find](https://github.com/CommerceDataService/recordtagger). One of the barriers to searching for records is when the keywords return either too many or too few results. It can also be a problem if the keywords are too technical for lay users. \n",
    "\n",
    "One solution is to use topic modeling to extract latent themes from the metadata records and then probabilistically assign each record a more sensical set of keywords based on its proximity (via kmeans) to the topics.\n",
    "\n",
    "In order to get started, first I had to gather up a bunch of JSON metadata records and store them for analysis and modeling. Here's what I did: \n",
    "\n",
    "```python\n",
    "import requests\n",
    "\n",
    "NOAA_URL = \"https://data.noaa.gov/data.json\"\n",
    "\n",
    "def load_data(URL):\n",
    "    \"\"\"\n",
    "    Loads the data from URL and returns data in JSON format.\n",
    "    \"\"\"\n",
    "    r = requests.get(URL)\n",
    "    data = r.json()\n",
    "    return data\n",
    "    \n",
    "noaa = load_data(NOAA_URL)\n",
    "```\n",
    "\n",
    "But...this kinda takes a long time, so I've created a file for you that contains a small chunk of the records to use for today's workshop."
   ]
  },
  {
   "cell_type": "code",
   "execution_count": 17,
   "metadata": {},
   "outputs": [],
   "source": [
    "with open(\"data_sample.json\") as data_file:    \n",
    "    noaa = json.load(data_file)"
   ]
  },
  {
   "cell_type": "code",
   "execution_count": 18,
   "metadata": {},
   "outputs": [
    {
     "data": {
      "text/plain": [
       "1722"
      ]
     },
     "execution_count": 18,
     "metadata": {},
     "output_type": "execute_result"
    }
   ],
   "source": [
    "len(noaa)"
   ]
  },
  {
   "cell_type": "markdown",
   "metadata": {},
   "source": [
    "### Checking out the data\n",
    "Now let's print out just one record to examine the structure. "
   ]
  },
  {
   "cell_type": "code",
   "execution_count": 19,
   "metadata": {},
   "outputs": [
    {
     "name": "stdout",
     "output_type": "stream",
     "text": [
      "{'@type': 'dcat:Dataset',\n",
      " 'accessLevel': 'public',\n",
      " 'accrualPeriodicity': 'irregular',\n",
      " 'bureauCode': ['006:48'],\n",
      " 'contactPoint': {'@type': 'vcard:Contact',\n",
      "                  'fn': 'Ilya P. Romanov',\n",
      "                  'hasEmail': 'mailto:nsidc@nsidc.org'},\n",
      " 'description': 'This data set contains sea ice and snow measurements '\n",
      "                'collected during aircraft landings associated with the Soviet '\n",
      "                \"Union's historical Sever airborne and North Pole drifting \"\n",
      "                'station programs. The High-Latitude Airborne Annual '\n",
      "                'Expeditions Sever (Sever means North) took place in 1937, '\n",
      "                '1941, 1948-1952, and 1954-1993 (Konstantinov and Grachev, '\n",
      "                '2000). In Spring 1993, the last (45th) Sever expedition '\n",
      "                'finished long-term activity in the Arctic. Snow and sea ice '\n",
      "                'data were collected, along with meteorological and '\n",
      "                'hydrological measurements (the latter are not part of this '\n",
      "                'data set). Up to 202 landings were accomplished each year.  '\n",
      "                'The data set contains measurements of 23 parameters, '\n",
      "                'including ice thickness and snow depth on the runway and '\n",
      "                'surrounding area; ridge, hummock, and sastrugi dimensions and '\n",
      "                'areal coverage; and snow density. The sea ice thickness data '\n",
      "                'are of particular importance, as ice thickness measurements '\n",
      "                'for the Arctic Basin are scarce. These data are a subset of '\n",
      "                'those used to create the atlas Morphometric Characteristics '\n",
      "                'of Ice and Snow in the Arctic Basin, self-published by Ilya '\n",
      "                'P. Romanov in 1993, and republished by Backbone Publishing '\n",
      "                'Company in 1995. Romanov provided these data to the National '\n",
      "                'Snow and Ice Data Center (NSIDC) in 1994.',\n",
      " 'distribution': [{'@type': 'dcat:Distribution',\n",
      "                   'downloadURL': 'ftp://sidads.colorado.edu/pub/DATASETS/NOAA/G02140/',\n",
      "                   'mediaType': 'text/html',\n",
      "                   'title': 'Unnamed resource'},\n",
      "                  {'@type': 'dcat:Distribution',\n",
      "                   'downloadURL': 'http://nsidc.org/data/docs/noaa/g02140_romanov_arctic_seaice/index.html',\n",
      "                   'mediaType': 'text/html',\n",
      "                   'title': 'Unnamed resource'},\n",
      "                  {'@type': 'dcat:Distribution',\n",
      "                   'downloadURL': 'http://nsidc.org',\n",
      "                   'mediaType': 'text/html',\n",
      "                   'title': 'Unnamed resource'},\n",
      "                  {'@type': 'dcat:Distribution',\n",
      "                   'downloadURL': 'http://nsidc.org/noaa/',\n",
      "                   'mediaType': 'text/html',\n",
      "                   'title': 'Unnamed resource'}],\n",
      " 'identifier': 'noaa.ncei.nsidc.G02140',\n",
      " 'keyword': ['Continent > Europe > Eastern Europe > Russia',\n",
      "             'Geographic Region > Arctic > Arctic Basin',\n",
      "             'EARTH SCIENCE > Cryosphere > Sea Ice > Ice Deformation',\n",
      "             'EARTH SCIENCE > Cryosphere > Sea Ice > Ice Depth/Thickness',\n",
      "             'EARTH SCIENCE > Cryosphere > Sea Ice > Ice Floes > Length',\n",
      "             'EARTH SCIENCE > Cryosphere > Sea Ice > Ice Floes > Width',\n",
      "             'EARTH SCIENCE > Cryosphere > Sea Ice > Ice Roughness > Hummocks',\n",
      "             'EARTH SCIENCE > Cryosphere > Sea Ice > Sea Ice Elevation > '\n",
      "             'Hummocks',\n",
      "             'EARTH SCIENCE > Cryosphere > Sea Ice > Snow Depth',\n",
      "             'EARTH SCIENCE > Cryosphere > Snow/Ice > Snow Density',\n",
      "             'EARTH SCIENCE > Cryosphere > Snow/Ice > Snow Depth',\n",
      "             'EARTH SCIENCE > Oceans > Sea Ice > Ice Deformation',\n",
      "             'EARTH SCIENCE > Oceans > Sea Ice > Ice Depth/Thickness',\n",
      "             'EARTH SCIENCE > Oceans > Sea Ice > Ice Floes > Length',\n",
      "             'EARTH SCIENCE > Oceans > Sea Ice > Ice Floes > Width',\n",
      "             'EARTH SCIENCE > Oceans > Sea Ice > Ice Roughness > Hummocks',\n",
      "             'EARTH SCIENCE > Oceans > Sea Ice > Sea Ice Elevation',\n",
      "             'EARTH SCIENCE > Oceans > Sea Ice > Snow Depth',\n",
      "             'EARTH SCIENCE > Terrestrial Hydrosphere > Snow/Ice > Snow '\n",
      "             'Density',\n",
      "             'EARTH SCIENCE > Terrestrial Hydrosphere > Snow/Ice > Snow Depth',\n",
      "             'Aircraft',\n",
      "             'Arctic Basin',\n",
      "             'Arctic Sea Ice',\n",
      "             'g02140',\n",
      "             'NOAA',\n",
      "             'North Pole',\n",
      "             'North Pole drifting station',\n",
      "             'Sever'],\n",
      " 'language': ['en-US'],\n",
      " 'modified': '2004-03-17',\n",
      " 'programCode': ['000:000'],\n",
      " 'publisher': {'@type': 'org:Organization',\n",
      "               'name': ' (Principal Investigator); National Snow and Ice Data '\n",
      "                       'Center (Point of Contact)'},\n",
      " 'spatial': '{\"type\": \"Polygon\", \"coordinates\": [[[-180.0, 64.0], [180.0, '\n",
      "            '64.0], [180.0, 90.0], [-180.0, 90.0], [-180.0, 64.0]]]}',\n",
      " 'temporal': '1928-06-01T00:00:00/1989-05-31T00:00:00',\n",
      " 'title': 'Morphometric Characteristics of Ice and Snow in the Arctic Basin: '\n",
      "          'Aircraft Landing Observations from the Former Soviet Union, '\n",
      "          '1928-1989'}\n"
     ]
    }
   ],
   "source": [
    "pprint(noaa[0])"
   ]
  },
  {
   "cell_type": "markdown",
   "metadata": {},
   "source": [
    "Or say we wanted just the \"description\" field:"
   ]
  },
  {
   "cell_type": "code",
   "execution_count": 20,
   "metadata": {},
   "outputs": [
    {
     "name": "stdout",
     "output_type": "stream",
     "text": [
      "('This data set contains sea ice and snow measurements collected during '\n",
      " \"aircraft landings associated with the Soviet Union's historical Sever \"\n",
      " 'airborne and North Pole drifting station programs. The High-Latitude '\n",
      " 'Airborne Annual Expeditions Sever (Sever means North) took place in 1937, '\n",
      " '1941, 1948-1952, and 1954-1993 (Konstantinov and Grachev, 2000). In Spring '\n",
      " '1993, the last (45th) Sever expedition finished long-term activity in the '\n",
      " 'Arctic. Snow and sea ice data were collected, along with meteorological and '\n",
      " 'hydrological measurements (the latter are not part of this data set). Up to '\n",
      " '202 landings were accomplished each year.  The data set contains '\n",
      " 'measurements of 23 parameters, including ice thickness and snow depth on the '\n",
      " 'runway and surrounding area; ridge, hummock, and sastrugi dimensions and '\n",
      " 'areal coverage; and snow density. The sea ice thickness data are of '\n",
      " 'particular importance, as ice thickness measurements for the Arctic Basin '\n",
      " 'are scarce. These data are a subset of those used to create the atlas '\n",
      " 'Morphometric Characteristics of Ice and Snow in the Arctic Basin, '\n",
      " 'self-published by Ilya P. Romanov in 1993, and republished by Backbone '\n",
      " 'Publishing Company in 1995. Romanov provided these data to the National Snow '\n",
      " 'and Ice Data Center (NSIDC) in 1994.')\n"
     ]
    }
   ],
   "source": [
    "pprint(noaa[0]['description'])"
   ]
  },
  {
   "cell_type": "markdown",
   "metadata": {},
   "source": [
    "### Define the database\n",
    "We will want to enter these records into our database. But first, we'll define a specific database for the NOAA records:"
   ]
  },
  {
   "cell_type": "code",
   "execution_count": 21,
   "metadata": {},
   "outputs": [],
   "source": [
    "conn = pymongo.MongoClient()\n",
    "db = conn.earthwindfire"
   ]
  },
  {
   "cell_type": "code",
   "execution_count": 22,
   "metadata": {},
   "outputs": [
    {
     "data": {
      "text/plain": [
       "['admin', 'config', 'local', 'mydb']"
      ]
     },
     "execution_count": 22,
     "metadata": {},
     "output_type": "execute_result"
    }
   ],
   "source": [
    "conn.list_database_names()"
   ]
  },
  {
   "cell_type": "markdown",
   "metadata": {},
   "source": [
    "### Define the collection\n",
    "Next we define the collection where we'll insert the NOAA metadata records:"
   ]
  },
  {
   "cell_type": "code",
   "execution_count": 23,
   "metadata": {},
   "outputs": [],
   "source": [
    "records = db.records"
   ]
  },
  {
   "cell_type": "code",
   "execution_count": 24,
   "metadata": {},
   "outputs": [
    {
     "data": {
      "text/plain": [
       "[]"
      ]
     },
     "execution_count": 24,
     "metadata": {},
     "output_type": "execute_result"
    }
   ],
   "source": [
    "db.list_collection_names()"
   ]
  },
  {
   "cell_type": "markdown",
   "metadata": {},
   "source": [
    "### Insert data    \n",
    "Then we loop through each record in the NOAA dataset and insert just the target information for each into the collection."
   ]
  },
  {
   "cell_type": "code",
   "execution_count": 25,
   "metadata": {},
   "outputs": [],
   "source": [
    "# What data fields seem important to you? Add them below following the examples:\n",
    "\n",
    "def insert(metadata):\n",
    "    for dataset in metadata:\n",
    "        data ={}\n",
    "        data[\"title\"] = dataset[\"title\"]\n",
    "        data[\"description\"] = dataset[\"description\"]\n",
    "        data[\"keywords\"] = dataset[\"keyword\"]\n",
    "        data[\"accessLevel\"] = dataset[\"accessLevel\"]\n",
    "        data[\"lang\"] = dataset[\"language\"]\n",
    "        # choose your own\n",
    "        # choose your own\n",
    "        # choose your own \n",
    "        # choose your own\n",
    "\n",
    "        records.insert_one(data)\n",
    "\n",
    "insert(noaa)"
   ]
  },
  {
   "cell_type": "code",
   "execution_count": 26,
   "metadata": {},
   "outputs": [
    {
     "data": {
      "text/plain": [
       "1722"
      ]
     },
     "execution_count": 26,
     "metadata": {},
     "output_type": "execute_result"
    }
   ],
   "source": [
    "# Check to make sure they're all in there\n",
    "records.estimated_document_count()"
   ]
  },
  {
   "cell_type": "markdown",
   "metadata": {},
   "source": [
    "## View listings\n",
    "As with before, the listings are now updated:"
   ]
  },
  {
   "cell_type": "code",
   "execution_count": 27,
   "metadata": {},
   "outputs": [
    {
     "data": {
      "text/plain": [
       "['admin', 'config', 'earthwindfire', 'local', 'mydb']"
      ]
     },
     "execution_count": 27,
     "metadata": {},
     "output_type": "execute_result"
    }
   ],
   "source": [
    "conn.list_database_names()"
   ]
  },
  {
   "cell_type": "code",
   "execution_count": 28,
   "metadata": {},
   "outputs": [
    {
     "data": {
      "text/plain": [
       "['records']"
      ]
     },
     "execution_count": 28,
     "metadata": {},
     "output_type": "execute_result"
    }
   ],
   "source": [
    "db.list_collection_names()"
   ]
  },
  {
   "cell_type": "markdown",
   "metadata": {},
   "source": [
    "### Querying \n",
    "\n",
    "#### Querying with `.findOne( )`    \n",
    "The find_one() method selects and returns a single document from a collection and returns that document (or None if there are no matches). It is useful when you know there is only one matching document, or are only interested in the first match"
   ]
  },
  {
   "cell_type": "code",
   "execution_count": 29,
   "metadata": {},
   "outputs": [
    {
     "data": {
      "text/plain": [
       "{'_id': ObjectId('5d814912a20ce1b8b05c03a0'),\n",
       " 'title': 'Morphometric Characteristics of Ice and Snow in the Arctic Basin: Aircraft Landing Observations from the Former Soviet Union, 1928-1989',\n",
       " 'description': \"This data set contains sea ice and snow measurements collected during aircraft landings associated with the Soviet Union's historical Sever airborne and North Pole drifting station programs. The High-Latitude Airborne Annual Expeditions Sever (Sever means North) took place in 1937, 1941, 1948-1952, and 1954-1993 (Konstantinov and Grachev, 2000). In Spring 1993, the last (45th) Sever expedition finished long-term activity in the Arctic. Snow and sea ice data were collected, along with meteorological and hydrological measurements (the latter are not part of this data set). Up to 202 landings were accomplished each year.  The data set contains measurements of 23 parameters, including ice thickness and snow depth on the runway and surrounding area; ridge, hummock, and sastrugi dimensions and areal coverage; and snow density. The sea ice thickness data are of particular importance, as ice thickness measurements for the Arctic Basin are scarce. These data are a subset of those used to create the atlas Morphometric Characteristics of Ice and Snow in the Arctic Basin, self-published by Ilya P. Romanov in 1993, and republished by Backbone Publishing Company in 1995. Romanov provided these data to the National Snow and Ice Data Center (NSIDC) in 1994.\",\n",
       " 'keywords': ['Continent > Europe > Eastern Europe > Russia',\n",
       "  'Geographic Region > Arctic > Arctic Basin',\n",
       "  'EARTH SCIENCE > Cryosphere > Sea Ice > Ice Deformation',\n",
       "  'EARTH SCIENCE > Cryosphere > Sea Ice > Ice Depth/Thickness',\n",
       "  'EARTH SCIENCE > Cryosphere > Sea Ice > Ice Floes > Length',\n",
       "  'EARTH SCIENCE > Cryosphere > Sea Ice > Ice Floes > Width',\n",
       "  'EARTH SCIENCE > Cryosphere > Sea Ice > Ice Roughness > Hummocks',\n",
       "  'EARTH SCIENCE > Cryosphere > Sea Ice > Sea Ice Elevation > Hummocks',\n",
       "  'EARTH SCIENCE > Cryosphere > Sea Ice > Snow Depth',\n",
       "  'EARTH SCIENCE > Cryosphere > Snow/Ice > Snow Density',\n",
       "  'EARTH SCIENCE > Cryosphere > Snow/Ice > Snow Depth',\n",
       "  'EARTH SCIENCE > Oceans > Sea Ice > Ice Deformation',\n",
       "  'EARTH SCIENCE > Oceans > Sea Ice > Ice Depth/Thickness',\n",
       "  'EARTH SCIENCE > Oceans > Sea Ice > Ice Floes > Length',\n",
       "  'EARTH SCIENCE > Oceans > Sea Ice > Ice Floes > Width',\n",
       "  'EARTH SCIENCE > Oceans > Sea Ice > Ice Roughness > Hummocks',\n",
       "  'EARTH SCIENCE > Oceans > Sea Ice > Sea Ice Elevation',\n",
       "  'EARTH SCIENCE > Oceans > Sea Ice > Snow Depth',\n",
       "  'EARTH SCIENCE > Terrestrial Hydrosphere > Snow/Ice > Snow Density',\n",
       "  'EARTH SCIENCE > Terrestrial Hydrosphere > Snow/Ice > Snow Depth',\n",
       "  'Aircraft',\n",
       "  'Arctic Basin',\n",
       "  'Arctic Sea Ice',\n",
       "  'g02140',\n",
       "  'NOAA',\n",
       "  'North Pole',\n",
       "  'North Pole drifting station',\n",
       "  'Sever'],\n",
       " 'accessLevel': 'public',\n",
       " 'lang': ['en-US']}"
      ]
     },
     "execution_count": 29,
     "metadata": {},
     "output_type": "execute_result"
    }
   ],
   "source": [
    "records.find_one()"
   ]
  },
  {
   "cell_type": "markdown",
   "metadata": {},
   "source": [
    "#### Querying with `.find( )`\n",
    "To get more than a single document as the result of a query we use the `find()` method. `find()` returns a Cursor instance, which allows us to iterate over all matching documents.\n",
    "\n",
    "```python\n",
    "records.find()\n",
    "```\n",
    "\n",
    "For example, we can iterate over the first 2 documents (there are a lot in the collection and this is just an example) in the records collection"
   ]
  },
  {
   "cell_type": "code",
   "execution_count": 30,
   "metadata": {},
   "outputs": [
    {
     "name": "stdout",
     "output_type": "stream",
     "text": [
      "{'_id': ObjectId('5d814912a20ce1b8b05c03a0'),\n",
      " 'accessLevel': 'public',\n",
      " 'description': 'This data set contains sea ice and snow measurements '\n",
      "                'collected during aircraft landings associated with the Soviet '\n",
      "                \"Union's historical Sever airborne and North Pole drifting \"\n",
      "                'station programs. The High-Latitude Airborne Annual '\n",
      "                'Expeditions Sever (Sever means North) took place in 1937, '\n",
      "                '1941, 1948-1952, and 1954-1993 (Konstantinov and Grachev, '\n",
      "                '2000). In Spring 1993, the last (45th) Sever expedition '\n",
      "                'finished long-term activity in the Arctic. Snow and sea ice '\n",
      "                'data were collected, along with meteorological and '\n",
      "                'hydrological measurements (the latter are not part of this '\n",
      "                'data set). Up to 202 landings were accomplished each year.  '\n",
      "                'The data set contains measurements of 23 parameters, '\n",
      "                'including ice thickness and snow depth on the runway and '\n",
      "                'surrounding area; ridge, hummock, and sastrugi dimensions and '\n",
      "                'areal coverage; and snow density. The sea ice thickness data '\n",
      "                'are of particular importance, as ice thickness measurements '\n",
      "                'for the Arctic Basin are scarce. These data are a subset of '\n",
      "                'those used to create the atlas Morphometric Characteristics '\n",
      "                'of Ice and Snow in the Arctic Basin, self-published by Ilya '\n",
      "                'P. Romanov in 1993, and republished by Backbone Publishing '\n",
      "                'Company in 1995. Romanov provided these data to the National '\n",
      "                'Snow and Ice Data Center (NSIDC) in 1994.',\n",
      " 'keywords': ['Continent > Europe > Eastern Europe > Russia',\n",
      "              'Geographic Region > Arctic > Arctic Basin',\n",
      "              'EARTH SCIENCE > Cryosphere > Sea Ice > Ice Deformation',\n",
      "              'EARTH SCIENCE > Cryosphere > Sea Ice > Ice Depth/Thickness',\n",
      "              'EARTH SCIENCE > Cryosphere > Sea Ice > Ice Floes > Length',\n",
      "              'EARTH SCIENCE > Cryosphere > Sea Ice > Ice Floes > Width',\n",
      "              'EARTH SCIENCE > Cryosphere > Sea Ice > Ice Roughness > Hummocks',\n",
      "              'EARTH SCIENCE > Cryosphere > Sea Ice > Sea Ice Elevation > '\n",
      "              'Hummocks',\n",
      "              'EARTH SCIENCE > Cryosphere > Sea Ice > Snow Depth',\n",
      "              'EARTH SCIENCE > Cryosphere > Snow/Ice > Snow Density',\n",
      "              'EARTH SCIENCE > Cryosphere > Snow/Ice > Snow Depth',\n",
      "              'EARTH SCIENCE > Oceans > Sea Ice > Ice Deformation',\n",
      "              'EARTH SCIENCE > Oceans > Sea Ice > Ice Depth/Thickness',\n",
      "              'EARTH SCIENCE > Oceans > Sea Ice > Ice Floes > Length',\n",
      "              'EARTH SCIENCE > Oceans > Sea Ice > Ice Floes > Width',\n",
      "              'EARTH SCIENCE > Oceans > Sea Ice > Ice Roughness > Hummocks',\n",
      "              'EARTH SCIENCE > Oceans > Sea Ice > Sea Ice Elevation',\n",
      "              'EARTH SCIENCE > Oceans > Sea Ice > Snow Depth',\n",
      "              'EARTH SCIENCE > Terrestrial Hydrosphere > Snow/Ice > Snow '\n",
      "              'Density',\n",
      "              'EARTH SCIENCE > Terrestrial Hydrosphere > Snow/Ice > Snow Depth',\n",
      "              'Aircraft',\n",
      "              'Arctic Basin',\n",
      "              'Arctic Sea Ice',\n",
      "              'g02140',\n",
      "              'NOAA',\n",
      "              'North Pole',\n",
      "              'North Pole drifting station',\n",
      "              'Sever'],\n",
      " 'lang': ['en-US'],\n",
      " 'title': 'Morphometric Characteristics of Ice and Snow in the Arctic Basin: '\n",
      "          'Aircraft Landing Observations from the Former Soviet Union, '\n",
      "          '1928-1989'}\n",
      "{'_id': ObjectId('5d814912a20ce1b8b05c03a1'),\n",
      " 'accessLevel': 'public',\n",
      " 'description': 'This data set was distributed by NSIDC until October, 2003, '\n",
      "                'when it was withdrawn from distribution because it duplicates '\n",
      "                'the NOAA National Climatic Data Center (NCDC) data set '\n",
      "                'DSI-3720. The NCDC data set is revised and updated beyond '\n",
      "                'what was distributed by NSIDC. This archive consists of '\n",
      "                'monthly precipitation measurements from 622 stations located '\n",
      "                'in the Former Soviet Union.',\n",
      " 'keywords': ['Continent > Europe > Eastern Europe > Russia',\n",
      "              'EARTH SCIENCE > Atmosphere > Precipitation > Precipitation '\n",
      "              'Amount',\n",
      "              'EARTH SCIENCE > Atmosphere > Precipitation > Precipitation Rate',\n",
      "              'EARTH SCIENCE > Atmosphere > Precipitation > Rain',\n",
      "              'EARTH SCIENCE > Atmosphere > Precipitation > Snow',\n",
      "              'EARTH SCIENCE > Terrestrial Hydrosphere > Snow/Ice > Snow Cover',\n",
      "              'EOSDIS > Earth Observing System Data Information System',\n",
      "              'ESIP > Earth Science Information Partners Program',\n",
      "              'Asia',\n",
      "              'Europe',\n",
      "              'Former Soviet Union',\n",
      "              'GAUGE BUCKET',\n",
      "              'GAUGE POST',\n",
      "              'NIPHER',\n",
      "              'Precipitation',\n",
      "              'Rain',\n",
      "              'Rain Gauge',\n",
      "              'Russia',\n",
      "              'Soviet',\n",
      "              'State Hydrological Institute',\n",
      "              'Station',\n",
      "              'Tretiyakov',\n",
      "              'Ussr'],\n",
      " 'lang': ['en-US'],\n",
      " 'title': 'Former Soviet Union Monthly Precipitation Archive, 1891-1993'}\n"
     ]
    }
   ],
   "source": [
    "for rec in records.find()[:2]:\n",
    "    pprint(rec)"
   ]
  },
  {
   "cell_type": "markdown",
   "metadata": {},
   "source": [
    "#### Searching \n",
    "MongoDB queries are represented as JSON-like structures just like documents. To build a query, you just need to specify a dictionary with the properties you want the results to match. For example, let's say we were just interested in publically available satellite data from [NESDIS](http://www.nesdis.noaa.gov/).\n",
    "\n",
    "This query will match all documents in the records collection with keywords code \"NESDIS\"."
   ]
  },
  {
   "cell_type": "code",
   "execution_count": 31,
   "metadata": {},
   "outputs": [
    {
     "name": "stderr",
     "output_type": "stream",
     "text": [
      "c:\\users\\danie\\anaconda3\\envs\\gtown\\lib\\site-packages\\ipykernel_launcher.py:1: DeprecationWarning: count is deprecated. Use Collection.count_documents instead.\n",
      "  \"\"\"Entry point for launching an IPython kernel.\n"
     ]
    },
    {
     "data": {
      "text/plain": [
       "1117"
      ]
     },
     "execution_count": 31,
     "metadata": {},
     "output_type": "execute_result"
    }
   ],
   "source": [
    "records.find({\"keywords\": \"NESDIS\"}).count()"
   ]
  },
  {
   "cell_type": "markdown",
   "metadata": {},
   "source": [
    "1117 is probably more than we want to print out in a Jupyter Notebook...    \n",
    "\n",
    "We can further narrow our search by adding additional fields"
   ]
  },
  {
   "cell_type": "code",
   "execution_count": 32,
   "metadata": {},
   "outputs": [
    {
     "name": "stderr",
     "output_type": "stream",
     "text": [
      "c:\\users\\danie\\anaconda3\\envs\\gtown\\lib\\site-packages\\ipykernel_launcher.py:1: DeprecationWarning: count is deprecated. Use Collection.count_documents instead.\n",
      "  \"\"\"Entry point for launching an IPython kernel.\n"
     ]
    },
    {
     "data": {
      "text/plain": [
       "2"
      ]
     },
     "execution_count": 32,
     "metadata": {},
     "output_type": "execute_result"
    }
   ],
   "source": [
    "records.find({\"keywords\": \"NESDIS\",\"keywords\": \"Russia\",\"accessLevel\":\"public\"}).count()"
   ]
  },
  {
   "cell_type": "markdown",
   "metadata": {},
   "source": [
    "Since there's only two, let's check them out:"
   ]
  },
  {
   "cell_type": "code",
   "execution_count": 33,
   "metadata": {},
   "outputs": [
    {
     "name": "stdout",
     "output_type": "stream",
     "text": [
      "{'_id': ObjectId('5d814912a20ce1b8b05c03a1'),\n",
      " 'accessLevel': 'public',\n",
      " 'description': 'This data set was distributed by NSIDC until October, 2003, '\n",
      "                'when it was withdrawn from distribution because it duplicates '\n",
      "                'the NOAA National Climatic Data Center (NCDC) data set '\n",
      "                'DSI-3720. The NCDC data set is revised and updated beyond '\n",
      "                'what was distributed by NSIDC. This archive consists of '\n",
      "                'monthly precipitation measurements from 622 stations located '\n",
      "                'in the Former Soviet Union.',\n",
      " 'keywords': ['Continent > Europe > Eastern Europe > Russia',\n",
      "              'EARTH SCIENCE > Atmosphere > Precipitation > Precipitation '\n",
      "              'Amount',\n",
      "              'EARTH SCIENCE > Atmosphere > Precipitation > Precipitation Rate',\n",
      "              'EARTH SCIENCE > Atmosphere > Precipitation > Rain',\n",
      "              'EARTH SCIENCE > Atmosphere > Precipitation > Snow',\n",
      "              'EARTH SCIENCE > Terrestrial Hydrosphere > Snow/Ice > Snow Cover',\n",
      "              'EOSDIS > Earth Observing System Data Information System',\n",
      "              'ESIP > Earth Science Information Partners Program',\n",
      "              'Asia',\n",
      "              'Europe',\n",
      "              'Former Soviet Union',\n",
      "              'GAUGE BUCKET',\n",
      "              'GAUGE POST',\n",
      "              'NIPHER',\n",
      "              'Precipitation',\n",
      "              'Rain',\n",
      "              'Rain Gauge',\n",
      "              'Russia',\n",
      "              'Soviet',\n",
      "              'State Hydrological Institute',\n",
      "              'Station',\n",
      "              'Tretiyakov',\n",
      "              'Ussr'],\n",
      " 'lang': ['en-US'],\n",
      " 'title': 'Former Soviet Union Monthly Precipitation Archive, 1891-1993'}\n",
      "{'_id': ObjectId('5d814912a20ce1b8b05c03b5'),\n",
      " 'accessLevel': 'public',\n",
      " 'description': 'This data set consists of river ice thickness measurements, '\n",
      "                'and beginning and ending dates for river freeze-up events '\n",
      "                'from fifty stations in northern Russia. The data set includes '\n",
      "                'values from 1917 through 1992, however the record length '\n",
      "                'varies for each station. The longest station record covers '\n",
      "                'the period 1917 through 1988 (the station table shows the '\n",
      "                'beginning and end years for measurements at each station). '\n",
      "                'Data were obtained through the U.S.-Russia Working Group VIII '\n",
      "                'of the U.S.-Russia Bilateral Agreement on the Protection of '\n",
      "                'Environmental and Natural Resources.',\n",
      " 'keywords': ['Continent > Europe > Eastern Europe > Russia',\n",
      "              'EARTH SCIENCE > Cryosphere > Snow/Ice > Freeze/Thaw',\n",
      "              'EARTH SCIENCE > Cryosphere > Snow/Ice > River Ice > Duration',\n",
      "              'EARTH SCIENCE > Cryosphere > Snow/Ice > River Ice > Freeze-Up '\n",
      "              'Events',\n",
      "              'EARTH SCIENCE > Cryosphere > Snow/Ice > River Ice > Thickness',\n",
      "              'EARTH SCIENCE > Terrestrial Hydrosphere > Snow/Ice > River Ice '\n",
      "              '> Duration',\n",
      "              'EARTH SCIENCE > Terrestrial Hydrosphere > Snow/Ice > River Ice '\n",
      "              '> Freeze-Up Events',\n",
      "              'EARTH SCIENCE > Terrestrial Hydrosphere > Snow/Ice > River Ice '\n",
      "              '> Thickness',\n",
      "              'Freeze-up',\n",
      "              'Freeze-up Events',\n",
      "              'G01187',\n",
      "              'Ice Duration',\n",
      "              'Ice Thickness',\n",
      "              'NOAA',\n",
      "              'NSIDC',\n",
      "              'River Ice',\n",
      "              'Russia',\n",
      "              'Russian Rivers'],\n",
      " 'lang': ['en-US'],\n",
      " 'title': 'Russian River Ice Thickness and Duration'}\n"
     ]
    }
   ],
   "source": [
    "for r in records.find({\"keywords\": \"NESDIS\",\"keywords\": \"Russia\",\"accessLevel\":\"public\"}):\n",
    "    pprint(r)"
   ]
  },
  {
   "cell_type": "markdown",
   "metadata": {},
   "source": [
    "### If you already know SQL...\n",
    "\n",
    "The following table provides an overview of common SQL aggregation terms, functions, and concepts and the corresponding MongoDB aggregation operators:    \n",
    "    \n",
    "| SQL Terms, Functions, and Concepts  | MongoDB Aggregation Operators  |\n",
    "| ----------------------------------  |:-------------------------------|\n",
    "| WHERE                               | \\$match                        |\n",
    "| GROUP BY                            | \\$group                        |\n",
    "| HAVING                              | \\$match                        |\n",
    "| SELECT\t                          | \\$project                      |\n",
    "| ORDER BY\t                          | \\$sort                         |\n",
    "| LIMIT                               | \\$limit                        |\n",
    "| SUM()   \t                          | \\$sum                          |\n",
    "| COUNT()\t                          | \\$sum                          |\n",
    "| join\t                              | \\$lookup                       |"
   ]
  },
  {
   "cell_type": "markdown",
   "metadata": {},
   "source": [
    "But...thanks to MongoDB's nested data structures, we can also do a lot of things we can't do in a relational database. \n",
    "\n",
    "### Length    \n",
    "Let's look for some entries that have way too many keywords:"
   ]
  },
  {
   "cell_type": "code",
   "execution_count": 34,
   "metadata": {},
   "outputs": [
    {
     "name": "stdout",
     "output_type": "stream",
     "text": [
      "{'_id': ObjectId('5d814912a20ce1b8b05c03e1'),\n",
      " 'accessLevel': 'public',\n",
      " 'description': 'The data contain raw and processed values concerning wave '\n",
      "                'size and direction, energy spectral data (both original and '\n",
      "                'processed), and, where available, sea surface temperature, '\n",
      "                'air temperature and pressure, wind speed and direction. The '\n",
      "                'data are collected in real-time and transmitted to CDIP at '\n",
      "                'SIO, La Jolla, CA, where it is processed and submitted to '\n",
      "                'quality control procedures.',\n",
      " 'keywords': ['DOC/NOAA/NESDIS/NODC > National Oceanographic Data Center',\n",
      "              'NESDIS',\n",
      "              'NOAA',\n",
      "              'U.S. Department of Commerce',\n",
      "              'DOC/NOAA/NESDIS/NCEI > National Centers for Environmental '\n",
      "              'Information',\n",
      "              'NESDIS',\n",
      "              'NOAA',\n",
      "              'U.S. Department of Commerce',\n",
      "              'oceanography',\n",
      "              'Datawell Mark 3 directional buoy',\n",
      "              'Digital Paros pressure sensor',\n",
      "              'RM Young anemometer',\n",
      "              '028',\n",
      "              '029',\n",
      "              '036',\n",
      "              '043',\n",
      "              '045',\n",
      "              '067',\n",
      "              '071',\n",
      "              '073',\n",
      "              '076',\n",
      "              '092',\n",
      "              '093',\n",
      "              '094',\n",
      "              '096',\n",
      "              '098',\n",
      "              '100',\n",
      "              '106',\n",
      "              '107',\n",
      "              '111',\n",
      "              '121',\n",
      "              '132',\n",
      "              '134',\n",
      "              '138',\n",
      "              '139',\n",
      "              '142',\n",
      "              '143',\n",
      "              '144',\n",
      "              '146',\n",
      "              '147',\n",
      "              '150',\n",
      "              '154',\n",
      "              '156',\n",
      "              '157',\n",
      "              '158',\n",
      "              '160',\n",
      "              '162',\n",
      "              '163',\n",
      "              '165',\n",
      "              '166',\n",
      "              '168',\n",
      "              '179',\n",
      "              '181',\n",
      "              '185',\n",
      "              '186',\n",
      "              '187',\n",
      "              '188',\n",
      "              '189',\n",
      "              '191',\n",
      "              '192',\n",
      "              '196',\n",
      "              '197',\n",
      "              '198',\n",
      "              '200',\n",
      "              '201',\n",
      "              '202',\n",
      "              '203',\n",
      "              '204',\n",
      "              '205',\n",
      "              '207',\n",
      "              '209',\n",
      "              '210',\n",
      "              '212',\n",
      "              '213',\n",
      "              '214',\n",
      "              '215',\n",
      "              '216',\n",
      "              '430',\n",
      "              '433',\n",
      "              '(UNK)',\n",
      "              '41108',\n",
      "              '41110',\n",
      "              '41112',\n",
      "              '41113',\n",
      "              '41114',\n",
      "              '41115',\n",
      "              '42098',\n",
      "              '42099',\n",
      "              '44056',\n",
      "              '44091',\n",
      "              '44093',\n",
      "              '44094',\n",
      "              '44095',\n",
      "              '44096',\n",
      "              '44097',\n",
      "              '44098',\n",
      "              '44099',\n",
      "              '44100',\n",
      "              '46108',\n",
      "              '46114',\n",
      "              '46211',\n",
      "              '46213',\n",
      "              '46214',\n",
      "              '46215',\n",
      "              '46216',\n",
      "              '46217',\n",
      "              '46218',\n",
      "              '46219',\n",
      "              '46221',\n",
      "              '46222',\n",
      "              '46223',\n",
      "              '46224',\n",
      "              '46225',\n",
      "              '46229',\n",
      "              '46231',\n",
      "              '46232',\n",
      "              '46236',\n",
      "              '46237',\n",
      "              '46239',\n",
      "              '46240',\n",
      "              '46242',\n",
      "              '46243',\n",
      "              '46244',\n",
      "              '46246',\n",
      "              '46248',\n",
      "              '46251',\n",
      "              '46252',\n",
      "              '46253',\n",
      "              '46254',\n",
      "              '46255',\n",
      "              '46256',\n",
      "              '46257',\n",
      "              '51201',\n",
      "              '51202',\n",
      "              '51203',\n",
      "              '51204',\n",
      "              '51205',\n",
      "              '51206',\n",
      "              '51207',\n",
      "              '51208',\n",
      "              '51209',\n",
      "              '52200',\n",
      "              '52201',\n",
      "              '52202',\n",
      "              '52211',\n",
      "              'LJPC1'],\n",
      " 'lang': ['en-US'],\n",
      " 'title': 'Physical and meteorological data from the Scripps Institution of '\n",
      "          'Oceanography (SIO) Coastal Data Information Program (CDIP) stations '\n",
      "          'from 2015-01-01 to 2015-07-31 (NODC Accession 0127378)'}\n",
      "{'_id': ObjectId('5d814912a20ce1b8b05c03ed'),\n",
      " 'accessLevel': 'public',\n",
      " 'description': 'The National Water Level Observation Network (NWLON) is a '\n",
      "                'network of long-term water level stations operated and '\n",
      "                'maintained by CO-OPS. NWLON stations are located on '\n",
      "                'shore-based platforms, and primarily collect real-time water '\n",
      "                'level measurements. As of January 2013, approximately 180 of '\n",
      "                '210 NWLON stations also collect real-time meteorological '\n",
      "                'data. About 20 CO-OPS Physical Oceanographic Real-Time '\n",
      "                'Systems (PORTS) comprise a group of water level stations, and '\n",
      "                '65 of these stations also collect real-time meteorological '\n",
      "                'data. Data parameters include barometric pressure, wind '\n",
      "                'direction, speed and gust, air temperature, and water '\n",
      "                'temperature.',\n",
      " 'keywords': ['DOC/NOAA/NESDIS/NODC > National Oceanographic Data Center',\n",
      "              'NESDIS',\n",
      "              'NOAA',\n",
      "              'U.S. Department of Commerce',\n",
      "              'DOC/NOAA/NESDIS/NCEI > National Centers for Environmental '\n",
      "              'Information',\n",
      "              'NESDIS',\n",
      "              'NOAA',\n",
      "              'U.S. Department of Commerce',\n",
      "              'oceanography',\n",
      "              '1611400 - NWWH1',\n",
      "              '1612340 - OOUH1',\n",
      "              '1612480 - MOKH1',\n",
      "              '1615680 - KLIH1',\n",
      "              '1617433 - KWHH1',\n",
      "              '1617760 - ILOH1',\n",
      "              '1619910 - SNDP5',\n",
      "              '1630000 - APRP7',\n",
      "              '1631428 - PGBP7',\n",
      "              '1770000 - NSTP6',\n",
      "              '1820000 - KWJP8',\n",
      "              '1890000 - WAKP8',\n",
      "              '2695540 - BEPB6',\n",
      "              '8311030 - OBGN6',\n",
      "              '8311062 - ALXN6',\n",
      "              '8410140 - PSBM1',\n",
      "              '8411060 - CFWM1',\n",
      "              '8413320 - ATGM1',\n",
      "              '8418150 - CASM1',\n",
      "              '8419317 - WELM1',\n",
      "              '8443970 - BHBM3',\n",
      "              '8447386 - FRVM3',\n",
      "              '8447387 - BLTM3',\n",
      "              '8447412 - FRXM3',\n",
      "              '8447930 - BZBM3',\n",
      "              '8449130 - NTKM3',\n",
      "              '8452660 - NWPR1',\n",
      "              '8452944 - CPTR1',\n",
      "              '8452951 - PTCR1',\n",
      "              '8454000 - FOXR1',\n",
      "              '8454049 - QPTR1',\n",
      "              '8461490 - NLNC3',\n",
      "              '8465705 - NWHC3',\n",
      "              '8467150 - BRHC3',\n",
      "              '8510560 - MTKN6',\n",
      "              '8516945 - KPTN6',\n",
      "              '8518750 - BATN6',\n",
      "              '8519483 - BGNN4',\n",
      "              '8519532 - MHRN6',\n",
      "              '8530973 - ROBN4',\n",
      "              '8531680 - SDHN4',\n",
      "              '8534720 - ACYN4',\n",
      "              '8536110 - CMAN4',\n",
      "              '8537121 - SJSN4',\n",
      "              '8539094 - BDRN4',\n",
      "              '8540433 - MRCP1',\n",
      "              '8545240 - PHBP1',\n",
      "              '8548989 - NBLP1',\n",
      "              '8551762 - DELD1',\n",
      "              '8551910 - RDYD1',\n",
      "              '8557380 - LWSD1',\n",
      "              '8570283 - OCIM2',\n",
      "              '8571421 - BISM2',\n",
      "              '8571892 - CAMM2',\n",
      "              '8573364 - TCBM2',\n",
      "              '8573927 - CHCM2',\n",
      "              '8574680 - BLTM2',\n",
      "              '8574728 - FSKM2',\n",
      "              '8575512 - APAM2',\n",
      "              '8577018 - COVM2',\n",
      "              '8577330 - SLIM2',\n",
      "              '8578240 - PPTM2',\n",
      "              '8594900 - WASD2',\n",
      "              '8631044 - WAHV2',\n",
      "              '8632200 - KPTV2',\n",
      "              '8632837 - RPLV2',\n",
      "              '8635750 - LWTV2',\n",
      "              '8637611 - YKRV2',\n",
      "              '8637689 - YKTV2',\n",
      "              '8638511 - DOMV2',\n",
      "              '8638610 - SWPV2',\n",
      "              '8638614 - WDSV2',\n",
      "              '8638863 - CBBV2',\n",
      "              '8638999 - CHYV2',\n",
      "              '8639348 - MNPV2',\n",
      "              '8651370 - DUKN7',\n",
      "              '8652587 - ORIN7',\n",
      "              '8654467 - HCGN7',\n",
      "              '8656483 - BFTN7',\n",
      "              '8658120 - WLON7',\n",
      "              '8658163 - JMPN7',\n",
      "              '8661070 - MROS1',\n",
      "              '8665530 - CHTS1',\n",
      "              '8670870 - FPKG1',\n",
      "              '8720030 - FRDF1',\n",
      "              '8720215 - NFDF1',\n",
      "              '8720218 - MYPF1',\n",
      "              '8720219 - DMSF1',\n",
      "              '8720228 - LTJF1',\n",
      "              '8720233 - BLIF1',\n",
      "              '8720357 - BKBF1',\n",
      "              '8720503 - GCVF1',\n",
      "              '8721604 - TRDF1',\n",
      "              '8722670 - LKWF1',\n",
      "              '8723214 - VAKF1',\n",
      "              '8723970 - VCAF1',\n",
      "              '8724580 - KYWF1',\n",
      "              '8725110 - NPSF1',\n",
      "              '8725520 - FMRF1',\n",
      "              '8726384 - PMAF1',\n",
      "              '8726412 - MTBF1',\n",
      "              '8726520 - SAPF1',\n",
      "              '8726607 - OPTF1',\n",
      "              '8726667 - MCYF1',\n",
      "              '8726679 - TSHF1',\n",
      "              '8726694 - TPAF1',\n",
      "              '8726724 - CWBF1',\n",
      "              '8727520 - CKYF1',\n",
      "              '8728690 - APCF1',\n",
      "              '8729108 - PACF1',\n",
      "              '8729210 - PCBF1',\n",
      "              '8729840 - PCLF1',\n",
      "              '8732828 - WBYA1',\n",
      "              '8734673 - FMOA1',\n",
      "              '8735180 - DILA1',\n",
      "              '8736163 - MBPA1',\n",
      "              '8736897 - MCGA1',\n",
      "              '8737005 - PTOA1',\n",
      "              '8737048 - OBLA1',\n",
      "              '8741003 - PTBM6',\n",
      "              '8741041 - ULAM6',\n",
      "              '8741094 - RARM6',\n",
      "              '8741501 - DKCM6',\n",
      "              '8741533 - PNLM6',\n",
      "              '8747437 - WYCM6',\n",
      "              '8760721 - PILL1',\n",
      "              '8760922 - PSTL1',\n",
      "              '8761305 - SHBL1',\n",
      "              '8761724 - GISL1',\n",
      "              '8761927 - NWCL1',\n",
      "              '8761955 - CARL1',\n",
      "              '8762482 - BYGL1',\n",
      "              '8762484 - FREL1',\n",
      "              '8764044 - TESL1',\n",
      "              '8764227 - AMRL1',\n",
      "              '8764314 - EINL1',\n",
      "              '8766072 - FRWL1',\n",
      "              '8767816 - LCLL1',\n",
      "              '8767961 - BKTL1',\n",
      "              '8768094 - CAPL1',\n",
      "              '8770570 - SBPT2',\n",
      "              '8770613 - MGPT2',\n",
      "              '8771013 - EPTT2',\n",
      "              '8771341 - GNJT2',\n",
      "              '8771450 - GTOT2',\n",
      "              '8772447 - FCGT2',\n",
      "              '8774770 - RCPT2',\n",
      "              '8775870 - MQTT2',\n",
      "              '8779770 - PTIT2',\n",
      "              '9014070 - AGCM4',\n",
      "              '9014090 - MBRM4',\n",
      "              '9014098 - FTGM4',\n",
      "              '9052030 - OSGN6',\n",
      "              '9052058 - RCRN6',\n",
      "              '9063012 - NIAN6',\n",
      "              '9063020 - BUFN6',\n",
      "              '9063028 - PSTN6',\n",
      "              '9063038 - EREP1',\n",
      "              '9063053 - FAIO1',\n",
      "              '9063063 - CNDO1',\n",
      "              '9063079 - MRHO1',\n",
      "              '9063085 - THRO1',\n",
      "              '9075014 - HRBM4',\n",
      "              '9075065 - LPNM4',\n",
      "              '9075080 - MACM4',\n",
      "              '9075099 - DTLM4',\n",
      "              '9076024 - RCKM4',\n",
      "              '9076027 - WNEM4',\n",
      "              '9076033 - LTRM4',\n",
      "              '9076070 - SWPM4',\n",
      "              '9087023 - LDTM4',\n",
      "              '9087031 - HLNM4',\n",
      "              '9087044 - CMTI2',\n",
      "              '9087069 - KWNW3',\n",
      "              '9087088 - MNMM4',\n",
      "              '9087096 - PNLM4',\n",
      "              '9099004 - PTIM4',\n",
      "              '9099018 - MCGM4',\n",
      "              '9099064 - DULM5',\n",
      "              '9099090 - GDMM5',\n",
      "              '9410170 - SDBC1',\n",
      "              '9410172 - IIWC1',\n",
      "              '9410230 - LJAC1',\n",
      "              '9410660 - OHBC1',\n",
      "              '9410665 - PRJC1',\n",
      "              '9410670 - PFXC1',\n",
      "              '9410840 - ICAC1',\n",
      "              '9411340 - NTBC1',\n",
      "              '9411406 - HRVC1',\n",
      "              '9412110 - PSLC1',\n",
      "              '9413450 - MTYC1',\n",
      "              '9414290 - FTPC1',\n",
      "              '9414296 - PXSC1',\n",
      "              '9414311 - PXOC1',\n",
      "              '9414523 - RTYC1',\n",
      "              '9414750 - AAMC1',\n",
      "              '9414763 - LNDC1',\n",
      "              '9414769 - OMHC1',\n",
      "              '9414776 - OKXC1',\n",
      "              '9414797 - OBXC1',\n",
      "              '9414847 - PPXC1',\n",
      "              '9414863 - RCMC1',\n",
      "              '9415020 - PRYC1',\n",
      "              '9415102 - MZXC1',\n",
      "              '9415115 - PSBC1',\n",
      "              '9415118 - UPBC1',\n",
      "              '9415141 - DPXC1',\n",
      "              '9415144 - PCOC1',\n",
      "              '9416841 - ANVC1',\n",
      "              '9418767 - HBYC1',\n",
      "              '9419750 - CECC1',\n",
      "              '9431647 - PORO3',\n",
      "              '9432780 - CHAO3',\n",
      "              '9435380 - SBEO3',\n",
      "              '9437540 - TLBO3',\n",
      "              '9439040 - ASTO3',\n",
      "              '9440422 - LOPW1',\n",
      "              '9440910 - TOKW1',\n",
      "              '9441102 - WPTW1',\n",
      "              '9442396 - LAPW1',\n",
      "              '9444090 - PTAW1',\n",
      "              '9444900 - PTWW1',\n",
      "              '9446482 - TCMW1',\n",
      "              '9446484 - TCNW1',\n",
      "              '9447130 - EBSW1',\n",
      "              '9449424 - CHYW1',\n",
      "              '9449880 - FRDW1',\n",
      "              '9450460 - KECA2',\n",
      "              '9451054 - PLXA2',\n",
      "              '9451600 - ITKA2',\n",
      "              '9452210 - JNEA2',\n",
      "              '9452400 - SKTA2',\n",
      "              '9452634 - ELFA2',\n",
      "              '9453220 - YATA2',\n",
      "              '9454050 - CRVA2',\n",
      "              '9454240 - VDZA2',\n",
      "              '9455090 - SWLA2',\n",
      "              '9455500 - OVIA2',\n",
      "              '9455760 - NKTA2',\n",
      "              '9455920 - ANTA2',\n",
      "              '9457292 - KDAA2',\n",
      "              '9457804 - ALIA2',\n",
      "              '9459450 - SNDA2',\n",
      "              '9459881 - KGCA2',\n",
      "              '9461380 - ADKA2',\n",
      "              '9461710 - ATKA2',\n",
      "              '9462450 - OLSA2',\n",
      "              '9462620 - UNLA2',\n",
      "              '9463502 - PMOA2',\n",
      "              '9464212 - VCVA2',\n",
      "              '9468756 - NMTA2',\n",
      "              '9491094 - RDDA2',\n",
      "              '9497645 - PRDA2',\n",
      "              '9751364 - CHSV3',\n",
      "              '9751381 - LAMV3',\n",
      "              '9751401 - LTBV3',\n",
      "              '9751639 - CHAV3',\n",
      "              '9752695 - ESPP4',\n",
      "              '9755371 - SJNP4',\n",
      "              '9759110 - MGIP4',\n",
      "              '9759394 - MGZP4',\n",
      "              '9759412 - AUDP4',\n",
      "              '9759938 - MISP4',\n",
      "              '9761115 - BARA9',\n",
      "              'air_temperature_sensor',\n",
      "              'anemometer',\n",
      "              'barometer',\n",
      "              'ct_sensor',\n",
      "              'humidity_sensor',\n",
      "              'ocean_temperature_sensor',\n",
      "              'visibility_sensor',\n",
      "              'air_pressure_at_sea_level',\n",
      "              'air_temperature',\n",
      "              'dew_point_temperature',\n",
      "              'relative_humidity',\n",
      "              'sea_surface_temperature',\n",
      "              'time',\n",
      "              'visibility_in_air',\n",
      "              'wind_from_direction',\n",
      "              'wind_speed',\n",
      "              'wind_speed_of_gust'],\n",
      " 'lang': ['en-US'],\n",
      " 'title': 'Coastal meteorological and water temperature data from National '\n",
      "          'Water Level Observation Network (NWLON) and Physical Oceanographic '\n",
      "          'Real-Time System (PORTS) stations of the NOAA Center for '\n",
      "          'Operational Oceanographic Products and Services (CO-OPS) during '\n",
      "          'July 2015 (NCEI Accession 0131097)'}\n"
     ]
    }
   ],
   "source": [
    "cursor = db.records.find({\"$where\": \"this.keywords.length > 100\"}).limit(2);\n",
    "for rec in cursor:\n",
    "    pprint(rec)"
   ]
  },
  {
   "cell_type": "markdown",
   "metadata": {},
   "source": [
    "### Full text search with a text index\n",
    "One of the things that makes MongoDB special is that it enables us to create search indexes. Indexes provide high performance read operations for frequently used queries.\n",
    "\n",
    "In particular, a __text index__ will enable us to search for string content in a collection. _Keep in mind that a collection can have at most one text index._ \n",
    "\n",
    "We will create a text index on the description field so that we can search inside our NOAA records text:"
   ]
  },
  {
   "cell_type": "code",
   "execution_count": 35,
   "metadata": {},
   "outputs": [
    {
     "data": {
      "text/plain": [
       "'description_text'"
      ]
     },
     "execution_count": 35,
     "metadata": {},
     "output_type": "execute_result"
    }
   ],
   "source": [
    "db.records.create_index([('description', 'text')])"
   ]
  },
  {
   "cell_type": "markdown",
   "metadata": {},
   "source": [
    "To test our newly created text index on the description field, we will search documents using the `$text` operator. Let's start by looking for all the documents that have the word 'precipitation' in their description field. "
   ]
  },
  {
   "cell_type": "code",
   "execution_count": 36,
   "metadata": {},
   "outputs": [
    {
     "name": "stdout",
     "output_type": "stream",
     "text": [
      "{'_id': ObjectId('5d814912a20ce1b8b05c03a7'), 'title': 'Monthly Mean Precipitation Sums at Russian Arctic Stations, 1966-1990', 'description': 'This data set contains monthly mean precipitation sums from Russian arctic stations. Precipitation measurements were acquired using a Tretyakov precipitation gauge. Data have not been adjusted for wind bias. Data from 1967 and later are corrected for wetting loss (this correction was made by observers as they recorded the station data). Precipitation measurements from 216 stations are available. An analysis of existing precipitation data sets confirmed that data from these stations are not, at the time of publication, available in other commonly used precipitation data sets. Most data records begin in 1966 and end in 1990. The data are in tab-delimited ASCII format and available via FTP.', 'keywords': ['Continent > Europe > Eastern Europe > Russia', 'Geographic Region > Arctic', 'Geographic Region > Northern Hemisphere', 'EARTH SCIENCE > Atmosphere > Precipitation > Precipitation Amount', 'Arctic', 'NOAA', 'Russian Arctic', 'SEARCH > Study of Environmental Arctic Change'], 'accessLevel': 'public', 'lang': ['en-US']}\n",
      "{'_id': ObjectId('5d814912a20ce1b8b05c05f9'), 'title': 'Climate Prediction Center (CPC) Global Precipitation Time Series', 'description': 'The global precipitation time series provides time series charts showing observations of daily precipitation as well as accumulated precipitation compared to normal accumulated amounts for various stations around the world. These charts are created for different scales of time (30, 90, 365 days). Each station has a graphic that contains two charts. The first chart in the graphic is a time series in the format of a line graph, representing accumulated precipitation for each day in the time series compared to the accumulated normal amount of precipitation. The second chart is a bar graph displaying actual daily precipitation. The total accumulation and surplus or deficit amounts are displayed as text on the charts representing the entire time scale, in both inches and millimeters. The graphics are updated daily and the graphics reflect the updated observations and accumulated precipitation amounts including the latest daily data available. The available graphics are rotated, meaning that only the most recently created graphics are available. Previously made graphics are not archived.', 'keywords': ['Atmosphere > Precipitation > Precipitation Amount', 'precipitation', 'precipitation amount', 'Geographic Region > Global Land', 'Vertical Location > Land Surface', 'climatologyMeteorologyAtmosphere'], 'accessLevel': 'public', 'lang': ['en-US']}\n",
      "{'_id': ObjectId('5d814912a20ce1b8b05c03b0'), 'title': 'Adjusted Monthly Precipitation, Snowfall and Rainfall for Canada (1874-1990)', 'description': \"This data set was distributed by NSIDC until October, 2003, when it was withdrawn from distribution because it duplicates the NOAA National Climatic Data Center (NCDC) data set TD-9816 'Canadian Monthly Precipitation' (Groisman, P.Y. 1998. National Climatic Data Center Data Documentation for TD-9816, Canadian Monthly Precipitation. National Climatic Data Center 151 Patton Ave., Asheville, NC. 21 pp.). TD-9816 contains monthly rainfall, snowfall and precipitation (the sum of rainfall and snowfall) values from 6,692 stations in Canada. NCDC investigator Pavel Groisman obtained the original data from the Canadian Atmospheric Environment Service (AES) in the early 1990s and adjusted the measurements to account for inconsistencies and changes in instrumentation over the period of record. TD-9816 contains both the original and adjusted data. Related data are the Historical Adjusted Climate Database for Canada, Version December 2002, and Rehabilitated Precipitation and Homogenized Temperature Data Sets provided by the Climate Monitoring and Data Interpretation Division's Climate Research Branch, Meteorological Service of Canada. Monthly Rehabilitated Precipitation and Homogenized Temperature Data Sets (updated annually) includes an alternative version of this data set using different correction methods. It is distributed by the Meteorological Service of Canada, who also provides a Microsoft Word document that compares the two different data correction methods.\", 'keywords': ['Continent > North America > Canada', 'Geographic Region > Arctic', 'EARTH SCIENCE > Atmosphere > Precipitation > Precipitation Amount', 'EARTH SCIENCE > Atmosphere > Precipitation > Precipitation Rate', 'EARTH SCIENCE > Atmosphere > Precipitation > Rain', 'EARTH SCIENCE > Atmosphere > Precipitation > Snow', 'EARTH SCIENCE > Terrestrial Hydrosphere > Snow/Ice > Snow Cover', 'EOSDIS > Earth Observing System Data Information System', 'ESIP > Earth Science Information Partners Program', 'Adjusted Data', 'Canada', 'Canadian Arctic', 'Corrected Data', 'Evaporation Loss', 'Ground Stations', 'Instrumental Inhomogeneities', 'Mean Monthly Precipitation', 'Mean Monthly Rainfall', 'MEAN MONTHLY SNOWFALL', 'Nipher Rain Gauge', 'Nipher Snow Gauge', 'NOAA', 'Rainfall Adjustment', 'Snowfall Adjustment', 'Snow Ruler', 'Station Data', 'Trace Precipitation', 'Wetting Loss', 'Wind-induced Undercatch'], 'accessLevel': 'public', 'lang': ['en-US']}\n",
      "{'_id': ObjectId('5d814912a20ce1b8b05c0618'), 'title': 'CMORPH 8 Km: A Method that Produces Global Precipitation Estimates from Passive Microwave and Infrared Data at High Spatial and Temporal Resolution', 'description': 'A new technique is presented in which half-hourly global precipitation estimates derived from passive microwave satellite scans are propagated by motion vectors derived from geostationary satellite infrared data. The Climate Prediction Center morphing method (CMORPH) uses motion vectors derived from half-hourly interval geostationary satellite IR imagery to propagate the relatively high quality precipitation estimates derived from passive microwave data. In addition, the shape and intensity of the precipitation features are modified (morphed) during the time between microwave sensor scans by performing a time-weighted linear interpolation. This process yields spatially and temporally complete microwave-derived precipitation analyses, independent of the infrared temperature field. CMORPH showed substantial improvements over both simple averaging of the microwave estimates and over techniques that blend microwave and infrared information but that derive estimates of precipitation from infrared data when passive microwave information is unavailable. In particular, CMORPH outperforms these blended techniques in terms of daily spatial correlation with a validating rain gauge analysis over Australia by an average of 0.14, 0.27, 0.26, 0.22, and 0.20 for April, May, June to August, September, and October 2003 respectively. CMORPH also yields higher equitable threat scores over Australia for the same periods by an average of 0.11, 0.14, 0.13, 0.14, and 0.13. Over the United States for June to August, September, and October 2003, spatial correlation was higher for CMORPH relative to the average of the same techniques by an average of 0.10, 0.13, and 0.13, respectively, and equitable threat scores were higher by an average of 0.06, 0.09, and 0.10 respectively.', 'keywords': ['Atmosphere > Precipitation > Precipitation Rate', 'Atmosphere > Precipitation > Hydrometeors', 'Atmosphere > Precipitation > Precipitation Amount', 'Atmosphere > Precipitation > Precipitation Anomalies', 'Atmosphere > Precipitation > Rain', 'precipitation', 'satellite', 'passive microwave', 'morphing', 'Geographic Region > Global', 'Vertical Location > Land Surface', 'Vertical Location > Troposphere', 'ClimatologyMeteorologyAtmosphere'], 'accessLevel': 'public', 'lang': ['en-US']}\n",
      "{'_id': ObjectId('5d814912a20ce1b8b05c0606'), 'title': 'Climate Prediction Center (CPC) Palmer Drought and Crop Moisture Indices', 'description': 'Climate Prediction Center (CPC) Palmer Drought Severity and Crop Moisture Indices are computed for the 344 U.S. Climate Divisions on a weekly basis based on a minimum of the previous 4 weeks (1 month) of observed temperatures and precipitation. Each climate division record includes a weekly averaged atmospheric temperature, precipitation, soil moisture in the upper and lower layers, percentage of flood capacity, potential evaporation, runoff, crop moisture and change from previous week, monthly moisture anomaly, preliminary or final Palmer Drought Severity Index (PDSI), and precipitation needed to end drought value. The CPC preliminary data are collected in near real-time from ground stations throughout the U.S., and are displayed in tabular form. The preliminary values are replaced by quality controlled data from the National Climatic Data Center with an approximate time lag of 3 to 6 months.', 'keywords': ['Climate Indicators > Drought/Precipitation Indices > Palmer Drought Crop Moisture Index', 'Atmosphere > Atmospheric Phenomena > Drought', 'Climate Indicators > Drought/Precipitation Indices > Crop Moisture Index', 'Climate Indicators > Drought/Precipitation Indices > Palmer Drought Severity Index', 'Climate Indicators > Drought/Precipitation Indices > PDSI', 'Atmosphere > Atmospheric Temperature > Air Temperature', 'Atmosphere > Atmospheric Temperature > Surface Air Temperature', 'Atmosphere > Precipitation > Precipitation Amount', 'precipitation', 'temperature', 'drought', 'Crop Moisture Index', 'Palmer Drought Severity Index', 'Z Index', 'Continent > North America > United States of America', 'Vertical Location > Land Surface', 'limatologyMeteorologyAtmosphere'], 'accessLevel': 'public', 'lang': ['en-US']}\n",
      "{'_id': ObjectId('5d814912a20ce1b8b05c05d8'), 'title': 'Climate Prediction Center (CPC) NCEP-Global Forecast System (GFS) Precipitation Forecast Product', 'description': 'The Global Forecast System (GFS) forecast precipitation data at 37.5km resolution is created at the NOAA Climate Prediction Center for the purpose of near real-time usage by the national and international relief agencies and the general public. The users of this data include the U.S. Geological Survey (USGS), the U.S. Agency for International Development (USAID), the Joint Agricultural Weather Facility (JAWF) and the national Meteorological Centers in Africa, Asia and South America. The data is disseminated in the binary format as well as in the form of shape and tiff files for use by the GIS community. This data has seven individual 24-hour accumulated precipitation amounts (in millimeters) corresponding to the seven forecast days and one for the grand total of accumulated 7day total precipitation (in millimeters). Thus, the represented forecast fields have 8 Geotiff files and 8 shape files. All these files are zipped into a single file (per day).', 'keywords': ['Atmosphere > Precipitation > Precipitation Amount', 'Geographic Region > Global', 'Vertical Location > Land Surface', 'Vertical Location > Sea Surface', 'climatologyMeteorologyAtmosphere'], 'accessLevel': 'public', 'lang': ['en-US']}\n",
      "{'_id': ObjectId('5d814912a20ce1b8b05c060c'), 'title': 'Climate Prediction Center (CPC) Africa Rainfall Climatology Version 2.0 (ARC2)', 'description': 'As of 2012, a new gridded, daily 30 year precipitation estimation dataset centered over Africa at 0.1? spatial resolution has been developed. The Africa Rainfall Climatology version 2 (ARC2) is a revision of the first version of the ARC and is consistent with the operational Rainfall Estimation, version 2, algorithm (RFE2). ARC2 uses inputs from two sources: 1) 3-hourly geostationary infrared (IR) data centered over Africa from the European Organization for the Exploitation of Meteorological Satellites (EUMETSAT) and 2) quality controlled Global Telecommunication System (GTS) gauge observations reporting 24-hour rainfall accumulations over Africa. The main difference between with ARC2 resides in the recalibration of all Meteosat First Generation (MFG) IR data (1983-2005). Validation and inter-comparison results show that ARC2 is a major improvement over ARC1, and is consistent with other long-term historical datasets such as Global Precipitation Climatology Project (GPCP) and Climate Prediction Center Merged Analysis of Precipitation (CMAP).', 'keywords': ['Atmosphere > Precipitation > Precipitation Amount', 'Atmosphere > Precipitation > Rain', 'Atmosphere > Precipitation > Precipitation Rate', 'EARTH SCIENCE', 'ATMOSPHERE', 'PRECIPITATION', 'RAIN', 'DROUGHT', 'FLOODING', 'Continent > Africa', 'climatologyMeteorologyAtmosphere'], 'accessLevel': 'public', 'lang': ['en-US']}\n",
      "{'_id': ObjectId('5d814912a20ce1b8b05c0608'), 'title': 'Climate Prediction Center (CPC) Three Month Probabilistic Precipitation Outlook for the Contiguous United States and Alaska', 'description': 'The Climate Prediction Center (CPC) issues a series of thirteen probabilistic three-month precipitation outlooks for the United States. CPC issues the thirteen outlooks each month with lead times from 0.5 months to 12.5 months. For example, in mid-January, CPC will issue Three-Month Precipitation Outlooks for February through April, March through May, April through June, and so on into February through April of the following year. A new set of outlooks would then be released in mid-February for March through May, April through June, and so on into March through May of the following year. CPC expresses the outlooks in a 3-category probabilistic format as the chance the total precipitation for the period will be above, below, or near median. CPC bases its definition of above median, near median, and below median by fitting a Gamma distribution to a thirty year climatology and dividing this distribution into equally likely thirds. Note that the base period for the thirty year climatology (currently beginning in 1981 and ending in 2010) is updated once per decade. CPC indicates the probability of the most likely category with shaded contours and labels the centers of maximum probability with the letters \"A\" (for Above Median), \"B\" (for Below Median), or \"N\" (for Near Median). For areas where a favored category cannot be determined, CPC indicates those areas with an \"EC\" meaning \"Equal Chances\". CPC also accompanies the outlook maps with a technical discussion of the meteorological and climatological basis for the outlooks. CPC may include analysis of statistical and numerical models, meteorological and sea-surface temperature patterns, trends and past analogs, and confidence factors in this technical discussion.', 'keywords': ['Atmosphere > Precipitation > Precipitation Amount', 'Atmosphere > Precipitation > Precipitation Anomalies', 'Atmosphere > Precipitation > Precipitation Rate', 'Precipitation Anomalies', 'Precipitation Probabilities', 'Seasonal Outlooks', 'Seasonal Precipitation', 'Three Month Outlooks', 'Three Month Precipitation', 'Precipitation Categories', 'Precipitation', 'precipitation Categories', 'long range weather forecast', 'long range forecast', 'long term weather forecast', 'noaa long range forecast', 'long range weather forecast noaa', 'long range forecast noaa', 'long term forecast', 'noaa long range', 'long term weather forecast noaa', 'noaa long term forecast', 'national weather service long range forecast', 'noaa long range weather forecast', 'long range weather', '90 day forecast', '90 day weather forecast', 'nws long range forecast', 'long term weather outlook', 'climate forecast', 'climate outlook', 'long term forecast noaa', 'Continent > North America > United States of America', 'Vertical Location > Boundary layer', 'climatologyMeteorologyAtmosphere'], 'accessLevel': 'public', 'lang': ['en-US']}\n",
      "{'_id': ObjectId('5d814912a20ce1b8b05c05ef'), 'title': 'Climate Prediction Center (CPC) One Month Probabilistic Precipitation Outlook for the Contiguous United States and Alaska', 'description': 'The Climate Prediction Center (CPC) issues a probabilistic one-month precipitation outlook for the United States twice a month. CPC issues an initial monthly outlook with a lead time of 0.5 months on the third Thursday of every month. CPC issues an updated version of the monthly outlook with a lead time of 0.0 months on the last day of each month. For example, in mid-January, CPC will issue a One-Month Probabilistic Precipitation Outlook for February. An updated version of this outlook (valid for February) would then be issued at the end of January. New outlooks, valid for March, would then be released in mid-February and the end of February, respectively. CPC expresses the outlooks in a 3-category probabilistic format as the chance the total precipitation for the period will be above, below, or near median. CPC bases its definition of above median, near median, and below median by fitting a Gamma distribution to a thirty year climatology and dividing this distribution into equally likely thirds. Note that the base period for the thirty year climatology (currently beginning in 1981 and ending in 2010) is updated once per decade. CPC indicates the probability of the most likely category with shaded contours and labels the centers of maximum probability with the letters \"A\" (for Above Median), \"B\" (for Below Median), or \"N\" (for Near Median). For areas where a favored category cannot be determined, CPC indicates those areas with an \"EC\" meaning \"Equal Chances\". CPC also accompanies the outlook maps with a technical discussion of the meteorological and climatological basis for the outlooks. CPC may include analysis of statistical and numerical models, meteorological and sea-surface temperature patterns, trends and past analogs, and confidence factors in this technical discussion.', 'keywords': ['Atmosphere > Precipitation > Precipitation Amount', 'Atmosphere > Precipitation > Precipitation Anomalies', 'Atmosphere > Precipitation > Precipitation Rate', 'Precipitation Anomalies', 'Precipitation Probabilities', 'Seasonal Outlooks', 'Seasonal Precipitation', 'Monthly Outlooks', 'Monthly Precipitation', 'One Month Outlooks', 'One Month Precipitation', 'Precipitation Categories', 'Precipitation', 'precipitation Categories', 'long range weather forecast', 'long range forecast', 'long term weather forecast', 'noaa long range forecast', 'long range weather forecast noaa', 'long range forecast noaa', 'long term forecast', 'noaa long range', 'long term weather forecast noaa', 'noaa long term forecast', 'national weather service long range forecast', 'noaa long range weather forecast', 'long range weather', '30 day forecast', '30 day weather forecast', 'nws long range forecast', 'long term weather outlook', 'climate forecast', 'climate outlook', 'long term forecast noaa', 'Continent > North America > United States of America', 'Vertical Location > Boundary layer', 'climatologyMeteorologyAtmosphere'], 'accessLevel': 'public', 'lang': ['en-US']}\n",
      "{'_id': ObjectId('5d814912a20ce1b8b05c05fa'), 'title': 'Climate Prediction Center (CPC) Rainfall Estimator (RFE) for Africa', 'description': 'As of January 1, 2001, RFE version 2.0 has been implemented by NOAA?s Climate Prediction Center. Created by Ping-Ping Xie, this replaces RFE 1.0 the previous rainfall estimation algorithm that was operational from 1995 through 2000 (Herman et al., 1997). RFE 2.0 uses additional techniques to better estimate precipitation while continuing the use of cloud top temperature and station rainfall data that formed the basis of RFE 1.0. Meteosat geostationary satellite infrared data is acquired in 30-minute intervals, and areas depicting cloud top temperatures of less than 235K are used to estimate convective rainfall. WMO Global Telecommunication System (GTS) data taken from approx. 1000 stations provide accurate rainfall totals, and are assumed to be the true rainfall near each station. RFE 1.0 used an interpolation method to combine Meteosat and GTS data for daily precipitation estimates, and warm cloud information was included to obtain dekadal (10-day) estimates. The two new satellite rainfall estimation instruments that are incorporated into RFE 2.0 are the Special Sensor Microwave/Imager (SSM/I) on board Defense Meteorological Satellite Program satellites, and the Advanced Microwave Sounding Unit (AMSU). Both estimates are acquired at 6-hour intervals and have a resolution of 0.25 degrees. RFE 2.0 obtains the final daily rainfall estimation using a two part merging process, then sums daily totals to produce dekadal estimates. All satellite data is first combined using a maximum likelihood estimation method, and then GTS station data is used to remove bias. Warm cloud precipitation estimates are not included in RFE 2.0. RFE data is mainly staged for public download in binary format, but is also available in GeoTiff format.', 'keywords': ['Atmosphere > Precipitation > Precipitation Amount', 'Atmosphere > Precipitation > Rain', 'Atmosphere > Precipitation > Precipitation Rate', 'EARTH SCIENCE', 'ATMOSPHERE', 'PRECIPITATION', 'RAIN', 'DROUGHT', 'FLOODING', 'Continent > Africa', 'climatologyMeteorologyAtmosphere'], 'accessLevel': 'public', 'lang': ['en-US']}\n",
      "{'_id': ObjectId('5d814912a20ce1b8b05c05d2'), 'title': 'Climate Prediction Center(CPC)Daily GOES Precipitation Index (GPI)', 'description': 'GOES Precipitation Index (GPI) is a precipitation estimation algorithm. The GPI technique estimates tropical rainfall using cloud-top temperature as the sole predictor. The daily data are available from October 1996.', 'keywords': ['Atmosphere > Precipitation > Precipitation Amount', 'precipitation', 'Index', 'geostationary', 'Geographic Region > Tropics', 'Vertical Location > Boundary layer', 'climatologyMeteorologyAtmosphere'], 'accessLevel': 'public', 'lang': ['en-US']}\n",
      "{'_id': ObjectId('5d814912a20ce1b8b05c0612'), 'title': 'Climate Prediction Center (CPC) Monitoring of Global Monsoons', 'description': 'Patterns of totals (or means) and their anomalies in the past week (or pentad for precipitation and outgoing longwave radiation - OLR), month, and season are shown for sea surface temperature (SST), 200-mb winds, 850-mb winds, 200-mb velocity potential, soil moisture, precipitation, OLR, and 2-meter air temperature.', 'keywords': ['Atmosphere > Atmospheric Phenomena > Monsoons', 'Atmosphere > Atmospheric Phenomena > Drought', 'Atmosphere > Atmospheric Pressure > Anticyclones/Cyclones', 'Atmosphere > Atmospheric Temperature > Surface Air Temperature', 'Atmosphere > Atmospheric Pressure > Temperature Anomalies', 'Atmosphere > Atmospheric Winds > Convection', 'Atmosphere > Atmospheric Winds > Convergence/Divergence', 'Atmosphere > Atmospheric Precipitation > Precipitation Amount', 'Atmosphere > Atmospheric Precipitation > Precipitation Anomalies', 'Atmosphere > Atmospheric Precipitation > Precipitation Rate', 'Atmosphere > Atmospheric Precipitation > Rain', 'monsoon circulation', 'monsoon precipitation', 'atmosphere', 'oceans', 'land', 'Total values and anomalies', 'monitoring', 'Geographical Region > Global', 'Vertical Location > Troposphere', 'climatologyMeteorologyAtmosphere', '004'], 'accessLevel': 'public', 'lang': ['en-US']}\n",
      "{'_id': ObjectId('5d814912a20ce1b8b05c04ea'), 'title': \"72-Hour Forecast of 12 Hour Probability of Precipitation from the National Weather Service's National Digital Forecast Database (NDFD)\", 'description': \"The National Digital Forecast Database (NDFD) contains a seamless mosaic of the National Weather Service's (NWS) digital forecasts of precipitation probabilities. In collaboration with NWS National Centers for Environmental Prediction (NCEP) and NWS Weather Forecast Offices (WFO), the central NDFD server ingests 5-km, 2-dimensional grids of precipitation probabilities, and creates experimental forecast data mosaics for the coterminous United States (CONUS), Alaska, Hawaii, and Guam.\", 'keywords': ['precipitation', 'weather', 'forecasts', 'United States'], 'accessLevel': 'public', 'lang': ['en-US']}\n",
      "{'_id': ObjectId('5d814912a20ce1b8b05c04d2'), 'title': \"24-Hour Forecast of Precipitation Amounts from the National Weather Service's National Digital Forecast Database (NDFD)\", 'description': \"The National Digital Forecast Database (NDFD) contains a seamless mosaic of the National Weather Service's (NWS) digital forecasts of precipitation amounts. In collaboration with NWS National Centers for Environmental Prediction (NCEP) and NWS Weather Forecast Offices (WFO), the central NDFD server ingests 5-km, 2-dimensional grids of precipitation amounts, and creates experimental forecast data mosaics for the coterminous United States (CONUS), Alaska, Hawaii, and Guam.\", 'keywords': ['precipitation', 'weather', 'forecasts', 'United States'], 'accessLevel': 'public', 'lang': ['en-US']}\n",
      "{'_id': ObjectId('5d814912a20ce1b8b05c04b4'), 'title': \"48-Hour Forecast of Precipitation Amounts from the National Weather Service's National Digital Forecast Database (NDFD)\", 'description': \"The National Digital Forecast Database (NDFD) contains a seamless mosaic of the National Weather Service's (NWS) digital forecasts of precipitation amounts. In collaboration with NWS National Centers for Environmental Prediction (NCEP) and NWS Weather Forecast Offices (WFO), the central NDFD server ingests 5-km, 2-dimensional grids of precipitation amounts, and creates experimental forecast data mosaics for the coterminous United States (CONUS), Alaska, Hawaii, and Guam.\", 'keywords': ['precipitation', 'weather', 'forecasts', 'United States'], 'accessLevel': 'public', 'lang': ['en-US']}\n",
      "{'_id': ObjectId('5d814912a20ce1b8b05c04af'), 'title': \"48-Hour Forecast of 12 Hour Probability of Precipitation from the National Weather Service's National Digital Forecast Database (NDFD)\", 'description': \"The National Digital Forecast Database (NDFD) contains a seamless mosaic of the National Weather Service's (NWS) digital forecasts of precipitation probabilities. In collaboration with NWS National Centers for Environmental Prediction (NCEP) and NWS Weather Forecast Offices (WFO), the central NDFD server ingests 5-km, 2-dimensional grids of precipitation probabilities, and creates experimental forecast data mosaics for the coterminous United States (CONUS), Alaska, Hawaii, and Guam.\", 'keywords': ['precipitation', 'weather', 'forecasts', 'United States'], 'accessLevel': 'public', 'lang': ['en-US']}\n",
      "{'_id': ObjectId('5d814912a20ce1b8b05c04ae'), 'title': \"72-Hour Forecast of Precipitation Amounts from the National Weather Service's National Digital Forecast Database (NDFD)\", 'description': \"The National Digital Forecast Database (NDFD) contains a seamless mosaic of the National Weather Service's (NWS) digital forecasts of precipitation amounts. In collaboration with NWS National Centers for Environmental Prediction (NCEP) and NWS Weather Forecast Offices (WFO), the central NDFD server ingests 5-km, 2-dimensional grids of precipitation amounts, and creates experimental forecast data mosaics for the coterminous United States (CONUS), Alaska, Hawaii, and Guam.\", 'keywords': ['precipitation', 'weather', 'forecasts', 'United States'], 'accessLevel': 'public', 'lang': ['en-US']}\n",
      "{'_id': ObjectId('5d814912a20ce1b8b05c04a3'), 'title': \"24-Hour Forecast of 12 Hour Probability of Precipitation from the National Weather Service's National Digital Forecast Database (NDFD)\", 'description': \"The National Digital Forecast Database (NDFD) contains a seamless mosaic of the National Weather Service's (NWS) digital forecasts of precipitation probabilities. In collaboration with NWS National Centers for Environmental Prediction (NCEP) and NWS Weather Forecast Offices (WFO), the central NDFD server ingests 5-km, 2-dimensional grids of precipitation probabilities, and creates experimental forecast data mosaics for the coterminous United States (CONUS), Alaska, Hawaii, and Guam.\", 'keywords': ['precipitation', 'weather', 'forecasts', 'United States'], 'accessLevel': 'public', 'lang': ['en-US']}\n",
      "{'_id': ObjectId('5d814912a20ce1b8b05c0497'), 'title': \"24-Hour Forecast of Precipitation Amounts from the National Weather Service's National Digital Forecast Database (NDFD)\", 'description': \"The National Digital Forecast Database (NDFD) contains a seamless mosaic of the National Weather Service's (NWS) digital forecasts of precipitation amounts. In collaboration with NWS National Centers for Environmental Prediction (NCEP) and NWS Weather Forecast Offices (WFO), the central NDFD server ingests 5-km, 2-dimensional grids of precipitation amounts, and creates experimental forecast data mosaics for the coterminous United States (CONUS), Alaska, Hawaii, and Guam.\", 'keywords': ['precipitation', 'weather', 'forecasts', 'United States'], 'accessLevel': 'public', 'lang': ['en-US']}\n",
      "{'_id': ObjectId('5d814912a20ce1b8b05c0495'), 'title': \"48-Hour Forecast of 12 Hour Probability of Precipitation from the National Weather Service's National Digital Forecast Database (NDFD)\", 'description': \"The National Digital Forecast Database (NDFD) contains a seamless mosaic of the National Weather Service's (NWS) digital forecasts of precipitation probabilities. In collaboration with NWS National Centers for Environmental Prediction (NCEP) and NWS Weather Forecast Offices (WFO), the central NDFD server ingests 5-km, 2-dimensional grids of precipitation probabilities, and creates experimental forecast data mosaics for the coterminous United States (CONUS), Alaska, Hawaii, and Guam.\", 'keywords': ['precipitation', 'weather', 'forecasts', 'United States'], 'accessLevel': 'public', 'lang': ['en-US']}\n",
      "{'_id': ObjectId('5d814912a20ce1b8b05c0492'), 'title': \"72-Hour Forecast of 12 Hour Probability of Precipitation from the National Weather Service's National Digital Forecast Database (NDFD)\", 'description': \"The National Digital Forecast Database (NDFD) contains a seamless mosaic of the National Weather Service's (NWS) digital forecasts of precipitation probabilities. In collaboration with NWS National Centers for Environmental Prediction (NCEP) and NWS Weather Forecast Offices (WFO), the central NDFD server ingests 5-km, 2-dimensional grids of precipitation probabilities, and creates experimental forecast data mosaics for the coterminous United States (CONUS), Alaska, Hawaii, and Guam.\", 'keywords': ['precipitation', 'weather', 'forecasts', 'United States'], 'accessLevel': 'public', 'lang': ['en-US']}\n",
      "{'_id': ObjectId('5d814912a20ce1b8b05c0473'), 'title': \"48-Hour Forecast of Precipitation Amounts from the National Weather Service's National Digital Forecast Database (NDFD)\", 'description': \"The National Digital Forecast Database (NDFD) contains a seamless mosaic of the National Weather Service's (NWS) digital forecasts of precipitation amounts. In collaboration with NWS National Centers for Environmental Prediction (NCEP) and NWS Weather Forecast Offices (WFO), the central NDFD server ingests 5-km, 2-dimensional grids of precipitation amounts, and creates experimental forecast data mosaics for the coterminous United States (CONUS), Alaska, Hawaii, and Guam.\", 'keywords': ['precipitation', 'weather', 'forecasts', 'United States'], 'accessLevel': 'public', 'lang': ['en-US']}\n",
      "{'_id': ObjectId('5d814912a20ce1b8b05c046a'), 'title': \"72-Hour Forecast of Precipitation Amounts from the National Weather Service's National Digital Forecast Database (NDFD)\", 'description': \"The National Digital Forecast Database (NDFD) contains a seamless mosaic of the National Weather Service's (NWS) digital forecasts of precipitation amounts. In collaboration with NWS National Centers for Environmental Prediction (NCEP) and NWS Weather Forecast Offices (WFO), the central NDFD server ingests 5-km, 2-dimensional grids of precipitation amounts, and creates experimental forecast data mosaics for the coterminous United States (CONUS), Alaska, Hawaii, and Guam.\", 'keywords': ['precipitation', 'weather', 'forecasts', 'United States'], 'accessLevel': 'public', 'lang': ['en-US']}\n",
      "{'_id': ObjectId('5d814912a20ce1b8b05c0424'), 'title': \"24-Hour Forecast of 12 Hour Probability of Precipitation from the National Weather Service's National Digital Forecast Database (NDFD)\", 'description': \"The National Digital Forecast Database (NDFD) contains a seamless mosaic of the National Weather Service's (NWS) digital forecasts of precipitation probabilities. In collaboration with NWS National Centers for Environmental Prediction (NCEP) and NWS Weather Forecast Offices (WFO), the central NDFD server ingests 5-km, 2-dimensional grids of precipitation probabilities, and creates experimental forecast data mosaics for the coterminous United States (CONUS), Alaska, Hawaii, and Guam.\", 'keywords': ['precipitation', 'weather', 'forecasts', 'United States'], 'accessLevel': 'public', 'lang': ['en-US']}\n",
      "{'_id': ObjectId('5d814912a20ce1b8b05c05cd'), 'title': 'Monthly Total Precipitation Observation for Climate Prediction Center (CPC)Forecast Divisions', 'description': 'This ASCII dataset contains monthly total precipitation for 102 Forecast Divisions within the conterminous U.S. It is derived from the monthly NCDC climate division data. These data are from daily reports from cooperative observers as well as first order stations. The CPC forecast division data combine NCDC climate divisions to yield regions of approximately equal area throughout the conterminous U.S. Data represent the approximate area average total monthly precipitation within each forecast division.', 'keywords': ['Atmosphere > Precipitation > Precipitation Amount', 'Monthly total precipitation', 'Continent>North America>United States of America', 'Vertical Location > Land Surface', 'climatologyMeteorologyAtmosphere'], 'accessLevel': 'public', 'lang': ['en-US']}\n",
      "{'_id': ObjectId('5d814912a20ce1b8b05c03b3'), 'title': 'Daily Precipitation Sums at Coastal and Island Russian Arctic Stations, 1940-1990', 'description': 'This data set contains precipitation data originally recorded in log books at 65 coastal and island meteorological stations, and later digitized at the Arctic and Antarctic Research Institute (AARI), St. Petersburg, Russia, under the direction of Vladimir Radionov. Records from most stations begin in 1940. Instrumentation was generally a rain gauge with Nipher shield until the early 1950s (for most stations), when the Tretyakov precipitation gauge replaced earlier instrumentation.  Data have not been adjusted for gauge type or wind bias. Observers corrected the data from 1967-1990 for wetting loss as they recorded the station data.', 'keywords': ['Continent > Europe > Eastern Europe > Russia', 'Geographic Region > Arctic', 'EARTH SCIENCE > Atmosphere > Precipitation > Precipitation Amount', 'AARI', 'coastal precipitation', 'island precipitation', 'land-sea boundary', 'NOAA'], 'accessLevel': 'public', 'lang': ['en-US']}\n",
      "{'_id': ObjectId('5d814912a20ce1b8b05c04ad'), 'title': 'Hydrometeorological Automated Data System', 'description': 'The Office of Hydrologic Development of the National Weather Service operates HADS, the Hydrometeorological Automated Data System. This data set contains the last 48 hours worth of hydrometeorological measurements collected by Hydrometeorological Automated Data System. These basic measurements include air and water temperature, dew point temperature, river discharge, precipitation accumulator, actual increment precipitation, river/lake height, wind speed and direction, peak wind speed and direction, dissolved oxygen, ph, water turbidity, water velocity, water conductance, and salinity. The data set includes reports from many observing networks run by different providers.', 'keywords': ['River', 'Stream', 'Hydrological', 'Meteorological', 'Water Quality', 'river height', 'lake height', 'river discharge', 'precipitation accumulator', 'air temperature', 'dew point temperature', 'wind direction', 'wind speed', 'peak wind speed', 'peak wind direction', 'water temperature', 'dissolved oxygen', 'ph', 'turbidity', 'velocity', 'conductance', 'salinity', 'United States', 'Gulf of Mexico'], 'accessLevel': 'public', 'lang': ['en-US']}\n",
      "{'_id': ObjectId('5d814912a20ce1b8b05c047c'), 'title': 'Hydrometeorological Automated Data System', 'description': 'The Office of Hydrologic Development of the National Weather Service operates HADS, the Hydrometeorological Automated Data System. This data set contains the last 48 hours worth of hydrometeorological measurements collected by Hydrometeorological Automated Data System. These basic measurements include air and water temperature, dew point temperature, river discharge, precipitation accumulator, actual increment precipitation, river/lake height, wind speed and direction, peak wind speed and direction, dissolved oxygen, ph, water turbidity, water velocity, water conductance, and salinity. The data set includes reports from many observing networks run by different providers.', 'keywords': ['River', 'Stream', 'Hydrological', 'Meteorological', 'Water Quality', 'river height', 'lake height', 'river discharge', 'precipitation accumulator', 'air temperature', 'dew point temperature', 'wind direction', 'wind speed', 'peak wind speed', 'peak wind direction', 'water temperature', 'dissolved oxygen', 'ph', 'turbidity', 'velocity', 'conductance', 'salinity', 'United States', 'Gulf of Mexico'], 'accessLevel': 'public', 'lang': ['en-US']}\n",
      "{'_id': ObjectId('5d814912a20ce1b8b05c05d1'), 'title': 'Climate Prediction Center (CPC) U.S. Daily Precipitation Observations', 'description': 'Observational reports of daily precipitation (1200 UTC to 1200 UTC) are made by members of the NWS Automated Surface Observing Systems (ASOS) network; NWS Cooperative Observer Network (COOP); the Hydrometeorological Automated Data System (HADS) network; the SNOTEL (SNOwpack TELemetry) network; and the Integrated Flood Observing and Warning System (IFLOWS) network. Reports from approximately 9,000 stations across the US including Alaska, Hawaii, and Puerto Rico are sent on a daily basis to the Climate Prediction Center (CPC). During the winter season when the type of precipitation is frozen, the amount reported is the liquid equivalent. CPC processes these reports once per day. All reports for the same day are put into an ASCII text file whose name includes the date of observation. These data are used by CPC in its role of supporting the Joint Agricultural Weather Facility (JAWF).', 'keywords': ['Atmosphere > Precipitation > Precipitation Amount', 'Atmosphere > Precipitation > Rain', 'Rainfall', 'Geographic Region > Continent > North America > United States of America', 'Vertical Location > Boundary layer', 'climatologyMeteorologyAtmosphere'], 'accessLevel': 'public', 'lang': ['en-US']}\n",
      "{'_id': ObjectId('5d814912a20ce1b8b05c05e7'), 'title': 'Climate Prediction Center (CPC)Monthly Precipitation Reconstruction (PREC) Spatial Resolution of 2.5 degree', 'description': 'This global monthly precipitation analysis is called the Climate Prediction Center (CPC) Precipitation Reconstruction (PREC). This analysis consists of two components, the land analysis PREC/L and oceanic analysis PREC/O. The land analysis is defined by interpolation of gauge observations from the Global Historical Climatology Network (GHCN) version 2, and the Climate Prediction Center Climate Anomaly Monitoring System (CAMS) dataset through the Optimal Interpolation (OI) algorithm. The oceanic analysis is defined by Empirical Orthogonal Function (EOF) reconstruction of historical gauge observation from islands and atolls and land. The output resolutions are 0.5deg, 1.0deg, and 2.5deg latitude/longitude for the PREC/L, and 2.5deg latitude/longitude for PREC/O. The analysis covers time period from 1948 to current and is updated on real time basis. The data set is available at format of ascii and binary.', 'keywords': ['Atmosphere > Precipitation > Precipitation Amount', 'precipitation', 'drought', 'flood', 'Geographic Region > Global', 'Vertical Location > Land Surface', 'climatologyMeteorologyAtmosphere'], 'accessLevel': 'public', 'lang': ['en-US']}\n",
      "{'_id': ObjectId('5d814912a20ce1b8b05c05de'), 'title': 'Climate Prediction Center (CPC) Monthly Precipitation Reconstruction of Ocean(PRECO)at Spatial Resolution of 2.5 degree.', 'description': 'This global monthly precipitation analysis is called the Climate Prediction Center (CPC) Precipitation Reconstruction (PREC). This analysis consists of two components, the land analysis (PREC/L) and oceanic analysis (PREC/O). The land analysis is defined by interpolation of gauge observations from the Global Historical Climatology Network (GHCN) version 2, and the Climate Prediction Center Climate Anomaly Monitoring System (CAMS) dataset through the Optimal Interpolation (OI) algorithm. The oceanic analysis is defined by Empirical Orthogonal Function (EOF) reconstruction of historical gauge observation from islands and atolls and land. The output resolutions are 0.5deg, 1.0deg, and 2.5deg latitude/longitude for the PREC/L, and 2.5deg latitude/longitude for PREC/O. The analysis covers time period from 1948 to current and is updated on real time basis. The data set is available at format of ASCII and binary.', 'keywords': ['Atmosphere > Precipitation > Precipitation Amount', 'precipitation', 'drought', 'flood', 'Geographic Region > Global', 'Vertical Location > Land Surface', 'Vertical Location > Sea Surface', 'climatologyMeteorologyAtmosphere'], 'accessLevel': 'public', 'lang': ['en-US']}\n",
      "{'_id': ObjectId('5d814912a20ce1b8b05c05cc'), 'title': 'Climate Prediction Center(CPC) Monthly Precipitation Reconstruction (PREC)at Spatial Resolution of 0.5 degree.', 'description': 'This global monthly precipitation analysis is called the Climate Prediction Center (CPC) Precipitation Reconstruction (PREC). This analysis consists of two components, the land analysis PREC/L and oceanic analysis PREC/O. The land analysis is defined by interpolation of gauge observations from the Global Historical Climatology Network (GHCN) version 2, and the Climate Prediction Center Climate Anomaly Monitoring System (CAMS) dataset through the Optimal Interpolation (OI) algorithm. The oceanic analysis is defined by Empirical Orthogonal Function (EOF) reconstruction of historical gauge observation from islands and atolls and land. The output resolutions are 0.5deg, 1.0deg, and 2.5deg latitude/longitude for the PREC/L, and 2.5deg latitude/longitude for PREC/O. The analysis covers time period from 1948 to current and is updated on real time basis. The data set is available at format of ASCII and binary.', 'keywords': ['Atmosphere > Precipitation > Precipitation Amount', 'precipitation', 'drought', 'flood', 'Geographic Region > Global', 'Vertical Location > Land Surface', 'climatologyMeteorologyAtmosphere'], 'accessLevel': 'public', 'lang': ['en-US']}\n",
      "{'_id': ObjectId('5d814912a20ce1b8b05c05f7'), 'title': 'Climate Prediction Center (CPC)Monthly Precipitation Reconstruction (PREC) at Spatial Resolution of 1 degree.', 'description': 'This global monthly precipitation analysis is called the Climate Prediction Center (CPC) Precipitation Reconstruction (PREC). This analysis consists of two components, the land analysis PREC/L and oceanic analysis PREC/O. The land analysis is defined by interpolation of gauge observations from the Global Historical Climatology Network (GHCN) version 2, and the Climate Prediction Center Climate Anomaly Monitoring System (CAMS) dataset through the Optimal Interpolation (OI) algorithm. The oceanic analysis is defined by Empirical Orthogonal Function (EOF) reconstruction of historical gauge observation from islands and atolls and land. The output resolutions are 0.5deg, 1.0deg, and 2.5deg latitude/longitude for the PREC/L, and 2.5deg latitude/longitude for PREC/O. The analysis covers time period from 1948 to current and is updated on real time basis. The data set is available at format of big endian binary, little endian binary, and ascii.', 'keywords': ['Atmosphere > Precipitation > Precipitation Amount', 'precipitation', 'drought', 'flood', 'Geographic Region > Global', 'Vertical Location > Land Surface', 'climatologyMeteorologyAtmosphere'], 'accessLevel': 'public', 'lang': ['en-US']}\n",
      "{'_id': ObjectId('5d814912a20ce1b8b05c05ca'), 'title': 'Climate Prediction Center (CPC)Ensemble Canonical Correlation Analysis 90-Day Seasonal Forecast of Precipitation', 'description': 'The Ensemble Canonical Correlation Analysis (ECCA) precipitation forecast is a 90-day (seasonal) outlook of US surface precipitation anomalies. The ECCA uses Canonical Correlation Analysis (CCA), an empirical statistical method that finds patterns of predictors (variables used to make the prediction) and predictands (variables to be predicted) that maximize the correlation between them. The most recent available predictor data for different atmospheric/oceanic variables are projected onto the loading patterns to create forecasts. The ensemble refers to forecasts produced by using each predictor separately to create a forecast. The final forecast is an equally weighted average of the ensemble of forecasts. The model is trained from 1953 to the year before the present year to create the loading patterns. The available forecasts are rotated, meaning that only the most recently created forecasts are available. Previously made forecasts are not archived. For each produced forecast, 13 different leads (0.5 months with increment of 1 month for subsequent leads of forecasts are created each with a different valid date).', 'keywords': ['Atmosphere > Precipitation > Precipitation Anomalies', 'precipitation', 'precipitation anomalies', 'statistical outlook', 'seasonal outlook', 'Continent > North America > United States of America', 'Vertical Location > Land Surface', 'climatologyMeteorologyAtmosphere'], 'accessLevel': 'public', 'lang': ['en-US']}\n",
      "{'_id': ObjectId('5d814912a20ce1b8b05c05e4'), 'title': 'Climate Prediction Center (CPC) 6 to 10 Day Probabilistic Precipitation Outlook for the Contiguous United States and Alaska', 'description': 'The Climate Prediction Center (CPC) issues 6 to 10 day probabilistic precipitation outlooks for the United States. The 6-10 day Outlook gives the confidence that a forecaster has, given as a probability, that the observed precipitation, totaled over upcoming days 6, 7, 8, 9, and 10 will be in the range of one of three possible categories: below median (B), near median (N), or above median (A). For any calendar 5-day period, these categories can be defined by fitting a Gamma distribution to the 30 years of the climatology period, 1981-2010, and dividing this distribution into equally likely partitions (below median, near median, and above median). Note that the base period for the thirty year climatology (currently beginning in 1981 and ending in 2010) is updated once per decade. Because each of these categories occurs 1/3 of the time for any particular calendar 5-day period, the probability of any category being selected at random from the 1981-2010 set of 30 observations is one in three (1/3), or 33.33%. This is also called the climatological probability. The sum of the climatological probabilities of the three categories is 100%.', 'keywords': ['Atmosphere > Precipitation > Precipitation Amount', 'climate outlooks', '6 to 10 day outlook', '6 to 10 day forecast', '6-10 day outlook', '6-10 day forecast', '6-10 day precipitation outlook', '6-10 day precipitation forecast', '6 to 10 day precipitation outlook', '6 to 10 day precipitation forecast', 'extended weather forecast', 'climate forecast', '6-10 day weather outlook', 'Continent > North America > United States of America', 'Vertical Location > Boundary layer', 'climatologyMeteorologyAtmosphere'], 'accessLevel': 'public', 'lang': ['en-US']}\n",
      "{'_id': ObjectId('5d814912a20ce1b8b05c05d6'), 'title': 'Climate Prediction Center (CPC) 8 to 14 Day Probabilistic Precipitation Outlook for the Contiguous United States and Alaska', 'description': 'The Climate Prediction Center (CPC) issues 8 to 14 day probabilistic precipitation outlooks for the United States. The 8-14 day Outlook gives the confidence that a forecaster has, given as a probability, that the observed precipitation, totaled over upcoming days 8, 9, 10, 11, 12, 13, and 14 will be in the range of one of three possible categories: below median (B), near median (N), or above median (A). For any calendar 7-day period, these categories can be defined by fitting a Gamma distribution to the 30 years of the climatology period, 1981-2010, and dividing this distribution into equally likely partitions (below median, near median, and above median). Note that the base period for the thirty year climatology (currently beginning in 1981 and ending in 2010) is updated once per decade. Because each of these categories occurs 1/3 of the time for any particular calendar 7-day period, the probability of any category being selected at random from the 1981-2010 set of 30 observations is one in three (1/3), or 33.33%. This is also called the climatological probability. The sum of the climatological probabilities of the three categories is 100%.', 'keywords': ['Atmosphere > Precipitation > Precipitation Amount', 'climate outlooks', '8 to 14 day outlook', '8 to 14 day forecast', '8-14 day outlook', '8-14 day forecast', '8-14 day precipitation outlook', '8-14 day precipitation forecast', '8 to 14 day precipitation outlook', '8 to 14 day precipitation forecast', 'extended weather forecast', 'two week weather forecast', 'climate forecast', '2 week forecast', '8-14 day weather outlook', 'Continent > North America > United States of America', 'Vertical Location > Boundary layer', 'climatologyMeteorologyAtmosphere'], 'accessLevel': 'public', 'lang': ['en-US']}\n",
      "{'_id': ObjectId('5d814912a20ce1b8b05c0609'), 'title': 'Climate Prediction Center (CPC) Weekly U.S. Selected Cities Precipitation Summary', 'description': 'Weekly U.S. reported precipitation amounts in hundredths of inches (ex 100 is 1.00 inches) generated from the GTS metar(hourly) and synoptic(6-hourly)observations for selected cities based on the Weekly Weather and Crop Bulletin station list', 'keywords': ['Atmosphere > Precipitation > Rainfall', 'Precipitation', 'Geographic Region > United States', 'Vertical Location > Boundary Layer', 'climatologyMeteorologyAtmosphere', 'Atmosphere > Precipitation > Total Rainfall'], 'accessLevel': 'public', 'lang': ['en-US']}\n",
      "{'_id': ObjectId('5d814912a20ce1b8b05c05d7'), 'title': 'Climate Prediction Center (CPC) Monthly U.S. Selected Cities Precipitation Summary', 'description': 'Monthly U.S. reported precipitation amounts in hundredths of inches (ex 100 is 1.00 inches) generated from the GTS metar(hourly) and synoptic(6-hourly)observations for selected cities based on the Weekly Weather and Crop Bulletin station list', 'keywords': ['Atmosphere > Precipitation > Rainfall', 'Precipitation', 'Total monthly precipitation', '24hr max total precipitation', 'Precipitation departure', 'Geographic Region > United States', 'Vertical Location > Boundary Layer', 'climatologyMeteorologyAtmosphere', 'Atmosphere > Precipitation > Total Rainfall'], 'accessLevel': 'public', 'lang': ['en-US']}\n",
      "{'_id': ObjectId('5d814912a20ce1b8b05c0611'), 'title': 'Climate Prediction Center(CPC)Daily U.S. Precipitation and Temperature Summary', 'description': 'Daily U.S. minimum and maximum temperatures in whole degrees Fahrenheit and reported and estimated precipitation amounts in hundredths of inches(ex 100 is 1.00 inches) generated from the Global Telecommunications System (GTS) metar(hourly) and synoptic(6-hourly) observations.', 'keywords': ['Atmosphere > Atmospheric Temperature > Air Temperature', 'Atmosphere > Atmospheric Temperature > Maximum/Minimum Temperature', 'Atmosphere > Precipitation > Rain', 'Atmosphere > Precipitation > Precipitation Amount', 'Temperature', 'Precipitation', 'Geographic Region > United States', 'Vertical Location > Boundary Layer', 'climatologyMeteorologyAtmosphere'], 'accessLevel': 'public', 'lang': ['en-US']}\n",
      "{'_id': ObjectId('5d814912a20ce1b8b05c05fe'), 'title': 'Climate Prediction Center(CPC) Monthly U.S. Precipitation and Temperature Summary', 'description': 'Monthly U.S. minimum and maximum temperatures in whole degrees Fahrenheit and reported and estimated precipitation amounts in hundredths of inches(ex 100 is 1.00 inches) generated from the Global Telecommunications System (GTS) metar(hourly) and synoptic(6-hourly)observations', 'keywords': ['Atmosphere > Atmospheric Temperature > Air Temperature', 'Atmosphere > Precipitation > Rain', 'Atmosphere > Precipitation > Precipitation Amount', 'Temperature', 'Precipitation', 'Normal temperature', 'Normal precipitation', 'Geographic Region > United States', 'Vertical Location > Boundary Layer', 'climatologyMeteorologyAtmosphere'], 'accessLevel': 'public', 'lang': ['en-US']}\n",
      "{'_id': ObjectId('5d814912a20ce1b8b05c05f6'), 'title': 'Climate Prediction Center (CPC)Weekly U.S. Precipitation and Temperature Summary', 'description': 'Weekly U.S. minimum and maximum temperatures in whole degrees Fahrenheit and reported and estimated precipitation amounts in hundredths of inches(ex 100 is 1.00 inches) generated from the Global Telecommunications System(GTS) metar(hourly) and synoptic(6-hourly)observations', 'keywords': ['Atmosphere > Atmospheric Temperature > Air Temperature', 'Atmosphere > Precipitation > Rain', 'Atmosphere > Precipitation > Precipitation Amount', 'Temperature', 'Precipitation', 'Normal temperature', 'Normal precipitation', 'Geographic Region > United States', 'Vertical Location > Boundary Layer', 'climatologyMeteorologyAtmosphere'], 'accessLevel': 'public', 'lang': ['en-US']}\n",
      "{'_id': ObjectId('5d814912a20ce1b8b05c03a1'), 'title': 'Former Soviet Union Monthly Precipitation Archive, 1891-1993', 'description': 'This data set was distributed by NSIDC until October, 2003, when it was withdrawn from distribution because it duplicates the NOAA National Climatic Data Center (NCDC) data set DSI-3720. The NCDC data set is revised and updated beyond what was distributed by NSIDC. This archive consists of monthly precipitation measurements from 622 stations located in the Former Soviet Union.', 'keywords': ['Continent > Europe > Eastern Europe > Russia', 'EARTH SCIENCE > Atmosphere > Precipitation > Precipitation Amount', 'EARTH SCIENCE > Atmosphere > Precipitation > Precipitation Rate', 'EARTH SCIENCE > Atmosphere > Precipitation > Rain', 'EARTH SCIENCE > Atmosphere > Precipitation > Snow', 'EARTH SCIENCE > Terrestrial Hydrosphere > Snow/Ice > Snow Cover', 'EOSDIS > Earth Observing System Data Information System', 'ESIP > Earth Science Information Partners Program', 'Asia', 'Europe', 'Former Soviet Union', 'GAUGE BUCKET', 'GAUGE POST', 'NIPHER', 'Precipitation', 'Rain', 'Rain Gauge', 'Russia', 'Soviet', 'State Hydrological Institute', 'Station', 'Tretiyakov', 'Ussr'], 'accessLevel': 'public', 'lang': ['en-US']}\n",
      "{'_id': ObjectId('5d814912a20ce1b8b05c05f2'), 'title': 'Climate Prediction Center (CPC) U.S. Hazards Outlook', 'description': 'The Climate Prediction Center releases a US Hazards Outlook daily, Monday through Friday. The product highlights regions of anticipated hazardous weather during the next 3-7 and 8-14 days and examples include heavy snow, high winds, flooding, extreme heat and cold and severe thunderstorms. The product highlights regions of anticipated hazardous weather during the next 3-7 and 8-14 days. Three separate files are available for download for each time period. A soils shapefile (and KMZ) contain severe drought and enhanced wildfire risk hazards. A temperature file contains temperature, wind, and wave hazards, and a precipitation file contains rain, snow, and severe weather hazards. The contents of these file are mashed up to create one composite graphic per time period as well as being displayed on an interactive Google Map', 'keywords': ['Atmosphere > Precipitation > Precipitation Amount', 'Atmosphere > Atmospheric Temperature > Surface Air Temperature', 'Atmosphere > Atmospheric Winds > Boundary Layer Winds', 'Atmosphere > Atmospheric Phenomena > Drought', 'Atmosphere > Atmospheric Phenomena > Storms', 'Hazards', 'drought', 'severe weather', 'flooding', 'Continent > North America > United States of America', 'Vertical Location > Boundary layer', 'climatologyMeteorologyAtmosphere'], 'accessLevel': 'public', 'lang': ['en-US']}\n",
      "{'_id': ObjectId('5d814912a20ce1b8b05c0884'), 'title': 'Daily Weather Maps', 'description': 'Several different government offices have published the Daily weather maps over its history. The publication has also gone by different names over time.  The U.S. Signal Office began publication of the maps as the War Department maps on Jan. 1, 1871. When the government transferred control of the weather service to the newly-created Weather Bureau in 1891 the title changed to the Department of Agriculture weather map. In 1913 the title became simply Daily weather map. Eventually, in 1969, the Weather Bureau began publishing a weekly compilation of the daily maps with the title Daily weather maps (Weekly series).  The the principal charts are the Surface Weather Map, the 500 Millibar Height Contours Chart, the Highest and Lowest Temperatures chart and the Precipitation Areas and Amounts chart.   This library contains a very small subset of this series: 11Sep1928-31Dec1928, 01Jan1959-30Jun1959, and 06Jan1997-04Jan1998.', 'keywords': ['EARTH SCIENCE > ATMOSPHERE > ATMOSPHERIC WINDS > VORTICITY', 'EARTH SCIENCE > ATMOSPHERE > ATMOSPHERIC PRESSURE', 'EARTH SCIENCE > ATMOSPHERE > ATMOSPHERIC TEMPERATURE > AIR TEMPERATURE', 'EARTH SCIENCE > ATMOSPHERE > ATMOSPHERIC TEMPERATURE > MAXIMUM/MINIMUM TEMPERATURE', 'EARTH SCIENCE > ATMOSPHERE > ATMOSPHERIC TEMPERATURE > SURFACE AIR TEMPERATURE', 'EARTH SCIENCE > ATMOSPHERE > PRECIPITATION > PRECIPITATION AMOUNT', 'Atmospheric - Surface - Air Temperature', 'Atmospheric - Surface - Precipitation', 'Atmospheric - Surface - Pressure', 'Atmospheric - Surface - Wind Speed and Direction', 'CONTINENT > NORTH AMERICA > UNITED STATES OF AMERICA', 'DOC/NOAA/NESDIS/NCDC > National Climatic Data Center', 'NESDIS', 'NOAA', 'U.S. Department of Commerce', 'BAROMETERS', 'THERMOMETERS', 'ANEMOMETERS', 'RAIN GAUGES', 'BALLOONS', 'METEOROLOGICAL STATIONS', 'RADIOSONDES', 'PIBAL > Pilot Balloons'], 'accessLevel': 'public', 'lang': ['en-US']}\n",
      "{'_id': ObjectId('5d814912a20ce1b8b05c09f5'), 'title': 'Cruise and Data Report of USA-PRC Joint Air-Sea Interaction Studies in the Western Pacific Ocean (NCEI Accession 8700374)', 'description': 'The USA-PRC Joint Program on Air-Sea Interaction Studies in the Tropical Western Pacific is a component of the Protocol on Cooperation in the Field of Marine and Fishery Science and Technology signed by the State Oceanic Administration (SOA), the People\\'s Republic of China and National Oceanic and Atmospheric Administration (NOAA), the United State of America. This program is also a part of the Tropical Ocean and Global Atmosphere Program (TOGA).\\n\\nThe second cruise of the USA-PRC Joint Program was conducted by the R/V Xiangyanghong No.5 of the SOA, PRC from November 15, 1968 through March 5, 1987.\\n\\nSome of the investigation data are published in the form of \"quick look\" data set. Owing to the time limitation, part of the data has not been processed under strict quality control.\\n\\nThere are four reports in the publication:\\n\\nPreliminary CTD Data Report\\nNutrient, Chlorophyll a and Primary Production Preliminary Report\\nMarine Meteorology Data Report\\nPrecipitation Data Report', 'keywords': ['DOC/NOAA/NESDIS/NODC > National Oceanographic Data Center', 'NESDIS', 'NOAA', 'U.S. Department of Commerce', 'DOC/NOAA/NESDIS/NCEI > National Centers for Environmental Information', 'NESDIS', 'NOAA', 'U.S. Department of Commerce', 'oceanography'], 'accessLevel': 'public', 'lang': ['en-US']}\n",
      "{'_id': ObjectId('5d814912a20ce1b8b05c085e'), 'title': 'In situ, meteorological, navigational, physical and profile data collected by Japan Agency for Marine-Earth Science and Technology (JAMSTEC) at OceanSITES site JKEO from 2008-02-29 to 2012-06-23 (NCEI Accession 0130035)', 'description': \"In situ, meteorological, navigational, physical and profile oceanographic data were collected, including AIR TEMPERATURE, BAROMETRIC PRESSURE, DEPTH - OBSERVATION, HYDROSTATIC PRESSURE, INCOMING SOLAR RADIATION, LATITUDE, LONGITUDE, PRECIPITATION RATE, RELATIVE HUMIDITY, SALINITY, WATER TEMPERATURE, WIND DIRECTION and WIND SPEED from Moored Buoy at the JAMSTEC Kuroshio Extension Observatory (JKEO) using CTD - moored CTD, anemometer, barometers, meteorological sensors, pyranometer and thermistor from 2008-02-29 to 2012-06-23. These data were provided to one of the OceanSITES Data Assembly Centers (DAC). The DAC formatted this information into the OceanSITES file format and passed it on to the Global Data Assembly Centers (GDAC).\\n\\nOceanSITES is a worldwide system of long-term, open-ocean reference stations measuring dozens of variables and monitoring the full depth of the ocean from air-sea interactions down to the seafloor. It is a network of stations or observatories measuring many aspects of the ocean's surface and water column using, where possible, automated systems with advanced sensors and telecommunications systems, yielding high time resolution, often in real-time, while building a long record.\", 'keywords': ['DOC/NOAA/NESDIS/NODC > National Oceanographic Data Center', 'NESDIS', 'NOAA', 'U.S. Department of Commerce', 'DOC/NOAA/NESDIS/NCEI > National Centers for Environmental Information', 'NESDIS', 'NOAA', 'U.S. Department of Commerce', 'oceanography', 'Latitude of each location', 'Latitude of each position', 'Longitude of each location', 'Longitude of each position', 'air_pressure_at_sea_level', 'air_temperature', 'depth', 'eastward_wind', 'latitude', 'longitude', 'northward_wind', 'quality flag for air_temperature', 'quality flag for eastward_wind', 'quality flag for northward_wind', 'quality flag for rainfall_rate', 'quality flag for relative_humidity', 'quality flag for sea water pressure', 'quality flag for sea_water_salinity', 'quality flag for sea_water_temperature', 'quality flag for surface_downwelling_longwave_flux_in_air', 'quality flag for surface_downwelling_shortwave_flux_in_air', 'quality flag for wind_direction', 'quality flag for wind_speed', 'rainfall_rate', 'relative_humidity', 'sea water pressure', 'sea_water_pressure', 'sea_water_salinity', 'sea_water_temperature', 'surface_downwelling_longwave_flux_in_air', 'surface_downwelling_shortwave_flux_in_air', 'time', 'wind_direction', 'wind_speed', 'AIRT', 'AIRT_QC', 'DEPTH', 'LAT', 'LATITUDE', 'LON', 'LONGITUDE', 'LW', 'LW_QC', 'PRES', 'PRES_QC', 'PSAL', 'PSAL_QC', 'RAIN', 'RAIN_QC', 'RELH', 'RELH_QC', 'SLP', 'SST', 'SW', 'SW_QC', 'TEMP', 'TEMP_QC', 'TIME', 'UWND', 'UWND_QC', 'VWND', 'VWND_QC', 'WDIR', 'WDIR_QC', 'WSPD', 'WSPD_QC'], 'accessLevel': 'public', 'lang': ['en-US']}\n",
      "{'_id': ObjectId('5d814912a20ce1b8b05c0877'), 'title': 'In situ, meteorological, navigational, physical and profile data collected by US DOC; NOAA; OAR; Pacific Marine Environmental Laboratory at OceanSITES site KEO from 2004-06-16 to 2005-05-27 (NCEI Accession 0130037)', 'description': \"In situ, meteorological, navigational, physical and profile oceanographic data were collected, including AIR TEMPERATURE, CONDUCTIVITY, DEPTH - OBSERVATION, HYDROSTATIC PRESSURE, INCOMING SOLAR RADIATION, LATITUDE, LONGITUDE, PRECIPITATION RATE, RELATIVE HUMIDITY, SALINITY, SIGMA-THETA, WATER TEMPERATURE, WIND DIRECTION and WIND SPEED from Moored Buoy at the NOAA Kuroshio Extension Observatory (KEO) using anemometer, conductivity sensor, meteorological sensors, pressure sensors, pyranometer and thermistor from 2004-06-16 to 2005-05-27. These data were provided to one of the OceanSITES Data Assembly Centers (DAC). The DAC formatted this information into the OceanSITES file format and passed it on to the Global Data Assembly Centers (GDAC).\\n\\nOceanSITES is a worldwide system of long-term, open-ocean reference stations measuring dozens of variables and monitoring the full depth of the ocean from air-sea interactions down to the seafloor. It is a network of stations or observatories measuring many aspects of the ocean's surface and water column using, where possible, automated systems with advanced sensors and telecommunications systems, yielding high time resolution, often in real-time, while building a long record.\", 'keywords': ['DOC/NOAA/NESDIS/NODC > National Oceanographic Data Center', 'NESDIS', 'NOAA', 'U.S. Department of Commerce', 'DOC/NOAA/NESDIS/NCEI > National Centers for Environmental Information', 'NESDIS', 'NOAA', 'U.S. Department of Commerce', 'oceanography', 'air_temperature', 'depth', 'eastward_wind', 'height', 'latitude', 'longitude', 'northward_wind', 'rainfall_rate', 'relative_humidity', 'sea_water_electrical_conductivity', 'sea_water_pressure', 'sea_water_salinity', 'sea_water_sigma_theta', 'sea_water_temperature', 'surface_downwelling_longwave_flux_in_air', 'surface_downwelling_shortwave_flux_in_air', 'time', 'wind_speed', 'wind_to_direction', 'AIRT', 'AIRT_QC', 'CNDC', 'CNDC_QC', 'DENS', 'DEPTH_CNDC', 'DEPTH_PRES', 'DEPTH_PSAL', 'DEPTH_TEMP', 'HEIGHT_AIRT', 'HEIGHT_LW', 'HEIGHT_RAIN', 'HEIGHT_RELH', 'HEIGHT_SW', 'HEIGHT_WIND', 'LATITUDE', 'LONGITUDE', 'LW', 'LW_QC', 'PRES', 'PRES_QC', 'PSAL', 'PSAL_QC', 'RAIN', 'RAIN_QC', 'RELH', 'RELH_QC', 'SW', 'SW_QC', 'TEMP', 'TEMP_QC', 'TIME', 'UWND', 'VWND', 'WDIR', 'WDIR_QC', 'WSPD', 'WSPD_QC'], 'accessLevel': 'public', 'lang': ['en-US']}\n",
      "{'_id': ObjectId('5d814912a20ce1b8b05c06a2'), 'title': 'In situ, meteorological, navigational, physical and profile data collected by US DOC; NOAA; NWS; National Data Buoy Center at OceanSITES site T0N155W from 1999-10-28 to 2015-08-06 (NCEI Accession 0130055)', 'description': \"In situ, meteorological, navigational, physical and profile oceanographic data were collected, including AIR TEMPERATURE, DEPTH - OBSERVATION, HYDROSTATIC PRESSURE, LATITUDE, LONGITUDE, PRECIPITATION RATE, RELATIVE HUMIDITY, SALINITY, SEA SURFACE TEMPERATURE, SIGMA-THETA, WATER TEMPERATURE, WIND DIRECTION and WIND SPEED from Moored Buoy at the TAO/TRITON Site 0N 155W (T0N155W) using GPS, anemometer, conductivity sensor, meteorological sensors, pressure sensors and thermistor from 1999-10-28 to 2015-08-06. These data were provided to one of the OceanSITES Data Assembly Centers (DAC). The DAC formatted this information into the OceanSITES file format and passed it on to the Global Data Assembly Centers (GDAC).\\n\\nOceanSITES is a worldwide system of long-term, open-ocean reference stations measuring dozens of variables and monitoring the full depth of the ocean from air-sea interactions down to the seafloor. It is a network of stations or observatories measuring many aspects of the ocean's surface and water column using, where possible, automated systems with advanced sensors and telecommunications systems, yielding high time resolution, often in real-time, while building a long record.\", 'keywords': ['DOC/NOAA/NESDIS/NODC > National Oceanographic Data Center', 'NESDIS', 'NOAA', 'U.S. Department of Commerce', 'DOC/NOAA/NESDIS/NCEI > National Centers for Environmental Information', 'NESDIS', 'NOAA', 'U.S. Department of Commerce', 'oceanography', 'EARTH SCIENCE > ATMOSPHERE > ATMOSPHERIC TEMPERATURE > AIR TEMPERATURE', 'EARTH SCIENCE > ATMOSPHERE > ATMOSPHERIC WATER VAPOR > HUMIDITY', 'EARTH SCIENCE > ATMOSPHERE > ATMOSPHERIC WINDS > SURFACE WINDS', 'WIND SPEED/WIND DIRECTION', 'EARTH SCIENCE > ATMOSPHERE > PRECIPITATION > PRECIPITATION AMOUNT', 'PRECIPITATION RATE', 'EARTH SCIENCE > CLIMATE INDICATORS > ATMOSPHERIC/OCEAN INDICATORS > TELECONNECTIONS > EL NINO SOUTHERN OSCILLATION (ENSO)', 'ENSO', 'EARTH SCIENCE > OCEANS > OCEAN CIRCULATION > BUOY POSITION', 'EARTH SCIENCE > OCEANS > OCEAN PRESSURE > WATER PRESSURE', 'EARTH SCIENCE > OCEANS > OCEAN TEMPERATURE > WATER TEMPERATURE', 'SEA SURFACE TEMPERATURE', 'EARTH SCIENCE > OCEANS > OCEAN WINDS > SURFACE WINDS', 'EARTH SCIENCE > OCEANS > SALINITY/DENSITY > SALINITY', 'DENSITY', 'air_temperature', 'depth', 'eastward_wind', 'height', 'latitude', 'longitude', 'northward_wind', 'rainfall_rate', 'relative_humidity', 'sea_surface_temperature', 'sea_water_practical_salinity', 'sea_water_pressure', 'sea_water_sigma_theta', 'sea_water_temperature', 'time', 'wind_speed', 'wind_to_direction', 'AIRT', 'AIRT_DM', 'AIRT_QC', 'DEPTH', 'HEIGHT', 'HEIGHT_WIND', 'LATITUDE', 'LONGITUDE', 'PRES', 'PRES_DM', 'PRES_QC', 'PSAL', 'PSAL_DM', 'PSAL_QC', 'RAIN', 'RAIN_DM', 'RAIN_QC', 'RELH', 'RELH_DM', 'RELH_QC', 'SIGT', 'SIGT_DM', 'SIGT_QC', 'SST', 'SST_DM', 'SST_QC', 'TEMP', 'TEMP_DM', 'TEMP_QC', 'TIME', 'TIME_BNDS', 'UWND', 'VWND', 'WDIR', 'WDIR_DM', 'WDIR_QC', 'WSPD', 'WSPD_DM', 'WSPD_QC'], 'accessLevel': 'public', 'lang': ['en-US']}\n",
      "{'_id': ObjectId('5d814912a20ce1b8b05c06a1'), 'title': 'In situ, meteorological, navigational, physical and profile data collected by US DOC; NOAA; NWS; National Data Buoy Center at OceanSITES site T0N180W from 1999-11-28 to 2015-08-06 (NCEI Accession 0130058)', 'description': \"In situ, meteorological, navigational, physical and profile oceanographic data were collected, including AIR TEMPERATURE, DEPTH - OBSERVATION, HYDROSTATIC PRESSURE, LATITUDE, LONGITUDE, PRECIPITATION RATE, RELATIVE HUMIDITY, SALINITY, SEA SURFACE TEMPERATURE, SIGMA-THETA, WATER TEMPERATURE, WIND DIRECTION and WIND SPEED from Moored Buoy at the TAO/TRITON Site 0N 180W (T0N180W) using GPS, anemometer, conductivity sensor, meteorological sensors, pressure sensors and thermistor from 1999-11-28 to 2015-08-06. These data were provided to one of the OceanSITES Data Assembly Centers (DAC). The DAC formatted this information into the OceanSITES file format and passed it on to the Global Data Assembly Centers (GDAC).\\n\\nOceanSITES is a worldwide system of long-term, open-ocean reference stations measuring dozens of variables and monitoring the full depth of the ocean from air-sea interactions down to the seafloor. It is a network of stations or observatories measuring many aspects of the ocean's surface and water column using, where possible, automated systems with advanced sensors and telecommunications systems, yielding high time resolution, often in real-time, while building a long record.\", 'keywords': ['DOC/NOAA/NESDIS/NODC > National Oceanographic Data Center', 'NESDIS', 'NOAA', 'U.S. Department of Commerce', 'DOC/NOAA/NESDIS/NCEI > National Centers for Environmental Information', 'NESDIS', 'NOAA', 'U.S. Department of Commerce', 'oceanography', 'EARTH SCIENCE > ATMOSPHERE > ATMOSPHERIC TEMPERATURE > AIR TEMPERATURE', 'EARTH SCIENCE > ATMOSPHERE > ATMOSPHERIC WATER VAPOR > HUMIDITY', 'EARTH SCIENCE > ATMOSPHERE > ATMOSPHERIC WINDS > SURFACE WINDS', 'WIND SPEED/WIND DIRECTION', 'EARTH SCIENCE > ATMOSPHERE > PRECIPITATION > PRECIPITATION AMOUNT', 'PRECIPITATION RATE', 'EARTH SCIENCE > CLIMATE INDICATORS > ATMOSPHERIC/OCEAN INDICATORS > TELECONNECTIONS > EL NINO SOUTHERN OSCILLATION (ENSO)', 'ENSO', 'EARTH SCIENCE > OCEANS > OCEAN CIRCULATION > BUOY POSITION', 'EARTH SCIENCE > OCEANS > OCEAN PRESSURE > WATER PRESSURE', 'EARTH SCIENCE > OCEANS > OCEAN TEMPERATURE > WATER TEMPERATURE', 'SEA SURFACE TEMPERATURE', 'EARTH SCIENCE > OCEANS > OCEAN WINDS > SURFACE WINDS', 'EARTH SCIENCE > OCEANS > SALINITY/DENSITY > SALINITY', 'DENSITY', 'air_temperature', 'depth', 'eastward_wind', 'height', 'latitude', 'longitude', 'northward_wind', 'rainfall_rate', 'relative_humidity', 'sea_surface_temperature', 'sea_water_practical_salinity', 'sea_water_pressure', 'sea_water_sigma_theta', 'sea_water_temperature', 'time', 'wind_speed', 'wind_to_direction', 'AIRT', 'AIRT_DM', 'AIRT_QC', 'DEPTH', 'HEIGHT', 'HEIGHT_WIND', 'LATITUDE', 'LONGITUDE', 'PRES', 'PRES_DM', 'PRES_QC', 'PSAL', 'PSAL_DM', 'PSAL_QC', 'RAIN', 'RAIN_DM', 'RAIN_QC', 'RELH', 'RELH_DM', 'RELH_QC', 'SIGT', 'SIGT_DM', 'SIGT_QC', 'SST', 'SST_DM', 'SST_QC', 'TEMP', 'TEMP_DM', 'TEMP_QC', 'TIME', 'TIME_BNDS', 'UWND', 'VWND', 'WDIR', 'WDIR_DM', 'WDIR_QC', 'WSPD', 'WSPD_DM', 'WSPD_QC'], 'accessLevel': 'public', 'lang': ['en-US']}\n",
      "{'_id': ObjectId('5d814912a20ce1b8b05c0590'), 'title': 'In situ, meteorological, navigational, physical and profile data collected by US DOC; NOAA; NWS; National Data Buoy Center at OceanSITES site T2S165E from 1997-06-15 to 2015-08-06 (NCEI Accession 0130857)', 'description': \"In situ, meteorological, navigational, physical and profile oceanographic data were collected, including AIR TEMPERATURE, DEPTH - OBSERVATION, HYDROSTATIC PRESSURE, INCOMING SOLAR RADIATION, LATITUDE, LONGITUDE, PRECIPITATION RATE, RELATIVE HUMIDITY, SALINITY, SEA SURFACE TEMPERATURE, SIGMA-THETA, WATER TEMPERATURE, WIND DIRECTION and WIND SPEED from Moored Buoy at the TAO/TRITON Site 2S 165E (T2S165E) using GPS, anemometer, conductivity sensor, meteorological sensors, pressure sensors, pyranometer and thermistor from 1997-06-15 to 2015-08-06. These data were provided to one of the OceanSITES Data Assembly Centers (DAC). The DAC formatted this information into the OceanSITES file format and passed it on to the Global Data Assembly Centers (GDAC).\\n\\nOceanSITES is a worldwide system of long-term, open-ocean reference stations measuring dozens of variables and monitoring the full depth of the ocean from air-sea interactions down to the seafloor. It is a network of stations or observatories measuring many aspects of the ocean's surface and water column using, where possible, automated systems with advanced sensors and telecommunications systems, yielding high time resolution, often in real-time, while building a long record.\", 'keywords': ['DOC/NOAA/NESDIS/NODC > National Oceanographic Data Center', 'NESDIS', 'NOAA', 'U.S. Department of Commerce', 'DOC/NOAA/NESDIS/NCEI > National Centers for Environmental Information', 'NESDIS', 'NOAA', 'U.S. Department of Commerce', 'oceanography', 'EARTH SCIENCE > ATMOSPHERE > ATMOSPHERIC RADIATION > SHORTWAVE RADIATION', 'EARTH SCIENCE > ATMOSPHERE > ATMOSPHERIC TEMPERATURE > AIR TEMPERATURE', 'EARTH SCIENCE > ATMOSPHERE > ATMOSPHERIC WATER VAPOR > HUMIDITY', 'EARTH SCIENCE > ATMOSPHERE > ATMOSPHERIC WINDS > SURFACE WINDS', 'WIND SPEED/WIND DIRECTION', 'EARTH SCIENCE > ATMOSPHERE > PRECIPITATION > PRECIPITATION AMOUNT', 'PRECIPITATION RATE', 'EARTH SCIENCE > CLIMATE INDICATORS > ATMOSPHERIC/OCEAN INDICATORS > TELECONNECTIONS > EL NINO SOUTHERN OSCILLATION (ENSO)', 'ENSO', 'EARTH SCIENCE > OCEANS > OCEAN CIRCULATION > BUOY POSITION', 'EARTH SCIENCE > OCEANS > OCEAN HEAT BUDGET > SHORTWAVE RADIATION', 'EARTH SCIENCE > OCEANS > OCEAN PRESSURE > WATER PRESSURE', 'EARTH SCIENCE > OCEANS > OCEAN TEMPERATURE > WATER TEMPERATURE', 'SEA SURFACE TEMPERATURE', 'EARTH SCIENCE > OCEANS > OCEAN WINDS > SURFACE WINDS', 'EARTH SCIENCE > OCEANS > SALINITY/DENSITY > SALINITY', 'DENSITY', 'air_temperature', 'depth', 'eastward_wind', 'height', 'latitude', 'longitude', 'northward_wind', 'rainfall_rate', 'relative_humidity', 'sea_surface_temperature', 'sea_water_practical_salinity', 'sea_water_pressure', 'sea_water_sigma_theta', 'sea_water_temperature', 'surface_downwelling_shortwave_flux_in_air', 'time', 'wind_speed', 'wind_to_direction', 'AIRT', 'AIRT_DM', 'AIRT_QC', 'DEPTH', 'HEIGHT', 'HEIGHT_WIND', 'LATITUDE', 'LONGITUDE', 'PRES', 'PRES_DM', 'PRES_QC', 'PSAL', 'PSAL_DM', 'PSAL_QC', 'RAIN', 'RAIN_DM', 'RAIN_QC', 'RELH', 'RELH_DM', 'RELH_QC', 'SIGT', 'SIGT_DM', 'SIGT_QC', 'SST', 'SST_DM', 'SST_QC', 'SW', 'SW_DM', 'SW_QC', 'TEMP', 'TEMP_DM', 'TEMP_QC', 'TIME', 'TIME_BNDS', 'UWND', 'VWND', 'WDIR', 'WDIR_DM', 'WDIR_QC', 'WSPD', 'WSPD_DM', 'WSPD_QC'], 'accessLevel': 'public', 'lang': ['en-US']}\n",
      "{'_id': ObjectId('5d814912a20ce1b8b05c056a'), 'title': 'In situ, meteorological, navigational, physical and profile data collected by US DOC; NOAA; NWS; National Data Buoy Center at OceanSITES site T2N165E from 1998-01-07 to 2015-08-06 (NCEI Accession 0130064)', 'description': \"In situ, meteorological, navigational, physical and profile oceanographic data were collected, including AIR TEMPERATURE, DEPTH - OBSERVATION, HYDROSTATIC PRESSURE, INCOMING SOLAR RADIATION, LATITUDE, LONGITUDE, PRECIPITATION RATE, RELATIVE HUMIDITY, SALINITY, SEA SURFACE TEMPERATURE, SIGMA-THETA, WATER TEMPERATURE, WIND DIRECTION and WIND SPEED from Moored Buoy at the TAO/TRITON Site 2N 165E (T2N165E) using GPS, anemometer, conductivity sensor, meteorological sensors, pressure sensors, pyranometer and thermistor from 1998-01-07 to 2015-08-06. These data were provided to one of the OceanSITES Data Assembly Centers (DAC). The DAC formatted this information into the OceanSITES file format and passed it on to the Global Data Assembly Centers (GDAC).\\n\\nOceanSITES is a worldwide system of long-term, open-ocean reference stations measuring dozens of variables and monitoring the full depth of the ocean from air-sea interactions down to the seafloor. It is a network of stations or observatories measuring many aspects of the ocean's surface and water column using, where possible, automated systems with advanced sensors and telecommunications systems, yielding high time resolution, often in real-time, while building a long record.\", 'keywords': ['DOC/NOAA/NESDIS/NODC > National Oceanographic Data Center', 'NESDIS', 'NOAA', 'U.S. Department of Commerce', 'DOC/NOAA/NESDIS/NCEI > National Centers for Environmental Information', 'NESDIS', 'NOAA', 'U.S. Department of Commerce', 'oceanography', 'EARTH SCIENCE > ATMOSPHERE > ATMOSPHERIC RADIATION > SHORTWAVE RADIATION', 'EARTH SCIENCE > ATMOSPHERE > ATMOSPHERIC TEMPERATURE > AIR TEMPERATURE', 'EARTH SCIENCE > ATMOSPHERE > ATMOSPHERIC WATER VAPOR > HUMIDITY', 'EARTH SCIENCE > ATMOSPHERE > ATMOSPHERIC WINDS > SURFACE WINDS', 'WIND SPEED/WIND DIRECTION', 'EARTH SCIENCE > ATMOSPHERE > PRECIPITATION > PRECIPITATION AMOUNT', 'PRECIPITATION RATE', 'EARTH SCIENCE > CLIMATE INDICATORS > ATMOSPHERIC/OCEAN INDICATORS > TELECONNECTIONS > EL NINO SOUTHERN OSCILLATION (ENSO)', 'ENSO', 'EARTH SCIENCE > OCEANS > OCEAN CIRCULATION > BUOY POSITION', 'EARTH SCIENCE > OCEANS > OCEAN HEAT BUDGET > SHORTWAVE RADIATION', 'EARTH SCIENCE > OCEANS > OCEAN PRESSURE > WATER PRESSURE', 'EARTH SCIENCE > OCEANS > OCEAN TEMPERATURE > WATER TEMPERATURE', 'SEA SURFACE TEMPERATURE', 'EARTH SCIENCE > OCEANS > OCEAN WINDS > SURFACE WINDS', 'EARTH SCIENCE > OCEANS > SALINITY/DENSITY > SALINITY', 'DENSITY', 'air_temperature', 'depth', 'eastward_wind', 'height', 'latitude', 'longitude', 'northward_wind', 'rainfall_rate', 'relative_humidity', 'sea_surface_temperature', 'sea_water_practical_salinity', 'sea_water_pressure', 'sea_water_sigma_theta', 'sea_water_temperature', 'surface_downwelling_shortwave_flux_in_air', 'time', 'wind_speed', 'wind_to_direction', 'AIRT', 'AIRT_DM', 'AIRT_QC', 'DEPTH', 'HEIGHT', 'HEIGHT_WIND', 'LATITUDE', 'LONGITUDE', 'PRES', 'PRES_DM', 'PRES_QC', 'PSAL', 'PSAL_DM', 'PSAL_QC', 'RAIN', 'RAIN_DM', 'RAIN_QC', 'RELH', 'RELH_DM', 'RELH_QC', 'SIGT', 'SIGT_DM', 'SIGT_QC', 'SST', 'SST_DM', 'SST_QC', 'SW', 'SW_DM', 'SW_QC', 'TEMP', 'TEMP_DM', 'TEMP_QC', 'TIME', 'TIME_BNDS', 'UWND', 'VWND', 'WDIR', 'WDIR_DM', 'WDIR_QC', 'WSPD', 'WSPD_DM', 'WSPD_QC'], 'accessLevel': 'public', 'lang': ['en-US']}\n",
      "{'_id': ObjectId('5d814912a20ce1b8b05c0567'), 'title': 'In situ, meteorological, navigational, physical and profile data collected by US DOC; NOAA; NWS; National Data Buoy Center at OceanSITES site T2N140W from 1998-09-30 to 2015-08-06 (NCEI Accession 0130062)', 'description': \"In situ, meteorological, navigational, physical and profile oceanographic data were collected, including AIR TEMPERATURE, DEPTH - OBSERVATION, HYDROSTATIC PRESSURE, INCOMING SOLAR RADIATION, LATITUDE, LONGITUDE, PRECIPITATION RATE, RELATIVE HUMIDITY, SALINITY, SEA SURFACE TEMPERATURE, SIGMA-THETA, WATER TEMPERATURE, WIND DIRECTION and WIND SPEED from Moored Buoy at the TAO/TRITON Site 2N 140W (T2N140W) using GPS, anemometer, conductivity sensor, meteorological sensors, pressure sensors, pyranometer and thermistor from 1998-09-30 to 2015-08-06. These data were provided to one of the OceanSITES Data Assembly Centers (DAC). The DAC formatted this information into the OceanSITES file format and passed it on to the Global Data Assembly Centers (GDAC).\\n\\nOceanSITES is a worldwide system of long-term, open-ocean reference stations measuring dozens of variables and monitoring the full depth of the ocean from air-sea interactions down to the seafloor. It is a network of stations or observatories measuring many aspects of the ocean's surface and water column using, where possible, automated systems with advanced sensors and telecommunications systems, yielding high time resolution, often in real-time, while building a long record.\", 'keywords': ['DOC/NOAA/NESDIS/NODC > National Oceanographic Data Center', 'NESDIS', 'NOAA', 'U.S. Department of Commerce', 'DOC/NOAA/NESDIS/NCEI > National Centers for Environmental Information', 'NESDIS', 'NOAA', 'U.S. Department of Commerce', 'oceanography', 'EARTH SCIENCE > ATMOSPHERE > ATMOSPHERIC RADIATION > SHORTWAVE RADIATION', 'EARTH SCIENCE > ATMOSPHERE > ATMOSPHERIC TEMPERATURE > AIR TEMPERATURE', 'EARTH SCIENCE > ATMOSPHERE > ATMOSPHERIC WATER VAPOR > HUMIDITY', 'EARTH SCIENCE > ATMOSPHERE > ATMOSPHERIC WINDS > SURFACE WINDS', 'WIND SPEED/WIND DIRECTION', 'EARTH SCIENCE > ATMOSPHERE > PRECIPITATION > PRECIPITATION AMOUNT', 'PRECIPITATION RATE', 'EARTH SCIENCE > CLIMATE INDICATORS > ATMOSPHERIC/OCEAN INDICATORS > TELECONNECTIONS > EL NINO SOUTHERN OSCILLATION (ENSO)', 'ENSO', 'EARTH SCIENCE > OCEANS > OCEAN CIRCULATION > BUOY POSITION', 'EARTH SCIENCE > OCEANS > OCEAN HEAT BUDGET > SHORTWAVE RADIATION', 'EARTH SCIENCE > OCEANS > OCEAN PRESSURE > WATER PRESSURE', 'EARTH SCIENCE > OCEANS > OCEAN TEMPERATURE > WATER TEMPERATURE', 'SEA SURFACE TEMPERATURE', 'EARTH SCIENCE > OCEANS > OCEAN WINDS > SURFACE WINDS', 'EARTH SCIENCE > OCEANS > SALINITY/DENSITY > SALINITY', 'DENSITY', 'air_temperature', 'depth', 'eastward_wind', 'height', 'latitude', 'longitude', 'northward_wind', 'rainfall_rate', 'relative_humidity', 'sea_surface_temperature', 'sea_water_practical_salinity', 'sea_water_pressure', 'sea_water_sigma_theta', 'sea_water_temperature', 'surface_downwelling_shortwave_flux_in_air', 'time', 'wind_speed', 'wind_to_direction', 'AIRT', 'AIRT_DM', 'AIRT_QC', 'DEPTH', 'HEIGHT', 'HEIGHT_WIND', 'LATITUDE', 'LONGITUDE', 'PRES', 'PRES_DM', 'PRES_QC', 'PSAL', 'PSAL_DM', 'PSAL_QC', 'RAIN', 'RAIN_DM', 'RAIN_QC', 'RELH', 'RELH_DM', 'RELH_QC', 'SIGT', 'SIGT_DM', 'SIGT_QC', 'SST', 'SST_DM', 'SST_QC', 'SW', 'SW_DM', 'SW_QC', 'TEMP', 'TEMP_DM', 'TEMP_QC', 'TIME', 'TIME_BNDS', 'UWND', 'VWND', 'WDIR', 'WDIR_DM', 'WDIR_QC', 'WSPD', 'WSPD_DM', 'WSPD_QC'], 'accessLevel': 'public', 'lang': ['en-US']}\n",
      "{'_id': ObjectId('5d814912a20ce1b8b05c084d'), 'title': 'In situ, meteorological, navigational, physical and profile data collected by US DOC; NOAA; NWS; National Data Buoy Center at OceanSITES site T0N95W from 1998-11-06 to 2015-06-25 (NCEI Accession 0130059)', 'description': \"In situ, meteorological, navigational, physical and profile oceanographic data were collected, including AIR TEMPERATURE, DEPTH - OBSERVATION, HYDROSTATIC PRESSURE, INCOMING SOLAR RADIATION, LATITUDE, LONGITUDE, PRECIPITATION RATE, RELATIVE HUMIDITY, SALINITY, SEA SURFACE TEMPERATURE, SIGMA-THETA, WATER TEMPERATURE, WIND DIRECTION and WIND SPEED from Moored Buoy at the TAO/TRITON Site 0N 95W (T0N95W) using GPS, anemometer, conductivity sensor, meteorological sensors, pressure sensors, pyranometer, radiometer and thermistor from 1998-11-06 to 2015-06-25. These data were provided to one of the OceanSITES Data Assembly Centers (DAC). The DAC formatted this information into the OceanSITES file format and passed it on to the Global Data Assembly Centers (GDAC).\\n\\nOceanSITES is a worldwide system of long-term, open-ocean reference stations measuring dozens of variables and monitoring the full depth of the ocean from air-sea interactions down to the seafloor. It is a network of stations or observatories measuring many aspects of the ocean's surface and water column using, where possible, automated systems with advanced sensors and telecommunications systems, yielding high time resolution, often in real-time, while building a long record.\", 'keywords': ['DOC/NOAA/NESDIS/NODC > National Oceanographic Data Center', 'NESDIS', 'NOAA', 'U.S. Department of Commerce', 'DOC/NOAA/NESDIS/NCEI > National Centers for Environmental Information', 'NESDIS', 'NOAA', 'U.S. Department of Commerce', 'oceanography'], 'accessLevel': 'public', 'lang': ['en-US']}\n",
      "{'_id': ObjectId('5d814912a20ce1b8b05c05d3'), 'title': 'Climate Prediction Center (CPC) Northern and Southern Hemisphere Blocking Index', 'description': 'Atmospheric blocking is commonly referred to as the situation when the normal zonal flow is interrupted by strong and persistent meridional flow. The normal eastward progression of synoptic disturbances is obstructed leading to episodes of prolonged extreme weather conditions. On intraseasonal time scales the persistent weather extremes can last from several days up to a few weeks, often accompanied by significant temperature and precipitation anomalies. Numerous definitions of blocking exist in the literature and all involve a level if subjectivity. We use the blocking index of Tibaldi and Molteni (1990) modified from that of Lejenas and Okland (1983). This product displays the daily observed blocking index for the past 3 months up to and including the present day. Additionally, outlookss of the blocking index and the 500 hPa geopotential height field anomalies are generated form the NCEP Global Forecast System (GFS) model. The outlooks mare displayed for days 1-9 for both the northern and southern Hemispheres. The product is not archived so a historical time series is not available. To produce a time series it is recommended that the methodology of Tibaldi and Molteni (1990) be applied using the reanalysis dataset of choice. Blocking frequency over the 1950-2000 time period and composites as a function of ENSO phase are also provided.', 'keywords': ['Climate Indicators > Teleconnections > Blocking Index', 'Blocking Index', '500 hPa Geopotential Height', 'intraseasonal climate variability', 'Persistent weather anomalies', 'atmospheric patterns', 'atmospheric teleconnections', 'Geographic Region > Global', 'Vertical Location > troposphere', 'climatologyMeteorologyAtmosphere'], 'accessLevel': 'public', 'lang': ['en-US']}\n",
      "{'_id': ObjectId('5d814912a20ce1b8b05c0599'), 'title': 'In situ, meteorological, navigational, physical and profile data collected by US DOC; NOAA; NWS; National Data Buoy Center at OceanSITES site T2N95W from 1999-11-28 to 2015-06-17 (NCEI Accession 0130852)', 'description': \"In situ, meteorological, navigational, physical and profile oceanographic data were collected, including AIR TEMPERATURE, DEPTH - OBSERVATION, HYDROSTATIC PRESSURE, INCOMING SOLAR RADIATION, LATITUDE, LONGITUDE, PRECIPITATION RATE, RELATIVE HUMIDITY, SALINITY, SEA SURFACE TEMPERATURE, SIGMA-THETA, WATER TEMPERATURE, WIND DIRECTION and WIND SPEED from Moored Buoy at the TAO/TRITON Site 2N 95W (T2N95W) using GPS, anemometer, conductivity sensor, meteorological sensors, pressure sensors, pyranometer, radiometer and thermistor from 1999-11-28 to 2015-06-17. These data were provided to one of the OceanSITES Data Assembly Centers (DAC). The DAC formatted this information into the OceanSITES file format and passed it on to the Global Data Assembly Centers (GDAC).\\n\\nOceanSITES is a worldwide system of long-term, open-ocean reference stations measuring dozens of variables and monitoring the full depth of the ocean from air-sea interactions down to the seafloor. It is a network of stations or observatories measuring many aspects of the ocean's surface and water column using, where possible, automated systems with advanced sensors and telecommunications systems, yielding high time resolution, often in real-time, while building a long record.\", 'keywords': ['DOC/NOAA/NESDIS/NODC > National Oceanographic Data Center', 'NESDIS', 'NOAA', 'U.S. Department of Commerce', 'DOC/NOAA/NESDIS/NCEI > National Centers for Environmental Information', 'NESDIS', 'NOAA', 'U.S. Department of Commerce', 'oceanography', 'EARTH SCIENCE > ATMOSPHERE > ATMOSPHERIC RADIATION > LONGWAVE RADIATION', 'EARTH SCIENCE > ATMOSPHERE > ATMOSPHERIC RADIATION > SHORTWAVE RADIATION', 'EARTH SCIENCE > ATMOSPHERE > ATMOSPHERIC TEMPERATURE > AIR TEMPERATURE', 'EARTH SCIENCE > ATMOSPHERE > ATMOSPHERIC WATER VAPOR > HUMIDITY', 'EARTH SCIENCE > ATMOSPHERE > ATMOSPHERIC WINDS > SURFACE WINDS', 'WIND SPEED/WIND DIRECTION', 'EARTH SCIENCE > ATMOSPHERE > PRECIPITATION > PRECIPITATION AMOUNT', 'PRECIPITATION RATE', 'EARTH SCIENCE > CLIMATE INDICATORS > ATMOSPHERIC/OCEAN INDICATORS > TELECONNECTIONS > EL NINO SOUTHERN OSCILLATION (ENSO)', 'ENSO', 'EARTH SCIENCE > OCEANS > OCEAN CIRCULATION > BUOY POSITION', 'EARTH SCIENCE > OCEANS > OCEAN HEAT BUDGET > LONGWAVE RADIATION', 'EARTH SCIENCE > OCEANS > OCEAN HEAT BUDGET > SHORTWAVE RADIATION', 'EARTH SCIENCE > OCEANS > OCEAN PRESSURE > WATER PRESSURE', 'EARTH SCIENCE > OCEANS > OCEAN TEMPERATURE > WATER TEMPERATURE', 'SEA SURFACE TEMPERATURE', 'EARTH SCIENCE > OCEANS > OCEAN WINDS > SURFACE WINDS', 'EARTH SCIENCE > OCEANS > SALINITY/DENSITY > SALINITY', 'DENSITY', 'air_temperature', 'depth', 'eastward_wind', 'height', 'latitude', 'longitude', 'northward_wind', 'rainfall_rate', 'relative_humidity', 'sea_surface_temperature', 'sea_water_practical_salinity', 'sea_water_pressure', 'sea_water_sigma_theta', 'sea_water_temperature', 'surface_downwelling_longwave_flux_in_air', 'surface_downwelling_shortwave_flux_in_air', 'time', 'wind_speed', 'wind_to_direction', 'AIRT', 'AIRT_DM', 'AIRT_QC', 'DEPTH', 'HEIGHT', 'HEIGHT_WIND', 'LATITUDE', 'LONGITUDE', 'LW', 'LW_DM', 'LW_QC', 'PRES', 'PRES_DM', 'PRES_QC', 'PSAL', 'PSAL_DM', 'PSAL_QC', 'RAIN', 'RAIN_DM', 'RAIN_QC', 'RELH', 'RELH_DM', 'RELH_QC', 'SIGT', 'SIGT_DM', 'SIGT_QC', 'SST', 'SST_DM', 'SST_QC', 'SW', 'SW_DM', 'SW_QC', 'TEMP', 'TEMP_DM', 'TEMP_QC', 'TIME', 'TIME_BNDS', 'UWND', 'VWND', 'WDIR', 'WDIR_DM', 'WDIR_QC', 'WSPD', 'WSPD_DM', 'WSPD_QC'], 'accessLevel': 'public', 'lang': ['en-US']}\n",
      "{'_id': ObjectId('5d814912a20ce1b8b05c0883'), 'title': 'Global Historical Climatology Network - Daily (GHCN-Daily), Version 3', 'description': 'The Global Historical Climatology Network - Daily (GHCN-Daily) dataset integrates daily climate observations from approximately 30 different data sources. Version 3 was released in September 2012 with the addition of data from two additional station networks. Changes to the processing system associated with the version 3 release also allowed for updates to occur 7 days a week rather than only on most weekdays. Version 3 contains station-based measurements from well over 90,000 land-based stations worldwide, about two thirds of which are for precipitation measurement only. Other meteorological elements include, but are not limited to, daily maximum and minimum temperature, temperature at the time of observation, snowfall and snow depth. Over 25,000 stations are regularly updated with observations from within roughly the last month. The dataset is also routinely reconstructed (usually every week) from its roughly 30 data sources to ensure that GHCN-Daily is generally in sync with its growing list of constituent sources. During this process, quality assurance checks are applied to the full dataset. Where possible, GHCN-Daily station data are also updated daily from a variety of data streams. Station values for each daily update also undergo a suite of quality checks.', 'keywords': ['EARTH SCIENCE > ATMOSPHERE > ATMOSPHERIC TEMPERATURE > MAXIMUM/MINIMUM TEMPERATURE', 'EARTH SCIENCE > ATMOSPHERE > ATMOSPHERIC TEMPERATURE > AIR TEMPERATURE', 'EARTH SCIENCE > ATMOSPHERE > PRECIPITATION > PRECIPITATION AMOUNT', 'EARTH SCIENCE > ATMOSPHERE > PRECIPITATION > SNOW', 'EARTH SCIENCE > TERRESTRIAL HYDROSPHERE > SNOW/ICE > SNOW DEPTH', 'GEOGRAPHIC REGION > GLOBAL LAND', 'VERTICAL LOCATION > LAND SURFACE', 'DOC/NOAA/NESDIS/NCDC > National Climatic Data Center', 'NESDIS', 'NOAA', 'U.S. Department of Commerce'], 'accessLevel': 'public', 'lang': ['en-US']}\n",
      "{'_id': ObjectId('5d814912a20ce1b8b05c06fa'), 'title': 'Gridded in situ, meteorological, navigational, physical and profile data collected by US DOC; NOAA; OAR; Pacific Marine Environmental Laboratory at OceanSITES site PAPA from 2007-06-07 to 2015-08-06 (NCEI Accession 0130475)', 'description': \"In situ, meteorological, navigational, physical and profile oceanographic data were collected, including AIR TEMPERATURE, BAROMETRIC PRESSURE, CURRENT DIRECTION, CURRENT SPEED, CURRENT SPEED - EAST/WEST COMPONENT (U), CURRENT SPEED - NORTH/SOUTH COMPONENT (V), DEPTH - OBSERVATION, INCOMING SOLAR RADIATION, LATITUDE, LONGITUDE, PRECIPITATION RATE, RELATIVE HUMIDITY, SALINITY, SIGMA-THETA, WATER TEMPERATURE, WIND DIRECTION and WIND SPEED from Moored Buoy at the Ocean Station Papa (PAPA) using ADCP, CTD - moored CTD, anemometer, barometers, meteorological sensors, pyranometer and thermistor from 2007-06-07 to 2015-08-06. These data were provided to one of the OceanSITES Data Assembly Centers (DAC). The DAC formatted this information into the OceanSITES file format and passed it on to the Global Data Assembly Centers (GDAC).\\n\\nOceanSITES is a worldwide system of long-term, open-ocean reference stations measuring dozens of variables and monitoring the full depth of the ocean from air-sea interactions down to the seafloor. It is a network of stations or observatories measuring many aspects of the ocean's surface and water column using, where possible, automated systems with advanced sensors and telecommunications systems, yielding high time resolution, often in real-time, while building a long record.\", 'keywords': ['DOC/NOAA/NESDIS/NODC > National Oceanographic Data Center', 'NESDIS', 'NOAA', 'U.S. Department of Commerce', 'DOC/NOAA/NESDIS/NCEI > National Centers for Environmental Information', 'NESDIS', 'NOAA', 'U.S. Department of Commerce', 'oceanography', 'air_pressure_at_sea_level', 'air_temperature', 'depth', 'direction_of_sea_water_velocity', 'eastward_sea_water_velocity', 'eastward_wind', 'height', 'latitude', 'longitude', 'northward_sea_water_velocity', 'northward_wind', 'rainfall_rate', 'relative_humidity', 'sea_water_salinity', 'sea_water_sigma_theta', 'sea_water_speed', 'sea_water_temperature', 'surface_downwelling_longwave_flux_in_air', 'surface_downwelling_shortwave_flux_in_air', 'surface_downwelling_shortwave_flux_in_air_standard_deviation', 'time', 'wind_speed', 'wind_to_direction', 'ADCP_DM', 'ADCP_QC', 'AIRT', 'AIRT_DM', 'AIRT_QC', 'ATMS', 'ATMS_DM', 'ATMS_QC', 'CDIR', 'CDIR_DM', 'CDIR_QC', 'CSPD', 'CSPD_DM', 'CSPD_QC', 'DEN', 'DEN_DM', 'DEN_QC', 'DEPADCP', 'DEPCUR', 'DEPDEN', 'DEPPSAL', 'DEPTH', 'HEIGHTAIRT', 'HEIGHTATMS', 'HEIGHTLW', 'HEIGHTRAIN', 'HEIGHTRELH', 'HEIGHTSW', 'HEIGHTWIND', 'HEIGHTXY', 'LATITUDE', 'LONGITUDE', 'LW', 'LW_DM', 'LW_QC', 'PSAL', 'PSAL_DM', 'PSAL_QC', 'RAIN', 'RAIN_DM', 'RAIN_QC', 'RELH', 'RELH_DM', 'RELH_QC', 'SW', 'SWDEV', 'SW_DM', 'SW_QC', 'TEMP', 'TEMP_DM', 'TEMP_QC', 'TIME', 'UADCP', 'UCUR', 'UWND', 'VADCP', 'VCUR', 'VWND', 'WDIR', 'WDIR_DM', 'WDIR_QC', 'WSPD', 'WSPD_DM', 'WSPD_QC', 'XPOS', 'YPOS'], 'accessLevel': 'public', 'lang': ['en-US']}\n",
      "{'_id': ObjectId('5d814912a20ce1b8b05c070e'), 'title': 'Gridded in situ, meteorological, navigational, physical and profile data collected by US DOC; NOAA; OAR; Pacific Marine Environmental Laboratory at OceanSITES site KEO from 2004-06-16 to 2015-08-06 (NCEI Accession 0130542)', 'description': \"In situ, meteorological, navigational, physical and profile oceanographic data were collected, including AIR TEMPERATURE, BAROMETRIC PRESSURE, CURRENT DIRECTION, CURRENT SPEED, CURRENT SPEED - EAST/WEST COMPONENT (U), CURRENT SPEED - NORTH/SOUTH COMPONENT (V), DEPTH - OBSERVATION, HYDROSTATIC PRESSURE, INCOMING SOLAR RADIATION, LATITUDE, LONGITUDE, PRECIPITATION RATE, RELATIVE HUMIDITY, SALINITY, SIGMA-THETA, WATER TEMPERATURE, WIND DIRECTION and WIND SPEED from Moored Buoy at the NOAA Kuroshio Extension Observatory (KEO) using ADCP, CTD - moored CTD, anemometer, barometers, meteorological sensors, pyranometer and thermistor from 2004-06-16 to 2015-08-06. These data were provided to one of the OceanSITES Data Assembly Centers (DAC). The DAC formatted this information into the OceanSITES file format and passed it on to the Global Data Assembly Centers (GDAC).\\n\\nOceanSITES is a worldwide system of long-term, open-ocean reference stations measuring dozens of variables and monitoring the full depth of the ocean from air-sea interactions down to the seafloor. It is a network of stations or observatories measuring many aspects of the ocean's surface and water column using, where possible, automated systems with advanced sensors and telecommunications systems, yielding high time resolution, often in real-time, while building a long record.\", 'keywords': ['DOC/NOAA/NESDIS/NODC > National Oceanographic Data Center', 'NESDIS', 'NOAA', 'U.S. Department of Commerce', 'DOC/NOAA/NESDIS/NCEI > National Centers for Environmental Information', 'NESDIS', 'NOAA', 'U.S. Department of Commerce', 'oceanography', 'air_pressure_at_sea_level', 'air_temperature', 'depth', 'direction_of_sea_water_velocity', 'eastward_sea_water_velocity', 'eastward_wind', 'height', 'latitude', 'longitude', 'northward_sea_water_velocity', 'northward_wind', 'rainfall_rate', 'relative_humidity', 'sea_water_pressure', 'sea_water_salinity', 'sea_water_sigma_theta', 'sea_water_speed', 'sea_water_temperature', 'surface_downwelling_longwave_flux_in_air', 'surface_downwelling_shortwave_flux_in_air', 'surface_downwelling_shortwave_flux_in_air_standard_deviation', 'time', 'wind_speed', 'wind_to_direction', 'AIRT', 'AIRT_DM', 'AIRT_QC', 'ATMS', 'ATMS_DM', 'ATMS_QC', 'CDIR', 'CDIR_DM', 'CDIR_QC', 'CSPD', 'CSPD_DM', 'CSPD_QC', 'DEN', 'DEN_DM', 'DEN_QC', 'DEPCUR', 'DEPDEN', 'DEPPSAL', 'DEPTEMP', 'DEPTH', 'HEIGHTAIRT', 'HEIGHTATMS', 'HEIGHTLW', 'HEIGHTRAIN', 'HEIGHTRELH', 'HEIGHTSW', 'HEIGHTWIND', 'HEIGHTXY', 'LATITUDE', 'LONGITUDE', 'LW', 'LW_DM', 'LW_QC', 'PRES', 'PRES_DM', 'PRES_QC', 'PSAL', 'PSAL_DM', 'PSAL_QC', 'RAIN', 'RAIN_DM', 'RAIN_QC', 'RELH', 'RELH_DM', 'RELH_QC', 'SW', 'SWDEV', 'SWSPD', 'SW_DM', 'SW_QC', 'TEMP', 'TEMP_DM', 'TEMP_QC', 'TIME', 'UCUR', 'UWND', 'VCUR', 'VWND', 'WDIR', 'WDIR_DM', 'WDIR_QC', 'WSPD', 'WSPD_DM', 'WSPD_QC', 'XPOS', 'YPOS'], 'accessLevel': 'public', 'lang': ['en-US']}\n",
      "{'_id': ObjectId('5d814912a20ce1b8b05c0705'), 'title': 'Gridded in situ, meteorological, navigational, physical and profile data collected by US DOC; NOAA; OAR; Pacific Marine Environmental Laboratory at OceanSITES site PIRATA from 1997-09-11 to 2015-08-05 (NCEI Accession 0130543)', 'description': \"In situ, meteorological, navigational, physical and profile oceanographic data were collected, including AIR TEMPERATURE, BAROMETRIC PRESSURE, CURRENT DIRECTION, CURRENT SPEED, CURRENT SPEED - EAST/WEST COMPONENT (U), CURRENT SPEED - NORTH/SOUTH COMPONENT (V), DEPTH - OBSERVATION, INCOMING SOLAR RADIATION, LATITUDE, LONGITUDE, PRECIPITATION RATE, RELATIVE HUMIDITY, SALINITY, SIGMA-THETA, WATER TEMPERATURE, WIND DIRECTION and WIND SPEED from Moored Buoy at the Pilot Research Moored Array in the Tropical Atlantic (PIRATA) using ADCP, CTD - moored CTD, anemometer, barometers, meteorological sensors, pyranometer and thermistor from 1997-09-11 to 2015-08-05. These data were provided to one of the OceanSITES Data Assembly Centers (DAC). The DAC formatted this information into the OceanSITES file format and passed it on to the Global Data Assembly Centers (GDAC).\\n\\nOceanSITES is a worldwide system of long-term, open-ocean reference stations measuring dozens of variables and monitoring the full depth of the ocean from air-sea interactions down to the seafloor. It is a network of stations or observatories measuring many aspects of the ocean's surface and water column using, where possible, automated systems with advanced sensors and telecommunications systems, yielding high time resolution, often in real-time, while building a long record.\", 'keywords': ['DOC/NOAA/NESDIS/NODC > National Oceanographic Data Center', 'NESDIS', 'NOAA', 'U.S. Department of Commerce', 'DOC/NOAA/NESDIS/NCEI > National Centers for Environmental Information', 'NESDIS', 'NOAA', 'U.S. Department of Commerce', 'oceanography', 'air_pressure_at_sea_level', 'air_temperature', 'depth', 'direction_of_sea_water_velocity', 'eastward_sea_water_velocity', 'eastward_wind', 'height', 'latitude', 'longitude', 'northward_sea_water_velocity', 'northward_wind', 'rainfall_rate', 'relative_humidity', 'sea_water_salinity', 'sea_water_sigma_theta', 'sea_water_speed', 'sea_water_temperature', 'surface_downwelling_longwave_flux_in_air', 'surface_downwelling_shortwave_flux_in_air', 'time', 'wind_speed', 'wind_to_direction', 'AIRT', 'AIRT_DM', 'AIRT_QC', 'ATMS', 'ATMS_DM', 'ATMS_QC', 'CDIR', 'CDIR_DM', 'CDIR_QC', 'CSPD', 'CSPD_DM', 'CSPD_QC', 'DEN', 'DEN_DM', 'DEN_QC', 'DEPCUR', 'DEPDEN', 'DEPPSAL', 'DEPTH', 'HEIGHTAIRT', 'HEIGHTATMS', 'HEIGHTLW', 'HEIGHTRAIN', 'HEIGHTRELH', 'HEIGHTSW', 'HEIGHTWIND', 'HEIGHTXY', 'LATITUDE', 'LONGITUDE', 'LW', 'LW_DM', 'LW_QC', 'PSAL', 'PSAL_DM', 'PSAL_QC', 'RAIN', 'RAIN_DM', 'RAIN_QC', 'RELH', 'RELH_DM', 'RELH_QC', 'SW', 'SW_DM', 'SW_QC', 'TEMP', 'TEMP_DM', 'TEMP_QC', 'TIME', 'UCUR', 'UWND', 'VCUR', 'VWND', 'WDIR', 'WDIR_DM', 'WDIR_QC', 'WSPD', 'WSPD_DM', 'WSPD_QC', 'XPOS', 'YPOS'], 'accessLevel': 'public', 'lang': ['en-US']}\n",
      "{'_id': ObjectId('5d814912a20ce1b8b05c0575'), 'title': 'In situ, meteorological, navigational, physical and profile data collected by US DOC; NOAA; NWS; National Data Buoy Center at OceanSITES site T2S140W from 2000-09-22 to 2015-08-06 (NCEI Accession 0130855)', 'description': \"In situ, meteorological, navigational, physical and profile oceanographic data were collected, including AIR TEMPERATURE, CURRENT DIRECTION, CURRENT SPEED, CURRENT SPEED - EAST/WEST COMPONENT (U), CURRENT SPEED - NORTH/SOUTH COMPONENT (V), DEPTH - OBSERVATION, HYDROSTATIC PRESSURE, LATITUDE, LONGITUDE, PRECIPITATION RATE, RELATIVE HUMIDITY, SALINITY, SEA SURFACE TEMPERATURE, SIGMA-THETA, WATER TEMPERATURE, WIND DIRECTION and WIND SPEED from Moored Buoy at the TAO/TRITON Site 2S 140W (T2S140W) using GPS, anemometer, conductivity sensor, current meter, meteorological sensors, pressure sensors and thermistor from 2000-09-22 to 2015-08-06. These data were provided to one of the OceanSITES Data Assembly Centers (DAC). The DAC formatted this information into the OceanSITES file format and passed it on to the Global Data Assembly Centers (GDAC).\\n\\nOceanSITES is a worldwide system of long-term, open-ocean reference stations measuring dozens of variables and monitoring the full depth of the ocean from air-sea interactions down to the seafloor. It is a network of stations or observatories measuring many aspects of the ocean's surface and water column using, where possible, automated systems with advanced sensors and telecommunications systems, yielding high time resolution, often in real-time, while building a long record.\", 'keywords': ['DOC/NOAA/NESDIS/NODC > National Oceanographic Data Center', 'NESDIS', 'NOAA', 'U.S. Department of Commerce', 'DOC/NOAA/NESDIS/NCEI > National Centers for Environmental Information', 'NESDIS', 'NOAA', 'U.S. Department of Commerce', 'oceanography', 'EARTH SCIENCE > ATMOSPHERE > ATMOSPHERIC TEMPERATURE > AIR TEMPERATURE', 'EARTH SCIENCE > ATMOSPHERE > ATMOSPHERIC WATER VAPOR > HUMIDITY', 'EARTH SCIENCE > ATMOSPHERE > ATMOSPHERIC WINDS > SURFACE WINDS', 'WIND SPEED/WIND DIRECTION', 'EARTH SCIENCE > ATMOSPHERE > PRECIPITATION > PRECIPITATION AMOUNT', 'PRECIPITATION RATE', 'EARTH SCIENCE > CLIMATE INDICATORS > ATMOSPHERIC/OCEAN INDICATORS > TELECONNECTIONS > EL NINO SOUTHERN OSCILLATION (ENSO)', 'ENSO', 'EARTH SCIENCE > OCEANS > OCEAN CIRCULATION > BUOY POSITION', 'EARTH SCIENCE > OCEANS > OCEAN CIRCULATION > OCEAN CURRENTS', 'EARTH SCIENCE > OCEANS > OCEAN PRESSURE > WATER PRESSURE', 'EARTH SCIENCE > OCEANS > OCEAN TEMPERATURE > WATER TEMPERATURE', 'SEA SURFACE TEMPERATURE', 'EARTH SCIENCE > OCEANS > OCEAN WINDS > SURFACE WINDS', 'EARTH SCIENCE > OCEANS > SALINITY/DENSITY > SALINITY', 'DENSITY', 'air_temperature', 'depth', 'direction_of_sea_water_velocity', 'eastward_sea_water_velocity', 'eastward_wind', 'height', 'latitude', 'longitude', 'northward_sea_water_velocity', 'northward_wind', 'rainfall_rate', 'relative_humidity', 'sea_surface_temperature', 'sea_water_practical_salinity', 'sea_water_pressure', 'sea_water_sigma_theta', 'sea_water_speed', 'sea_water_temperature', 'time', 'wind_speed', 'wind_to_direction', 'AIRT', 'AIRT_DM', 'AIRT_QC', 'CDIR', 'CSPD', 'CSPD_DM', 'CSPD_QC', 'DEPTH', 'HEIGHT', 'HEIGHT_WIND', 'LATITUDE', 'LONGITUDE', 'PRES', 'PRES_DM', 'PRES_QC', 'PSAL', 'PSAL_DM', 'PSAL_QC', 'RAIN', 'RAIN_DM', 'RAIN_QC', 'RELH', 'RELH_DM', 'RELH_QC', 'SIGT', 'SIGT_DM', 'SIGT_QC', 'SST', 'SST_DM', 'SST_QC', 'TEMP', 'TEMP_DM', 'TEMP_QC', 'TIME', 'TIME_BNDS', 'UCUR', 'UCUR_DM', 'UCUR_QC', 'UWND', 'VCUR', 'VWND', 'WDIR', 'WDIR_DM', 'WDIR_QC', 'WSPD', 'WSPD_DM', 'WSPD_QC'], 'accessLevel': 'public', 'lang': ['en-US']}\n",
      "{'_id': ObjectId('5d814912a20ce1b8b05c0856'), 'title': 'In situ, meteorological, navigational, physical and profile data collected by US DOC; NOAA; OAR; Pacific Marine Environmental Laboratory at OceanSITES site PAPA from 2009-06-13 to 2010-06-15 (NCEI Accession 0130049)', 'description': \"In situ, meteorological, navigational, physical and profile oceanographic data were collected, including AIR TEMPERATURE, BAROMETRIC PRESSURE, CONDUCTIVITY, CURRENT DIRECTION, CURRENT SPEED, CURRENT SPEED - EAST/WEST COMPONENT (U), CURRENT SPEED - NORTH/SOUTH COMPONENT (V), DEPTH - OBSERVATION, HYDROSTATIC PRESSURE, INCOMING SOLAR RADIATION, LATITUDE, LONGITUDE, PRECIPITATION RATE, RELATIVE HUMIDITY, SALINITY, SIGMA-THETA, WATER TEMPERATURE, WIND DIRECTION and WIND SPEED from Moored Buoy at the Ocean Station Papa (PAPA) using GPS, anemometer, conductivity sensor, current meter, meteorological sensors, pressure sensors, pyranometer and thermistor from 2009-06-13 to 2010-06-15. These data were provided to one of the OceanSITES Data Assembly Centers (DAC). The DAC formatted this information into the OceanSITES file format and passed it on to the Global Data Assembly Centers (GDAC).\\n\\nOceanSITES is a worldwide system of long-term, open-ocean reference stations measuring dozens of variables and monitoring the full depth of the ocean from air-sea interactions down to the seafloor. It is a network of stations or observatories measuring many aspects of the ocean's surface and water column using, where possible, automated systems with advanced sensors and telecommunications systems, yielding high time resolution, often in real-time, while building a long record.\", 'keywords': ['DOC/NOAA/NESDIS/NODC > National Oceanographic Data Center', 'NESDIS', 'NOAA', 'U.S. Department of Commerce', 'DOC/NOAA/NESDIS/NCEI > National Centers for Environmental Information', 'NESDIS', 'NOAA', 'U.S. Department of Commerce', 'oceanography', 'air_pressure', 'air_temperature', 'depth', 'direction_of_sea_water_velocity', 'eastward_sea_water_velocity', 'eastward_wind', 'height', 'latitude', 'longitude', 'northward_sea_water_velocity', 'northward_wind', 'rainfall_rate', 'relative_humidity', 'sea_water_electrical_conductivity', 'sea_water_pressure', 'sea_water_salinity', 'sea_water_sigma_theta', 'sea_water_speed', 'sea_water_temperature', 'surface_downwelling_longwave_flux_in_air', 'surface_downwelling_shortwave_flux_in_air', 'time', 'wind_speed', 'wind_to_direction', 'AIRT', 'AIRT2', 'AIRT2_QC', 'AIRT_QC', 'ATMP', 'ATMP_QC', 'CDIR', 'CDIR_QC', 'CNDC', 'CNDC2', 'CNDC2_QC', 'CNDC_QC', 'CSPD', 'CSPD_QC', 'DENS', 'DEPTH', 'DEPTH_CNDC', 'DEPTH_CNDC2', 'DEPTH_PRES', 'DEPTH_PSAL', 'DEPTH_TEMP', 'DEPTH_TEMP2', 'GPS_LATITUDE', 'GPS_LONGITUDE', 'HEIGHT_AIRT', 'HEIGHT_AIRT2', 'HEIGHT_ATMP', 'HEIGHT_LW', 'HEIGHT_LW2', 'HEIGHT_RAIN', 'HEIGHT_RAIN2', 'HEIGHT_RELH', 'HEIGHT_RELH2', 'HEIGHT_SW', 'HEIGHT_SW2', 'HEIGHT_WIND', 'HEIGHT_WIND2', 'LATITUDE', 'LONGITUDE', 'LW', 'LW2', 'LW2_QC', 'LW_QC', 'PRES', 'PRES_QC', 'PSAL', 'PSAL_QC', 'RAIN', 'RAIN2', 'RAIN2_QC', 'RAIN_QC', 'RELH', 'RELH2', 'RELH2_QC', 'RELH_QC', 'SW', 'SW2', 'SW2_QC', 'SW_QC', 'TEMP', 'TEMP2', 'TEMP2_QC', 'TEMP_QC', 'TIME', 'UCUR', 'UWND', 'UWND2', 'VCUR', 'VWND', 'VWND2', 'WDIR', 'WDIR2', 'WDIR2_QC', 'WDIR_QC', 'WSPD', 'WSPD2', 'WSPD2_QC', 'WSPD_QC'], 'accessLevel': 'public', 'lang': ['en-US']}\n",
      "{'_id': ObjectId('5d814912a20ce1b8b05c0712'), 'title': 'Gridded in situ, meteorological, navigational, physical and profile data collected by US DOC; NOAA; OAR; Pacific Marine Environmental Laboratory at OceanSITES site RAMA from 1993-07-25 to 2015-08-05 (NCEI Accession 0130544)', 'description': \"In situ, meteorological, navigational, physical and profile oceanographic data were collected, including AIR TEMPERATURE, BAROMETRIC PRESSURE, CURRENT DIRECTION, CURRENT SPEED, CURRENT SPEED - EAST/WEST COMPONENT (U), CURRENT SPEED - NORTH/SOUTH COMPONENT (V), DEPTH - OBSERVATION, INCOMING SOLAR RADIATION, LATITUDE, LONGITUDE, PRECIPITATION RATE, RELATIVE HUMIDITY, SALINITY, SIGMA-THETA, WATER TEMPERATURE, WIND DIRECTION and WIND SPEED from Moored Buoy at the Research Moored Array for African-Asian-Australian Monsoon Analysis and Prediction (RAMA) using ADCP, CTD - moored CTD, anemometer, barometers, meteorological sensors, pyranometer and thermistor from 1993-07-25 to 2015-08-05. These data were provided to one of the OceanSITES Data Assembly Centers (DAC). The DAC formatted this information into the OceanSITES file format and passed it on to the Global Data Assembly Centers (GDAC).\\n\\nOceanSITES is a worldwide system of long-term, open-ocean reference stations measuring dozens of variables and monitoring the full depth of the ocean from air-sea interactions down to the seafloor. It is a network of stations or observatories measuring many aspects of the ocean's surface and water column using, where possible, automated systems with advanced sensors and telecommunications systems, yielding high time resolution, often in real-time, while building a long record.\", 'keywords': ['DOC/NOAA/NESDIS/NODC > National Oceanographic Data Center', 'NESDIS', 'NOAA', 'U.S. Department of Commerce', 'DOC/NOAA/NESDIS/NCEI > National Centers for Environmental Information', 'NESDIS', 'NOAA', 'U.S. Department of Commerce', 'oceanography', 'air_pressure_at_sea_level', 'air_temperature', 'depth', 'direction_of_sea_water_velocity', 'eastward_sea_water_velocity', 'eastward_wind', 'height', 'latitude', 'longitude', 'northward_sea_water_velocity', 'northward_wind', 'rainfall_rate', 'relative_humidity', 'sea_water_salinity', 'sea_water_sigma_theta', 'sea_water_speed', 'sea_water_temperature', 'surface_downwelling_longwave_flux_in_air', 'surface_downwelling_shortwave_flux_in_air', 'time', 'wind_speed', 'wind_to_direction', 'AIRT', 'AIRT_DM', 'AIRT_QC', 'ATMS', 'ATMS_DM', 'ATMS_QC', 'CDIR', 'CDIR_DM', 'CDIR_QC', 'CSPD', 'CSPD_DM', 'CSPD_QC', 'DEN', 'DEN_DM', 'DEN_QC', 'DEPCUR', 'DEPDEN', 'DEPPSAL', 'DEPTH', 'HEIGHTAIRT', 'HEIGHTATMS', 'HEIGHTLW', 'HEIGHTRAIN', 'HEIGHTRELH', 'HEIGHTSW', 'HEIGHTWIND', 'HEIGHTXY', 'LATITUDE', 'LONGITUDE', 'LW', 'LW_DM', 'LW_QC', 'PSAL', 'PSAL_DM', 'PSAL_QC', 'RAIN', 'RAIN_DM', 'RAIN_QC', 'RELH', 'RELH_DM', 'RELH_QC', 'SW', 'SW_DM', 'SW_QC', 'TEMP', 'TEMP_DM', 'TEMP_QC', 'TIME', 'UCUR', 'UWND', 'VCUR', 'VWND', 'WDIR', 'WDIR_DM', 'WDIR_QC', 'WSPD', 'WSPD_DM', 'WSPD_QC', 'XPOS', 'YPOS'], 'accessLevel': 'public', 'lang': ['en-US']}\n",
      "{'_id': ObjectId('5d814912a20ce1b8b05c0671'), 'title': 'In situ, meteorological, navigational, physical and profile data collected by US DOC; NOAA; NWS; National Data Buoy Center at OceanSITES site T0N125W from 1996-06-24 to 2015-08-06 (NCEI Accession 0130053)', 'description': \"In situ, meteorological, navigational, physical and profile oceanographic data were collected, including AIR TEMPERATURE, CURRENT DIRECTION, CURRENT SPEED, CURRENT SPEED - EAST/WEST COMPONENT (U), CURRENT SPEED - NORTH/SOUTH COMPONENT (V), DEPTH - OBSERVATION, HYDROSTATIC PRESSURE, INCOMING SOLAR RADIATION, LATITUDE, LONGITUDE, PRECIPITATION RATE, RELATIVE HUMIDITY, SALINITY, SEA SURFACE TEMPERATURE, SIGMA-THETA, WATER TEMPERATURE, WIND DIRECTION and WIND SPEED from Moored Buoy at the TAO/TRITON Site 0N 125W (T0N125W) using GPS, anemometer, conductivity sensor, current meter, meteorological sensors, pressure sensors, pyranometer and thermistor from 1996-06-24 to 2015-08-06. These data were provided to one of the OceanSITES Data Assembly Centers (DAC). The DAC formatted this information into the OceanSITES file format and passed it on to the Global Data Assembly Centers (GDAC).\\n\\nOceanSITES is a worldwide system of long-term, open-ocean reference stations measuring dozens of variables and monitoring the full depth of the ocean from air-sea interactions down to the seafloor. It is a network of stations or observatories measuring many aspects of the ocean's surface and water column using, where possible, automated systems with advanced sensors and telecommunications systems, yielding high time resolution, often in real-time, while building a long record.\", 'keywords': ['DOC/NOAA/NESDIS/NODC > National Oceanographic Data Center', 'NESDIS', 'NOAA', 'U.S. Department of Commerce', 'DOC/NOAA/NESDIS/NCEI > National Centers for Environmental Information', 'NESDIS', 'NOAA', 'U.S. Department of Commerce', 'oceanography', 'EARTH SCIENCE > ATMOSPHERE > ATMOSPHERIC RADIATION > SHORTWAVE RADIATION', 'EARTH SCIENCE > ATMOSPHERE > ATMOSPHERIC TEMPERATURE > AIR TEMPERATURE', 'EARTH SCIENCE > ATMOSPHERE > ATMOSPHERIC WATER VAPOR > HUMIDITY', 'EARTH SCIENCE > ATMOSPHERE > ATMOSPHERIC WINDS > SURFACE WINDS', 'WIND SPEED/WIND DIRECTION', 'EARTH SCIENCE > ATMOSPHERE > PRECIPITATION > PRECIPITATION AMOUNT', 'PRECIPITATION RATE', 'EARTH SCIENCE > CLIMATE INDICATORS > ATMOSPHERIC/OCEAN INDICATORS > TELECONNECTIONS > EL NINO SOUTHERN OSCILLATION (ENSO)', 'ENSO', 'EARTH SCIENCE > OCEANS > OCEAN CIRCULATION > BUOY POSITION', 'EARTH SCIENCE > OCEANS > OCEAN CIRCULATION > OCEAN CURRENTS', 'EARTH SCIENCE > OCEANS > OCEAN HEAT BUDGET > SHORTWAVE RADIATION', 'EARTH SCIENCE > OCEANS > OCEAN PRESSURE > WATER PRESSURE', 'EARTH SCIENCE > OCEANS > OCEAN TEMPERATURE > WATER TEMPERATURE', 'SEA SURFACE TEMPERATURE', 'EARTH SCIENCE > OCEANS > OCEAN WINDS > SURFACE WINDS', 'EARTH SCIENCE > OCEANS > SALINITY/DENSITY > SALINITY', 'DENSITY', 'air_temperature', 'depth', 'direction_of_sea_water_velocity', 'eastward_sea_water_velocity', 'eastward_wind', 'height', 'latitude', 'longitude', 'northward_sea_water_velocity', 'northward_wind', 'rainfall_rate', 'relative_humidity', 'sea_surface_temperature', 'sea_water_practical_salinity', 'sea_water_pressure', 'sea_water_sigma_theta', 'sea_water_speed', 'sea_water_temperature', 'surface_downwelling_shortwave_flux_in_air', 'time', 'wind_speed', 'wind_to_direction', 'AIRT', 'AIRT_DM', 'AIRT_QC', 'CDIR', 'CSPD', 'CSPD_DM', 'CSPD_QC', 'DEPTH', 'HEIGHT', 'HEIGHT_WIND', 'LATITUDE', 'LONGITUDE', 'PRES', 'PRES_DM', 'PRES_QC', 'PSAL', 'PSAL_DM', 'PSAL_QC', 'RAIN', 'RAIN_DM', 'RAIN_QC', 'RELH', 'RELH_DM', 'RELH_QC', 'SIGT', 'SIGT_DM', 'SIGT_QC', 'SST', 'SST_DM', 'SST_QC', 'SW', 'SW_DM', 'SW_QC', 'TEMP', 'TEMP_DM', 'TEMP_QC', 'TIME', 'TIME_BNDS', 'UCUR', 'UCUR_DM', 'UCUR_QC', 'UWND', 'VCUR', 'VWND', 'WDIR', 'WDIR_DM', 'WDIR_QC', 'WSPD', 'WSPD_DM', 'WSPD_QC'], 'accessLevel': 'public', 'lang': ['en-US']}\n",
      "{'_id': ObjectId('5d814912a20ce1b8b05c0859'), 'title': 'In situ, meteorological, navigational, physical and profile data collected by US DOC; NOAA; OAR; Pacific Marine Environmental Laboratory at OceanSITES site P12N23W from 2006-06-08 to 2013-02-27 (NCEI Accession 0130047)', 'description': \"In situ, meteorological, navigational, physical and profile oceanographic data were collected, including AIR TEMPERATURE, BAROMETRIC PRESSURE, CURRENT DIRECTION, CURRENT SPEED, CURRENT SPEED - EAST/WEST COMPONENT (U), CURRENT SPEED - NORTH/SOUTH COMPONENT (V), DEPTH - OBSERVATION, DYNAMIC HEIGHT, INCOMING SOLAR RADIATION, LATITUDE, LONGITUDE, PRECIPITATION RATE, RELATIVE HUMIDITY, SALINITY, SIGMA-THETA, WATER TEMPERATURE, WIND DIRECTION and WIND SPEED from Moored Buoy at the Pilot Research Moored Array in the Tropical Atlantic (PIRATA) at 12N 23W (P12N23W) using ADCP, CTD - moored CTD, anemometer, barometers, meteorological sensors, pyranometer and thermistor from 2006-06-08 to 2013-02-27. These data were provided to one of the OceanSITES Data Assembly Centers (DAC). The DAC formatted this information into the OceanSITES file format and passed it on to the Global Data Assembly Centers (GDAC).\\n\\nOceanSITES is a worldwide system of long-term, open-ocean reference stations measuring dozens of variables and monitoring the full depth of the ocean from air-sea interactions down to the seafloor. It is a network of stations or observatories measuring many aspects of the ocean's surface and water column using, where possible, automated systems with advanced sensors and telecommunications systems, yielding high time resolution, often in real-time, while building a long record.\", 'keywords': ['DOC/NOAA/NESDIS/NODC > National Oceanographic Data Center', 'NESDIS', 'NOAA', 'U.S. Department of Commerce', 'DOC/NOAA/NESDIS/NCEI > National Centers for Environmental Information', 'NESDIS', 'NOAA', 'U.S. Department of Commerce', 'oceanography', 'air_pressure_at_sea_level', 'air_temperature', 'depth', 'direction_of_sea_water_velocity', 'dynamic_height', 'eastward_sea_water_velocity', 'eastward_wind', 'heat_content', 'height', 'isotherm_depth', 'latitude', 'longitude', 'northward_sea_water_velocity', 'northward_wind', 'rainfall_rate', 'relative_humidity', 'sea_water_salinity', 'sea_water_sigma_theta', 'sea_water_speed', 'sea_water_temperature', 'surface_downwelling_longwave_flux_in_air', 'surface_downwelling_shortwave_flux_in_air', 'time', 'wind_speed', 'wind_to_direction', 'AIRT', 'AIRT_DM', 'AIRT_QC', 'ATMS', 'ATMS_DM', 'ATMS_QC', 'CDIR', 'CDIR_DM', 'CDIR_QC', 'CSPD', 'CSPD_DM', 'CSPD_QC', 'DEN', 'DEN_DM', 'DEN_QC', 'DEPCUR', 'DEPDEN', 'DEPPSAL', 'DEPTH', 'DYNHT', 'HEAT', 'HEIGHTAIRT', 'HEIGHTATMS', 'HEIGHTLW', 'HEIGHTRAIN', 'HEIGHTRELH', 'HEIGHTSW', 'HEIGHTWIND', 'HEIGHTXY', 'ISO', 'LATITUDE', 'LONGITUDE', 'LW', 'LW_DM', 'LW_QC', 'PSAL', 'PSAL_DM', 'PSAL_QC', 'RAIN', 'RAIN_DM', 'RAIN_QC', 'RELH', 'RELH_DM', 'RELH_QC', 'SW', 'SW_DM', 'SW_QC', 'TEMP', 'TEMP_DM', 'TEMP_QC', 'TIME', 'UCUR', 'UWND', 'VCUR', 'VWND', 'WDIR', 'WDIR_DM', 'WDIR_QC', 'WSPD', 'WSPD_DM', 'WSPD_QC', 'XPOS', 'YPOS'], 'accessLevel': 'public', 'lang': ['en-US']}\n",
      "{'_id': ObjectId('5d814912a20ce1b8b05c0682'), 'title': 'In situ, meteorological, navigational, physical and profile data collected by US DOC; NOAA; NWS; National Data Buoy Center at OceanSITES site T0N110W from 1998-10-27 to 2015-08-06 (NCEI Accession 0130052)', 'description': \"In situ, meteorological, navigational, physical and profile oceanographic data were collected, including AIR TEMPERATURE, BAROMETRIC PRESSURE, CURRENT DIRECTION, CURRENT SPEED, CURRENT SPEED - EAST/WEST COMPONENT (U), CURRENT SPEED - NORTH/SOUTH COMPONENT (V), CURRENT SPEED - UP/DOWN COMPONENT (W), DEPTH - OBSERVATION, HYDROSTATIC PRESSURE, INCOMING SOLAR RADIATION, LATITUDE, LONGITUDE, PRECIPITATION RATE, RELATIVE HUMIDITY, SALINITY, SEA SURFACE TEMPERATURE, SIGMA-THETA, WATER TEMPERATURE, WIND DIRECTION and WIND SPEED from Moored Buoy at the TAO/TRITON Site 0N 110W (T0N110W) using GPS, anemometer, conductivity sensor, current meter, meteorological sensors, pressure sensors, pyranometer, radiometer and thermistor from 1998-10-27 to 2015-08-06. These data were provided to one of the OceanSITES Data Assembly Centers (DAC). The DAC formatted this information into the OceanSITES file format and passed it on to the Global Data Assembly Centers (GDAC).\\n\\nOceanSITES is a worldwide system of long-term, open-ocean reference stations measuring dozens of variables and monitoring the full depth of the ocean from air-sea interactions down to the seafloor. It is a network of stations or observatories measuring many aspects of the ocean's surface and water column using, where possible, automated systems with advanced sensors and telecommunications systems, yielding high time resolution, often in real-time, while building a long record.\", 'keywords': ['DOC/NOAA/NESDIS/NODC > National Oceanographic Data Center', 'NESDIS', 'NOAA', 'U.S. Department of Commerce', 'DOC/NOAA/NESDIS/NCEI > National Centers for Environmental Information', 'NESDIS', 'NOAA', 'U.S. Department of Commerce', 'oceanography', 'EARTH SCIENCE > ATMOSPHERE > ATMOSPHERIC PRESSURE > SEA LEVEL PRESSURE', 'EARTH SCIENCE > ATMOSPHERE > ATMOSPHERIC RADIATION > LONGWAVE RADIATION', 'EARTH SCIENCE > ATMOSPHERE > ATMOSPHERIC RADIATION > SHORTWAVE RADIATION', 'EARTH SCIENCE > ATMOSPHERE > ATMOSPHERIC TEMPERATURE > AIR TEMPERATURE', 'EARTH SCIENCE > ATMOSPHERE > ATMOSPHERIC WATER VAPOR > HUMIDITY', 'EARTH SCIENCE > ATMOSPHERE > ATMOSPHERIC WINDS > SURFACE WINDS', 'WIND SPEED/WIND DIRECTION', 'EARTH SCIENCE > ATMOSPHERE > PRECIPITATION > PRECIPITATION AMOUNT', 'PRECIPITATION RATE', 'EARTH SCIENCE > CLIMATE INDICATORS > ATMOSPHERIC/OCEAN INDICATORS > TELECONNECTIONS > EL NINO SOUTHERN OSCILLATION (ENSO)', 'ENSO', 'EARTH SCIENCE > OCEANS > OCEAN CIRCULATION > BUOY POSITION', 'EARTH SCIENCE > OCEANS > OCEAN CIRCULATION > OCEAN CURRENTS', 'EARTH SCIENCE > OCEANS > OCEAN HEAT BUDGET > LONGWAVE RADIATION', 'EARTH SCIENCE > OCEANS > OCEAN HEAT BUDGET > SHORTWAVE RADIATION', 'EARTH SCIENCE > OCEANS > OCEAN PRESSURE > SEA LEVEL PRESSURE', 'EARTH SCIENCE > OCEANS > OCEAN PRESSURE > WATER PRESSURE', 'EARTH SCIENCE > OCEANS > OCEAN TEMPERATURE > WATER TEMPERATURE', 'SEA SURFACE TEMPERATURE', 'EARTH SCIENCE > OCEANS > OCEAN WINDS > SURFACE WINDS', 'EARTH SCIENCE > OCEANS > SALINITY/DENSITY > SALINITY', 'DENSITY', 'air_pressure_at_sea_level', 'air_temperature', 'depth', 'direction_of_sea_water_velocity', 'eastward_sea_water_velocity', 'eastward_wind', 'height', 'latitude', 'longitude', 'northward_sea_water_velocity', 'northward_wind', 'rainfall_rate', 'relative_humidity', 'sea_surface_temperature', 'sea_water_practical_salinity', 'sea_water_pressure', 'sea_water_sigma_theta', 'sea_water_speed', 'sea_water_temperature', 'surface_downwelling_longwave_flux_in_air', 'surface_downwelling_shortwave_flux_in_air', 'time', 'upward_sea_water_velocity', 'wind_speed', 'wind_to_direction', 'AIRT', 'AIRT_DM', 'AIRT_QC', 'ATMS', 'ATMS_DM', 'ATMS_QC', 'CDIR', 'CSPD', 'CSPD_DM', 'CSPD_QC', 'DEPTH', 'HEIGHT', 'HEIGHT_WIND', 'LATITUDE', 'LONGITUDE', 'LW', 'LW_DM', 'LW_QC', 'PRES', 'PRES_DM', 'PRES_QC', 'PSAL', 'PSAL_DM', 'PSAL_QC', 'RAIN', 'RAIN_DM', 'RAIN_QC', 'RELH', 'RELH_DM', 'RELH_QC', 'SIGT', 'SIGT_DM', 'SIGT_QC', 'SST', 'SST_DM', 'SST_QC', 'SW', 'SW_DM', 'SW_QC', 'TEMP', 'TEMP_DM', 'TEMP_QC', 'TIME', 'TIME_BNDS', 'UCUR', 'UCUR_DM', 'UCUR_QC', 'UWND', 'VCUR', 'VWND', 'WCUR', 'WDIR', 'WDIR_DM', 'WDIR_QC', 'WSPD', 'WSPD_DM', 'WSPD_QC'], 'accessLevel': 'public', 'lang': ['en-US']}\n",
      "{'_id': ObjectId('5d814912a20ce1b8b05c0643'), 'title': 'In situ, meteorological, navigational, physical and profile data collected by US DOC; NOAA; NWS; National Data Buoy Center at OceanSITES site T0N165E from 1998-01-08 to 2015-08-06 (NCEI Accession 0130056)', 'description': \"In situ, meteorological, navigational, physical and profile oceanographic data were collected, including AIR TEMPERATURE, BAROMETRIC PRESSURE, CURRENT DIRECTION, CURRENT SPEED, CURRENT SPEED - EAST/WEST COMPONENT (U), CURRENT SPEED - NORTH/SOUTH COMPONENT (V), CURRENT SPEED - UP/DOWN COMPONENT (W), DEPTH - OBSERVATION, HYDROSTATIC PRESSURE, INCOMING SOLAR RADIATION, LATITUDE, LONGITUDE, PRECIPITATION RATE, RELATIVE HUMIDITY, SALINITY, SEA SURFACE TEMPERATURE, SIGMA-THETA, WATER TEMPERATURE, WIND DIRECTION and WIND SPEED from Moored Buoy at the TAO/TRITON Site 0N 165E (T0N165E) using GPS, anemometer, conductivity sensor, current meter, meteorological sensors, pressure sensors, pyranometer, radiometer and thermistor from 1998-01-08 to 2015-08-06. These data were provided to one of the OceanSITES Data Assembly Centers (DAC). The DAC formatted this information into the OceanSITES file format and passed it on to the Global Data Assembly Centers (GDAC).\\n\\nOceanSITES is a worldwide system of long-term, open-ocean reference stations measuring dozens of variables and monitoring the full depth of the ocean from air-sea interactions down to the seafloor. It is a network of stations or observatories measuring many aspects of the ocean's surface and water column using, where possible, automated systems with advanced sensors and telecommunications systems, yielding high time resolution, often in real-time, while building a long record.\", 'keywords': ['DOC/NOAA/NESDIS/NODC > National Oceanographic Data Center', 'NESDIS', 'NOAA', 'U.S. Department of Commerce', 'DOC/NOAA/NESDIS/NCEI > National Centers for Environmental Information', 'NESDIS', 'NOAA', 'U.S. Department of Commerce', 'oceanography', 'EARTH SCIENCE > ATMOSPHERE > ATMOSPHERIC PRESSURE > SEA LEVEL PRESSURE', 'EARTH SCIENCE > ATMOSPHERE > ATMOSPHERIC RADIATION > LONGWAVE RADIATION', 'EARTH SCIENCE > ATMOSPHERE > ATMOSPHERIC RADIATION > SHORTWAVE RADIATION', 'EARTH SCIENCE > ATMOSPHERE > ATMOSPHERIC TEMPERATURE > AIR TEMPERATURE', 'EARTH SCIENCE > ATMOSPHERE > ATMOSPHERIC WATER VAPOR > HUMIDITY', 'EARTH SCIENCE > ATMOSPHERE > ATMOSPHERIC WINDS > SURFACE WINDS', 'WIND SPEED/WIND DIRECTION', 'EARTH SCIENCE > ATMOSPHERE > PRECIPITATION > PRECIPITATION AMOUNT', 'PRECIPITATION RATE', 'EARTH SCIENCE > CLIMATE INDICATORS > ATMOSPHERIC/OCEAN INDICATORS > TELECONNECTIONS > EL NINO SOUTHERN OSCILLATION (ENSO)', 'ENSO', 'EARTH SCIENCE > OCEANS > OCEAN CIRCULATION > BUOY POSITION', 'EARTH SCIENCE > OCEANS > OCEAN CIRCULATION > OCEAN CURRENTS', 'EARTH SCIENCE > OCEANS > OCEAN HEAT BUDGET > LONGWAVE RADIATION', 'EARTH SCIENCE > OCEANS > OCEAN HEAT BUDGET > SHORTWAVE RADIATION', 'EARTH SCIENCE > OCEANS > OCEAN PRESSURE > SEA LEVEL PRESSURE', 'EARTH SCIENCE > OCEANS > OCEAN PRESSURE > WATER PRESSURE', 'EARTH SCIENCE > OCEANS > OCEAN TEMPERATURE > WATER TEMPERATURE', 'SEA SURFACE TEMPERATURE', 'EARTH SCIENCE > OCEANS > OCEAN WINDS > SURFACE WINDS', 'EARTH SCIENCE > OCEANS > SALINITY/DENSITY > SALINITY', 'DENSITY', 'air_pressure_at_sea_level', 'air_temperature', 'depth', 'direction_of_sea_water_velocity', 'eastward_sea_water_velocity', 'eastward_wind', 'height', 'latitude', 'longitude', 'northward_sea_water_velocity', 'northward_wind', 'rainfall_rate', 'relative_humidity', 'sea_surface_temperature', 'sea_water_practical_salinity', 'sea_water_pressure', 'sea_water_sigma_theta', 'sea_water_speed', 'sea_water_temperature', 'surface_downwelling_longwave_flux_in_air', 'surface_downwelling_shortwave_flux_in_air', 'time', 'upward_sea_water_velocity', 'wind_speed', 'wind_to_direction', 'AIRT', 'AIRT_DM', 'AIRT_QC', 'ATMS', 'ATMS_DM', 'ATMS_QC', 'CDIR', 'CSPD', 'CSPD_DM', 'CSPD_QC', 'DEPTH', 'HEIGHT', 'HEIGHT_WIND', 'LATITUDE', 'LONGITUDE', 'LW', 'LW_DM', 'LW_QC', 'PRES', 'PRES_DM', 'PRES_QC', 'PSAL', 'PSAL_DM', 'PSAL_QC', 'RAIN', 'RAIN_DM', 'RAIN_QC', 'RELH', 'RELH_DM', 'RELH_QC', 'SIGT', 'SIGT_DM', 'SIGT_QC', 'SST', 'SST_DM', 'SST_QC', 'SW', 'SW_DM', 'SW_QC', 'TEMP', 'TEMP_DM', 'TEMP_QC', 'TIME', 'TIME_BNDS', 'UCUR', 'UCUR_DM', 'UCUR_QC', 'UWND', 'VCUR', 'VWND', 'WCUR', 'WDIR', 'WDIR_DM', 'WDIR_QC', 'WSPD', 'WSPD_DM', 'WSPD_QC'], 'accessLevel': 'public', 'lang': ['en-US']}\n",
      "{'_id': ObjectId('5d814912a20ce1b8b05c0628'), 'title': 'In situ, meteorological, navigational, physical and profile data collected by US DOC; NOAA; NWS; National Data Buoy Center at OceanSITES site T0N140W from 1998-05-10 to 2015-08-06 (NCEI Accession 0130054)', 'description': \"In situ, meteorological, navigational, physical and profile oceanographic data were collected, including AIR TEMPERATURE, BAROMETRIC PRESSURE, CURRENT DIRECTION, CURRENT SPEED, CURRENT SPEED - EAST/WEST COMPONENT (U), CURRENT SPEED - NORTH/SOUTH COMPONENT (V), CURRENT SPEED - UP/DOWN COMPONENT (W), DEPTH - OBSERVATION, HYDROSTATIC PRESSURE, INCOMING SOLAR RADIATION, LATITUDE, LONGITUDE, PRECIPITATION RATE, RELATIVE HUMIDITY, SALINITY, SEA SURFACE TEMPERATURE, SIGMA-THETA, WATER TEMPERATURE, WIND DIRECTION and WIND SPEED from Moored Buoy at the TAO/TRITON Site 0N 140W (T0N140W) using GPS, anemometer, conductivity sensor, current meter, meteorological sensors, pressure sensors, pyranometer, radiometer and thermistor from 1998-05-10 to 2015-08-06. These data were provided to one of the OceanSITES Data Assembly Centers (DAC). The DAC formatted this information into the OceanSITES file format and passed it on to the Global Data Assembly Centers (GDAC).\\n\\nOceanSITES is a worldwide system of long-term, open-ocean reference stations measuring dozens of variables and monitoring the full depth of the ocean from air-sea interactions down to the seafloor. It is a network of stations or observatories measuring many aspects of the ocean's surface and water column using, where possible, automated systems with advanced sensors and telecommunications systems, yielding high time resolution, often in real-time, while building a long record.\", 'keywords': ['DOC/NOAA/NESDIS/NODC > National Oceanographic Data Center', 'NESDIS', 'NOAA', 'U.S. Department of Commerce', 'DOC/NOAA/NESDIS/NCEI > National Centers for Environmental Information', 'NESDIS', 'NOAA', 'U.S. Department of Commerce', 'oceanography', 'EARTH SCIENCE > ATMOSPHERE > ATMOSPHERIC PRESSURE > SEA LEVEL PRESSURE', 'EARTH SCIENCE > ATMOSPHERE > ATMOSPHERIC RADIATION > LONGWAVE RADIATION', 'EARTH SCIENCE > ATMOSPHERE > ATMOSPHERIC RADIATION > SHORTWAVE RADIATION', 'EARTH SCIENCE > ATMOSPHERE > ATMOSPHERIC TEMPERATURE > AIR TEMPERATURE', 'EARTH SCIENCE > ATMOSPHERE > ATMOSPHERIC WATER VAPOR > HUMIDITY', 'EARTH SCIENCE > ATMOSPHERE > ATMOSPHERIC WINDS > SURFACE WINDS', 'WIND SPEED/WIND DIRECTION', 'EARTH SCIENCE > ATMOSPHERE > PRECIPITATION > PRECIPITATION AMOUNT', 'PRECIPITATION RATE', 'EARTH SCIENCE > CLIMATE INDICATORS > ATMOSPHERIC/OCEAN INDICATORS > TELECONNECTIONS > EL NINO SOUTHERN OSCILLATION (ENSO)', 'ENSO', 'EARTH SCIENCE > OCEANS > OCEAN CIRCULATION > BUOY POSITION', 'EARTH SCIENCE > OCEANS > OCEAN CIRCULATION > OCEAN CURRENTS', 'EARTH SCIENCE > OCEANS > OCEAN HEAT BUDGET > LONGWAVE RADIATION', 'EARTH SCIENCE > OCEANS > OCEAN HEAT BUDGET > SHORTWAVE RADIATION', 'EARTH SCIENCE > OCEANS > OCEAN PRESSURE > SEA LEVEL PRESSURE', 'EARTH SCIENCE > OCEANS > OCEAN PRESSURE > WATER PRESSURE', 'EARTH SCIENCE > OCEANS > OCEAN TEMPERATURE > WATER TEMPERATURE', 'SEA SURFACE TEMPERATURE', 'EARTH SCIENCE > OCEANS > OCEAN WINDS > SURFACE WINDS', 'EARTH SCIENCE > OCEANS > SALINITY/DENSITY > SALINITY', 'DENSITY', 'air_pressure_at_sea_level', 'air_temperature', 'depth', 'direction_of_sea_water_velocity', 'eastward_sea_water_velocity', 'eastward_wind', 'height', 'latitude', 'longitude', 'northward_sea_water_velocity', 'northward_wind', 'rainfall_rate', 'relative_humidity', 'sea_surface_temperature', 'sea_water_practical_salinity', 'sea_water_pressure', 'sea_water_sigma_theta', 'sea_water_speed', 'sea_water_temperature', 'surface_downwelling_longwave_flux_in_air', 'surface_downwelling_shortwave_flux_in_air', 'time', 'upward_sea_water_velocity', 'wind_speed', 'wind_to_direction', 'AIRT', 'AIRT_DM', 'AIRT_QC', 'ATMS', 'ATMS_DM', 'ATMS_QC', 'CDIR', 'CSPD', 'CSPD_DM', 'CSPD_QC', 'DEPTH', 'HEIGHT', 'HEIGHT_WIND', 'LATITUDE', 'LONGITUDE', 'LW', 'LW_DM', 'LW_QC', 'PRES', 'PRES_DM', 'PRES_QC', 'PSAL', 'PSAL_DM', 'PSAL_QC', 'RAIN', 'RAIN_DM', 'RAIN_QC', 'RELH', 'RELH_DM', 'RELH_QC', 'SIGT', 'SIGT_DM', 'SIGT_QC', 'SST', 'SST_DM', 'SST_QC', 'SW', 'SW_DM', 'SW_QC', 'TEMP', 'TEMP_DM', 'TEMP_QC', 'TIME', 'TIME_BNDS', 'UCUR', 'UCUR_DM', 'UCUR_QC', 'UWND', 'VCUR', 'VWND', 'WCUR', 'WDIR', 'WDIR_DM', 'WDIR_QC', 'WSPD', 'WSPD_DM', 'WSPD_QC'], 'accessLevel': 'public', 'lang': ['en-US']}\n",
      "{'_id': ObjectId('5d814912a20ce1b8b05c0623'), 'title': 'In situ, meteorological, navigational, physical and profile data collected by US DOC; NOAA; NWS; National Data Buoy Center at OceanSITES site T0N170W from 2000-07-03 to 2015-08-06 (NCEI Accession 0130057)', 'description': \"In situ, meteorological, navigational, physical and profile oceanographic data were collected, including AIR TEMPERATURE, BAROMETRIC PRESSURE, CURRENT DIRECTION, CURRENT SPEED, CURRENT SPEED - EAST/WEST COMPONENT (U), CURRENT SPEED - NORTH/SOUTH COMPONENT (V), CURRENT SPEED - UP/DOWN COMPONENT (W), DEPTH - OBSERVATION, HYDROSTATIC PRESSURE, INCOMING SOLAR RADIATION, LATITUDE, LONGITUDE, PRECIPITATION RATE, RELATIVE HUMIDITY, SALINITY, SEA SURFACE TEMPERATURE, SIGMA-THETA, WATER TEMPERATURE, WIND DIRECTION and WIND SPEED from Moored Buoy at the TAO/TRITON Site 0N 170W (T0N170W) using GPS, anemometer, conductivity sensor, current meter, meteorological sensors, pressure sensors, pyranometer, radiometer and thermistor from 2000-07-03 to 2015-08-06. These data were provided to one of the OceanSITES Data Assembly Centers (DAC). The DAC formatted this information into the OceanSITES file format and passed it on to the Global Data Assembly Centers (GDAC).\\n\\nOceanSITES is a worldwide system of long-term, open-ocean reference stations measuring dozens of variables and monitoring the full depth of the ocean from air-sea interactions down to the seafloor. It is a network of stations or observatories measuring many aspects of the ocean's surface and water column using, where possible, automated systems with advanced sensors and telecommunications systems, yielding high time resolution, often in real-time, while building a long record.\", 'keywords': ['DOC/NOAA/NESDIS/NODC > National Oceanographic Data Center', 'NESDIS', 'NOAA', 'U.S. Department of Commerce', 'DOC/NOAA/NESDIS/NCEI > National Centers for Environmental Information', 'NESDIS', 'NOAA', 'U.S. Department of Commerce', 'oceanography', 'EARTH SCIENCE > ATMOSPHERE > ATMOSPHERIC PRESSURE > SEA LEVEL PRESSURE', 'EARTH SCIENCE > ATMOSPHERE > ATMOSPHERIC RADIATION > LONGWAVE RADIATION', 'EARTH SCIENCE > ATMOSPHERE > ATMOSPHERIC RADIATION > SHORTWAVE RADIATION', 'EARTH SCIENCE > ATMOSPHERE > ATMOSPHERIC TEMPERATURE > AIR TEMPERATURE', 'EARTH SCIENCE > ATMOSPHERE > ATMOSPHERIC WATER VAPOR > HUMIDITY', 'EARTH SCIENCE > ATMOSPHERE > ATMOSPHERIC WINDS > SURFACE WINDS', 'WIND SPEED/WIND DIRECTION', 'EARTH SCIENCE > ATMOSPHERE > PRECIPITATION > PRECIPITATION AMOUNT', 'PRECIPITATION RATE', 'EARTH SCIENCE > CLIMATE INDICATORS > ATMOSPHERIC/OCEAN INDICATORS > TELECONNECTIONS > EL NINO SOUTHERN OSCILLATION (ENSO)', 'ENSO', 'EARTH SCIENCE > OCEANS > OCEAN CIRCULATION > BUOY POSITION', 'EARTH SCIENCE > OCEANS > OCEAN CIRCULATION > OCEAN CURRENTS', 'EARTH SCIENCE > OCEANS > OCEAN HEAT BUDGET > LONGWAVE RADIATION', 'EARTH SCIENCE > OCEANS > OCEAN HEAT BUDGET > SHORTWAVE RADIATION', 'EARTH SCIENCE > OCEANS > OCEAN PRESSURE > SEA LEVEL PRESSURE', 'EARTH SCIENCE > OCEANS > OCEAN PRESSURE > WATER PRESSURE', 'EARTH SCIENCE > OCEANS > OCEAN TEMPERATURE > WATER TEMPERATURE', 'SEA SURFACE TEMPERATURE', 'EARTH SCIENCE > OCEANS > OCEAN WINDS > SURFACE WINDS', 'EARTH SCIENCE > OCEANS > SALINITY/DENSITY > SALINITY', 'DENSITY', 'air_pressure_at_sea_level', 'air_temperature', 'depth', 'direction_of_sea_water_velocity', 'eastward_sea_water_velocity', 'eastward_wind', 'height', 'latitude', 'longitude', 'northward_sea_water_velocity', 'northward_wind', 'rainfall_rate', 'relative_humidity', 'sea_surface_temperature', 'sea_water_practical_salinity', 'sea_water_pressure', 'sea_water_sigma_theta', 'sea_water_speed', 'sea_water_temperature', 'surface_downwelling_longwave_flux_in_air', 'surface_downwelling_shortwave_flux_in_air', 'time', 'upward_sea_water_velocity', 'wind_speed', 'wind_to_direction', 'AIRT', 'AIRT_DM', 'AIRT_QC', 'ATMS', 'ATMS_DM', 'ATMS_QC', 'CDIR', 'CSPD', 'CSPD_DM', 'CSPD_QC', 'DEPTH', 'HEIGHT', 'HEIGHT_WIND', 'LATITUDE', 'LONGITUDE', 'LW', 'LW_DM', 'LW_QC', 'PRES', 'PRES_DM', 'PRES_QC', 'PSAL', 'PSAL_DM', 'PSAL_QC', 'RAIN', 'RAIN_DM', 'RAIN_QC', 'RELH', 'RELH_DM', 'RELH_QC', 'SIGT', 'SIGT_DM', 'SIGT_QC', 'SST', 'SST_DM', 'SST_QC', 'SW', 'SW_DM', 'SW_QC', 'TEMP', 'TEMP_DM', 'TEMP_QC', 'TIME', 'TIME_BNDS', 'UCUR', 'UCUR_DM', 'UCUR_QC', 'UWND', 'VCUR', 'VWND', 'WCUR', 'WDIR', 'WDIR_DM', 'WDIR_QC', 'WSPD', 'WSPD_DM', 'WSPD_QC'], 'accessLevel': 'public', 'lang': ['en-US']}\n",
      "{'_id': ObjectId('5d814912a20ce1b8b05c05c5'), 'title': 'Climate Prediction Center (CPC) Global Monthly Leaky Bucket Soil Moisture Analysis', 'description': 'Monthly global soil moisture, runoff, and evaporation data sets produced by the Leaky Bucket model at 0.5? ? 0.5? resolution for the period from 1948 to the present. The land model is a one?layer ?bucket? water balance model, while the driving input fields are Climate Prediction Center monthly global precipitation over land, which uses over 17,000 gauges worldwide, and monthly global temperature from GHCN-CAMS (Fan and Van den Dool 2008). The output consists of global monthly soil moisture, evaporation, and runoff, starting from January 1948. A distinguishing feature of this data set is that all fields are updated monthly, which greatly enhances utility for near real time purposes. Data validation shows that the land model does well; both the simulated annual cycle and interannual variability of soil moisture are reasonably good against the limited observations in different regions. Refer to these papers: Fan, Y. and H. van den Dool (2004), Climate Prediction Center global monthly soil moisture data set at 0.5? resolution for 1948 to present, J. Geophys. Res., 109, D10102, doi:10.1029/2003JD004345. Fan, Y. and H. van den Dool (2008), A global monthly land surface air temperature analysis for 1948?present, J. Geophys. Res., 113, D01103, doi:10.1029/2007JD008470.', 'keywords': ['Atmosphere > Precipitation > Precipitation Amount', 'Agriculture > Soils > Soil Moisture/Water Content', 'Terrestrial Hydrosphere > Surface Water > Runoff', 'global soil moisture data', 'Leaky Bucket model output', 'soil moisture flood monitoring data', 'drought and flood prediction', 'global soil moisture gridded data', 'global soil moisture GIS data', 'NOAA soil moisture data', 'Geographic Region > Global', 'Vertical Location > Boundary layer', 'climatologyMeteorologyAtmosphere', 'Atmosphere > Atmospheric Water Vapor > Evaporation'], 'accessLevel': 'public', 'lang': ['en-US']}\n",
      "{'_id': ObjectId('5d814912a20ce1b8b05c03c4'), 'title': 'Integrated Surface Global Hourly Data', 'description': \"Integrated Surface Data (ISD) is digital data set DSI-3505, archived at the National Climatic Data Center (NCDC). The ISD database is composed of worldwide surface weather observations from over 20,000 stations, collected and stored from sources such as the Automated Weather Network (AWN), the Global Telecommunications System (GTS), the Automated Surface Observing System (ASOS), and data keyed from paper forms. Most digital observations are decoded either at operational centers and forwarded to the Federal Climate Complex (FCC) in Asheville, NC, or decoded at the FCC. The US Air Force Combat Climatology Center (AFCCC), the National Climatic Data Center (NCDC), and the US Navy's Fleet Numerical Meteorological and Oceanographical Command Detachment (FNMOD), make up the FCC in Asheville. Each agency is responsible for data ingest, quality control, and customer support for surface climatological data. All data are now stored in a single ASCII format. Numerous DOD and civilian customers use this database in climatological applications. ISD refers to the digital database and format in which hourly and synoptic (3-hourly) weather observations are stored. The format conforms to Federal Information Processing Standards (FIPS). The database includes data originating from various codes such as synoptic, airways, METAR (Meteorological Routine Weather Report), and SMARS (Supplementary Marine Reporting Station), as well as observations from automatic weather stations. The data are sorted by station-year-month-day-hour-minute. Parameters included are: air quality, atmospheric pressure, atmospheric temperature/dew point, atmospheric winds, clouds, precipitation, ocean waves, tides and more. ISD Version 1 was released in 2001, with Version 2 (additional quality control applied) in 2003. Since 2003, there have been continued incremental improvements in automated quality control software.\", 'keywords': ['Earth Science > Atmosphere > Air Quality > Smog', 'Earth Science > Atmosphere > Air Quality > Tropospheric Ozone', 'Earth Science > Atmosphere > Air Quality > Visibility', 'Earth Science > Atmosphere > Altitude > Geopotential Height', 'Earth Science > Atmosphere > Atmospheric Chemistry > Oxygen Compounds > Ozone', 'Earth Science > Atmosphere > Atmospheric Electricity > Lightning', 'Earth Science > Atmosphere > Atmospheric Phenomena > Cyclones', 'Earth Science > Atmosphere > Atmospheric Phenomena > Drought', 'Earth Science > Atmosphere > Atmospheric Phenomena > Fog', 'Earth Science > Atmosphere > Atmospheric Phenomena > Freeze', 'Earth Science > Atmosphere > Atmospheric Phenomena > Frost', 'Earth Science > Atmosphere > Atmospheric Phenomena > Hurricanes', 'Earth Science > Atmosphere > Atmospheric Phenomena > Lightning', 'Earth Science > Atmosphere > Atmospheric Phenomena > Storms', 'Earth Science > Atmosphere > Atmospheric Phenomena > Tornadoes', 'Earth Science > Atmosphere > Atmospheric Phenomena > Typhoons', 'Earth Science > Atmosphere > Atmospheric Pressure > Anticyclones/Cyclones', 'Earth Science > Atmosphere > Atmospheric Pressure > Atmospheric Pressure Measurements', 'Earth Science > Atmosphere > Atmospheric Pressure > Pressure Tendency', 'Earth Science > Atmosphere > Atmospheric Pressure > Pressure Thickness', 'Earth Science > Atmosphere > Atmospheric Pressure > Sea Level Pressure', 'Earth Science > Atmosphere > Atmospheric Pressure > Surface Pressure', 'Earth Science > Atmosphere > Atmospheric Radiation > Sunshine', 'Earth Science > Atmosphere > Atmospheric Temperature > Air Temperature', 'Earth Science > Atmosphere > Atmospheric Temperature > Atmospheric Stability', 'Earth Science > Atmosphere > Atmospheric Temperature > Maximum/Minimum Temperature', 'Earth Science > Atmosphere > Atmospheric Temperature > Surface Air Temperature', 'Earth Science > Atmosphere > Atmospheric Temperature > Temperature Tendency', 'Earth Science > Atmosphere > Atmospheric Water Vapor > Dew Point Temperature', 'Earth Science > Atmosphere > Atmospheric Water Vapor > Evaporation', 'Earth Science > Atmosphere > Atmospheric Water Vapor > Humidity', 'Earth Science > Atmosphere > Atmospheric Water Vapor > Water Vapor Tendency', 'Earth Science > Atmosphere > Atmospheric Winds > Convection', 'Earth Science > Atmosphere > Atmospheric Winds > Convergence/Divergence', 'Earth Science > Atmosphere > Atmospheric Winds > Surface Winds', 'Earth Science > Atmosphere > Atmospheric Winds > Turbulence', 'Earth Science > Atmosphere > Atmospheric Winds > Upper Level Winds', 'Earth Science > Atmosphere > Atmospheric Winds > Vertical Wind Motion', 'Earth Science > Atmosphere > Atmospheric Winds > Vorticity', 'Earth Science > Atmosphere > Atmospheric Winds > Wind Chill', 'Earth Science > Atmosphere > Atmospheric Winds > Wind Shear', 'Earth Science > Atmosphere > Atmospheric Winds > Wind Tendency', 'Earth Science > Atmosphere > Clouds > Cloud Properties > Cloud Amount/Frequency', 'Earth Science > Atmosphere > Clouds > Cloud Properties > Cloud Ceiling', 'Earth Science > Atmosphere > Clouds > Cloud Properties > Cloud Height', 'Earth Science > Atmosphere > Clouds > Cloud Properties > Cloud Types', 'Earth Science > Atmosphere > Clouds > Cloud Properties > Cloud Vertical Distribution', 'Earth Science > Atmosphere > Precipitation > Freezing Rain', 'Earth Science > Atmosphere > Precipitation > Hail', 'Earth Science > Atmosphere > Precipitation > Precipitation Amount', 'Earth Science > Atmosphere > Precipitation > Precipitation Rate', 'Earth Science > Atmosphere > Precipitation > Rain', 'Earth Science > Atmosphere > Precipitation > Sleet', 'Earth Science > Atmosphere > Precipitation > Snow', 'EARTH SCIENCE > CRYOSPHERE > SEA ICE > SNOW DEPTH', 'Earth Science > Human Dimensions > Natural Hazards > Meteorological Hazards', 'Earth Science > Terrestrial Hydrosphere > Snow/Ice > Snow Depth', 'Earth Science > Terrestrial Hydrosphere > Surface Water > Floods', 'Earth Science > Terrestrial Hydrosphere > Surface Water > Rivers/Streams', 'Earth Science > Oceans > Ocean Waves > Wave Height', 'Earth Science > Oceans > Ocean Waves > Wind Waves', 'Earth Science > Oceans > Ocean Winds > Surface Winds', 'Earth Science > Oceans > Tides > Storm Surge', 'Earth Science > Oceans > Tides > Tidal Height', 'Geographic Region > Global Land', 'Vertical Location > Troposphere', 'Vertical Location > Land Surface', 'Vertical Location > Stratosphere', 'Vertical Location > Sea Surface', 'DOC/NOAA/NESDIS/NCDC > National Climatic Data Center', 'NESDIS', 'NOAA', 'U.S. Department of Commerce'], 'accessLevel': 'public', 'lang': ['en-US']}\n"
     ]
    }
   ],
   "source": [
    "cursor = db.records.find({'$text': {'$search': 'precipitation'}})\n",
    "for rec in cursor:\n",
    "    print(rec)"
   ]
  },
  {
   "cell_type": "code",
   "execution_count": 37,
   "metadata": {},
   "outputs": [
    {
     "name": "stderr",
     "output_type": "stream",
     "text": [
      "c:\\users\\danie\\anaconda3\\envs\\gtown\\lib\\site-packages\\ipykernel_launcher.py:2: DeprecationWarning: count is deprecated. Use Collection.count_documents instead.\n",
      "  \n"
     ]
    },
    {
     "data": {
      "text/plain": [
       "11"
      ]
     },
     "execution_count": 37,
     "metadata": {},
     "output_type": "execute_result"
    }
   ],
   "source": [
    "cursor = db.records.find({'$text': {'$search': 'fire'}})\n",
    "cursor.count()"
   ]
  },
  {
   "cell_type": "markdown",
   "metadata": {},
   "source": [
    "If we want to create a new text index, we can do so by first dropping the first text index:"
   ]
  },
  {
   "cell_type": "code",
   "execution_count": 38,
   "metadata": {},
   "outputs": [],
   "source": [
    "db.records.drop_index(\"description_text\")"
   ]
  },
  {
   "cell_type": "markdown",
   "metadata": {},
   "source": [
    "We can also create a __wildcard__ text index for scenarios where we want any text fields in the records to be searchable. In such scenarios you can index all the string fields of your document using the $** wildcard specifier.\n",
    "\n",
    "The query would go something like this:"
   ]
  },
  {
   "cell_type": "code",
   "execution_count": 39,
   "metadata": {},
   "outputs": [
    {
     "data": {
      "text/plain": [
       "'$**_text'"
      ]
     },
     "execution_count": 39,
     "metadata": {},
     "output_type": "execute_result"
    }
   ],
   "source": [
    "db.records.create_index([(\"$**\",\"text\")])"
   ]
  },
  {
   "cell_type": "code",
   "execution_count": 40,
   "metadata": {},
   "outputs": [
    {
     "name": "stdout",
     "output_type": "stream",
     "text": [
      "{'_id': ObjectId('5d814912a20ce1b8b05c0601'),\n",
      " 'accessLevel': 'public',\n",
      " 'description': 'Monthly tabulated index of the East Atlantic/ Western Russia '\n",
      "                'teleconnection pattern. The data spans the period 1950 to '\n",
      "                'present. The index is derived from a rotated principal '\n",
      "                'component analysis (RPCA) of normalized 500-hPa height '\n",
      "                'anomalies from the period 1950-2000. The data source is the '\n",
      "                'NCEP/NCAR Reanalysis. The resulting time series is then '\n",
      "                're-normalized to coincide with the 1981-2010 base period '\n",
      "                'monthly means. The index is updated monthly. Calculating the '\n",
      "                'index using the RPCA approach is a somewhat complicated '\n",
      "                'process, in that it is not derived independently of the other '\n",
      "                'extratropical teleconnection pattern indices.',\n",
      " 'keywords': ['Atmosphere > Atmospheric Pressure > Pressure Anomalies',\n",
      "              'Atmosphere > Atmospheric Pressure > Oscillations',\n",
      "              'Climate Indicators > Teleconnections > East Atlantic/ West '\n",
      "              'Russia Pattern',\n",
      "              'East Atlantic/ Western Russia Teleconnection Pattern',\n",
      "              'East Atlantic/ Western Russia Teleconnection Index',\n",
      "              'Teleconnection',\n",
      "              'Climate variability',\n",
      "              'Geographic Region > Mid-Latitude > Northern Hemisphere',\n",
      "              'Vertical Location > Troposphere',\n",
      "              'climatologyMeteorologyAtmosphere'],\n",
      " 'lang': ['en-US'],\n",
      " 'title': 'Climate Prediction Center (CPC) East Atlantic/ Western Russia '\n",
      "          'Teleconnection Pattern Index'}\n",
      "{'_id': ObjectId('5d814912a20ce1b8b05c03b5'),\n",
      " 'accessLevel': 'public',\n",
      " 'description': 'This data set consists of river ice thickness measurements, '\n",
      "                'and beginning and ending dates for river freeze-up events '\n",
      "                'from fifty stations in northern Russia. The data set includes '\n",
      "                'values from 1917 through 1992, however the record length '\n",
      "                'varies for each station. The longest station record covers '\n",
      "                'the period 1917 through 1988 (the station table shows the '\n",
      "                'beginning and end years for measurements at each station). '\n",
      "                'Data were obtained through the U.S.-Russia Working Group VIII '\n",
      "                'of the U.S.-Russia Bilateral Agreement on the Protection of '\n",
      "                'Environmental and Natural Resources.',\n",
      " 'keywords': ['Continent > Europe > Eastern Europe > Russia',\n",
      "              'EARTH SCIENCE > Cryosphere > Snow/Ice > Freeze/Thaw',\n",
      "              'EARTH SCIENCE > Cryosphere > Snow/Ice > River Ice > Duration',\n",
      "              'EARTH SCIENCE > Cryosphere > Snow/Ice > River Ice > Freeze-Up '\n",
      "              'Events',\n",
      "              'EARTH SCIENCE > Cryosphere > Snow/Ice > River Ice > Thickness',\n",
      "              'EARTH SCIENCE > Terrestrial Hydrosphere > Snow/Ice > River Ice '\n",
      "              '> Duration',\n",
      "              'EARTH SCIENCE > Terrestrial Hydrosphere > Snow/Ice > River Ice '\n",
      "              '> Freeze-Up Events',\n",
      "              'EARTH SCIENCE > Terrestrial Hydrosphere > Snow/Ice > River Ice '\n",
      "              '> Thickness',\n",
      "              'Freeze-up',\n",
      "              'Freeze-up Events',\n",
      "              'G01187',\n",
      "              'Ice Duration',\n",
      "              'Ice Thickness',\n",
      "              'NOAA',\n",
      "              'NSIDC',\n",
      "              'River Ice',\n",
      "              'Russia',\n",
      "              'Russian Rivers'],\n",
      " 'lang': ['en-US'],\n",
      " 'title': 'Russian River Ice Thickness and Duration'}\n",
      "{'_id': ObjectId('5d814912a20ce1b8b05c03a1'),\n",
      " 'accessLevel': 'public',\n",
      " 'description': 'This data set was distributed by NSIDC until October, 2003, '\n",
      "                'when it was withdrawn from distribution because it duplicates '\n",
      "                'the NOAA National Climatic Data Center (NCDC) data set '\n",
      "                'DSI-3720. The NCDC data set is revised and updated beyond '\n",
      "                'what was distributed by NSIDC. This archive consists of '\n",
      "                'monthly precipitation measurements from 622 stations located '\n",
      "                'in the Former Soviet Union.',\n",
      " 'keywords': ['Continent > Europe > Eastern Europe > Russia',\n",
      "              'EARTH SCIENCE > Atmosphere > Precipitation > Precipitation '\n",
      "              'Amount',\n",
      "              'EARTH SCIENCE > Atmosphere > Precipitation > Precipitation Rate',\n",
      "              'EARTH SCIENCE > Atmosphere > Precipitation > Rain',\n",
      "              'EARTH SCIENCE > Atmosphere > Precipitation > Snow',\n",
      "              'EARTH SCIENCE > Terrestrial Hydrosphere > Snow/Ice > Snow Cover',\n",
      "              'EOSDIS > Earth Observing System Data Information System',\n",
      "              'ESIP > Earth Science Information Partners Program',\n",
      "              'Asia',\n",
      "              'Europe',\n",
      "              'Former Soviet Union',\n",
      "              'GAUGE BUCKET',\n",
      "              'GAUGE POST',\n",
      "              'NIPHER',\n",
      "              'Precipitation',\n",
      "              'Rain',\n",
      "              'Rain Gauge',\n",
      "              'Russia',\n",
      "              'Soviet',\n",
      "              'State Hydrological Institute',\n",
      "              'Station',\n",
      "              'Tretiyakov',\n",
      "              'Ussr'],\n",
      " 'lang': ['en-US'],\n",
      " 'title': 'Former Soviet Union Monthly Precipitation Archive, 1891-1993'}\n",
      "{'_id': ObjectId('5d814912a20ce1b8b05c03b3'),\n",
      " 'accessLevel': 'public',\n",
      " 'description': 'This data set contains precipitation data originally recorded '\n",
      "                'in log books at 65 coastal and island meteorological '\n",
      "                'stations, and later digitized at the Arctic and Antarctic '\n",
      "                'Research Institute (AARI), St. Petersburg, Russia, under the '\n",
      "                'direction of Vladimir Radionov. Records from most stations '\n",
      "                'begin in 1940. Instrumentation was generally a rain gauge '\n",
      "                'with Nipher shield until the early 1950s (for most stations), '\n",
      "                'when the Tretyakov precipitation gauge replaced earlier '\n",
      "                'instrumentation.  Data have not been adjusted for gauge type '\n",
      "                'or wind bias. Observers corrected the data from 1967-1990 for '\n",
      "                'wetting loss as they recorded the station data.',\n",
      " 'keywords': ['Continent > Europe > Eastern Europe > Russia',\n",
      "              'Geographic Region > Arctic',\n",
      "              'EARTH SCIENCE > Atmosphere > Precipitation > Precipitation '\n",
      "              'Amount',\n",
      "              'AARI',\n",
      "              'coastal precipitation',\n",
      "              'island precipitation',\n",
      "              'land-sea boundary',\n",
      "              'NOAA'],\n",
      " 'lang': ['en-US'],\n",
      " 'title': 'Daily Precipitation Sums at Coastal and Island Russian Arctic '\n",
      "          'Stations, 1940-1990'}\n",
      "{'_id': ObjectId('5d814912a20ce1b8b05c03a7'),\n",
      " 'accessLevel': 'public',\n",
      " 'description': 'This data set contains monthly mean precipitation sums from '\n",
      "                'Russian arctic stations. Precipitation measurements were '\n",
      "                'acquired using a Tretyakov precipitation gauge. Data have not '\n",
      "                'been adjusted for wind bias. Data from 1967 and later are '\n",
      "                'corrected for wetting loss (this correction was made by '\n",
      "                'observers as they recorded the station data). Precipitation '\n",
      "                'measurements from 216 stations are available. An analysis of '\n",
      "                'existing precipitation data sets confirmed that data from '\n",
      "                'these stations are not, at the time of publication, available '\n",
      "                'in other commonly used precipitation data sets. Most data '\n",
      "                'records begin in 1966 and end in 1990. The data are in '\n",
      "                'tab-delimited ASCII format and available via FTP.',\n",
      " 'keywords': ['Continent > Europe > Eastern Europe > Russia',\n",
      "              'Geographic Region > Arctic',\n",
      "              'Geographic Region > Northern Hemisphere',\n",
      "              'EARTH SCIENCE > Atmosphere > Precipitation > Precipitation '\n",
      "              'Amount',\n",
      "              'Arctic',\n",
      "              'NOAA',\n",
      "              'Russian Arctic',\n",
      "              'SEARCH > Study of Environmental Arctic Change'],\n",
      " 'lang': ['en-US'],\n",
      " 'title': 'Monthly Mean Precipitation Sums at Russian Arctic Stations, '\n",
      "          '1966-1990'}\n",
      "{'_id': ObjectId('5d814912a20ce1b8b05c03a0'),\n",
      " 'accessLevel': 'public',\n",
      " 'description': 'This data set contains sea ice and snow measurements '\n",
      "                'collected during aircraft landings associated with the Soviet '\n",
      "                \"Union's historical Sever airborne and North Pole drifting \"\n",
      "                'station programs. The High-Latitude Airborne Annual '\n",
      "                'Expeditions Sever (Sever means North) took place in 1937, '\n",
      "                '1941, 1948-1952, and 1954-1993 (Konstantinov and Grachev, '\n",
      "                '2000). In Spring 1993, the last (45th) Sever expedition '\n",
      "                'finished long-term activity in the Arctic. Snow and sea ice '\n",
      "                'data were collected, along with meteorological and '\n",
      "                'hydrological measurements (the latter are not part of this '\n",
      "                'data set). Up to 202 landings were accomplished each year.  '\n",
      "                'The data set contains measurements of 23 parameters, '\n",
      "                'including ice thickness and snow depth on the runway and '\n",
      "                'surrounding area; ridge, hummock, and sastrugi dimensions and '\n",
      "                'areal coverage; and snow density. The sea ice thickness data '\n",
      "                'are of particular importance, as ice thickness measurements '\n",
      "                'for the Arctic Basin are scarce. These data are a subset of '\n",
      "                'those used to create the atlas Morphometric Characteristics '\n",
      "                'of Ice and Snow in the Arctic Basin, self-published by Ilya '\n",
      "                'P. Romanov in 1993, and republished by Backbone Publishing '\n",
      "                'Company in 1995. Romanov provided these data to the National '\n",
      "                'Snow and Ice Data Center (NSIDC) in 1994.',\n",
      " 'keywords': ['Continent > Europe > Eastern Europe > Russia',\n",
      "              'Geographic Region > Arctic > Arctic Basin',\n",
      "              'EARTH SCIENCE > Cryosphere > Sea Ice > Ice Deformation',\n",
      "              'EARTH SCIENCE > Cryosphere > Sea Ice > Ice Depth/Thickness',\n",
      "              'EARTH SCIENCE > Cryosphere > Sea Ice > Ice Floes > Length',\n",
      "              'EARTH SCIENCE > Cryosphere > Sea Ice > Ice Floes > Width',\n",
      "              'EARTH SCIENCE > Cryosphere > Sea Ice > Ice Roughness > Hummocks',\n",
      "              'EARTH SCIENCE > Cryosphere > Sea Ice > Sea Ice Elevation > '\n",
      "              'Hummocks',\n",
      "              'EARTH SCIENCE > Cryosphere > Sea Ice > Snow Depth',\n",
      "              'EARTH SCIENCE > Cryosphere > Snow/Ice > Snow Density',\n",
      "              'EARTH SCIENCE > Cryosphere > Snow/Ice > Snow Depth',\n",
      "              'EARTH SCIENCE > Oceans > Sea Ice > Ice Deformation',\n",
      "              'EARTH SCIENCE > Oceans > Sea Ice > Ice Depth/Thickness',\n",
      "              'EARTH SCIENCE > Oceans > Sea Ice > Ice Floes > Length',\n",
      "              'EARTH SCIENCE > Oceans > Sea Ice > Ice Floes > Width',\n",
      "              'EARTH SCIENCE > Oceans > Sea Ice > Ice Roughness > Hummocks',\n",
      "              'EARTH SCIENCE > Oceans > Sea Ice > Sea Ice Elevation',\n",
      "              'EARTH SCIENCE > Oceans > Sea Ice > Snow Depth',\n",
      "              'EARTH SCIENCE > Terrestrial Hydrosphere > Snow/Ice > Snow '\n",
      "              'Density',\n",
      "              'EARTH SCIENCE > Terrestrial Hydrosphere > Snow/Ice > Snow Depth',\n",
      "              'Aircraft',\n",
      "              'Arctic Basin',\n",
      "              'Arctic Sea Ice',\n",
      "              'g02140',\n",
      "              'NOAA',\n",
      "              'North Pole',\n",
      "              'North Pole drifting station',\n",
      "              'Sever'],\n",
      " 'lang': ['en-US'],\n",
      " 'title': 'Morphometric Characteristics of Ice and Snow in the Arctic Basin: '\n",
      "          'Aircraft Landing Observations from the Former Soviet Union, '\n",
      "          '1928-1989'}\n",
      "{'_id': ObjectId('5d814912a20ce1b8b05c09bb'),\n",
      " 'accessLevel': 'public',\n",
      " 'description': 'Temperature, salinity, and other data were collected using '\n",
      "                'buoy casts in the Arctic Ocean, Barents Sea and Beaufort Sea '\n",
      "                'from 1948 to 1993. Data were collected by the US Naval '\n",
      "                'Oceanographic Office, Arctic and Antarctic Research Institute '\n",
      "                'of the Russian Federation, US NODC-NOAA, Russia National '\n",
      "                'Ocean Data Center, Canada Institute for Ocean Service, ERIM '\n",
      "                'International, and University of Washington.',\n",
      " 'keywords': ['DOC/NOAA/NESDIS/NODC > National Oceanographic Data Center',\n",
      "              'NESDIS',\n",
      "              'NOAA',\n",
      "              'U.S. Department of Commerce',\n",
      "              'DOC/NOAA/NESDIS/NCEI > National Centers for Environmental '\n",
      "              'Information',\n",
      "              'NESDIS',\n",
      "              'NOAA',\n",
      "              'U.S. Department of Commerce',\n",
      "              'oceanography'],\n",
      " 'lang': ['en-US'],\n",
      " 'title': 'Temperature, salinity, and other data from buoy casts in the Arctic '\n",
      "          'Ocean, Barents Sea and Beaufort Sea from 1948 to 1993 (NCEI '\n",
      "          'Accession 9800040)'}\n",
      "{'_id': ObjectId('5d814912a20ce1b8b05c03b7'),\n",
      " 'accessLevel': 'public',\n",
      " 'description': 'This film documents the activities that occurred on Drifting '\n",
      "                'Station Alpha in the Arctic Ocean during the International '\n",
      "                'Geophysical Year, 1957 to 1958. The film is narrated by '\n",
      "                'project leader, Norbert Untersteiner, and chronicles the life '\n",
      "                'of the team as they built their camp and set up experiments. '\n",
      "                'Station Alpha was the first long-term scientific base on '\n",
      "                'arctic pack ice operated by a Western country. At the time of '\n",
      "                'its establishment, Russia had already operated six drifting '\n",
      "                'ice camps of this kind. However, due to the strategic '\n",
      "                'importance and sensitivity of the Arctic Basin, little '\n",
      "                'information from these early stations had reached the West. '\n",
      "                'The documentary was filmed and produced by Frans van der '\n",
      "                'Hoeven (Senior Scientist at Station Alpha) and Norbert '\n",
      "                'Untersteiner (Scientific Leader of Station Alpha). Station '\n",
      "                'Alpha drifted in an area of the Arctic ocean located 500 km '\n",
      "                'north of Barrow, Alaska USA from April 1957 to November 1958; '\n",
      "                'the film covers this entire time period. Digitized copies of '\n",
      "                'the film are available on DVD.',\n",
      " 'keywords': ['Ocean > Arctic Ocean',\n",
      "              'EARTH SCIENCE > Cryosphere > Sea Ice > Sea Ice Motion',\n",
      "              'EARTH SCIENCE > Oceans > Sea Ice > Sea Ice Motion',\n",
      "              'Arctic Sea Ice',\n",
      "              'Drifting Station',\n",
      "              'Polar Sea Ice',\n",
      "              'Sea Ice',\n",
      "              'Sea Ice Drift',\n",
      "              'Sea Ice Motion'],\n",
      " 'lang': ['en-US'],\n",
      " 'title': 'International Geophysical Year, 1957-1958: Drifting Station Alpha '\n",
      "          'Documentary Film'}\n",
      "{'_id': ObjectId('5d814912a20ce1b8b05c061f'),\n",
      " 'accessLevel': 'public',\n",
      " 'description': 'The Midwater Assessment and Conservation Engineering (MACE) '\n",
      "                'program of the Alaska Fisheries Science Center (AFSC; NOAA '\n",
      "                'National Marine Fisheries Service) conducted an '\n",
      "                'acoustic-trawl (AT) stock assessment survey in the eastern '\n",
      "                'Bering Sea during the summer of 2010 to estimate the '\n",
      "                'distribution and abundance of walleye pollock (Gadus '\n",
      "                'chalcogrammus). The survey was conducted between 5 June and 7 '\n",
      "                'August, 2010, along the eastern Bering Sea (EBS) shelf and in '\n",
      "                'the Cape Navarin area of Russia. The survey was divided into '\n",
      "                'three segments; leg 1 was 5 June to 24 June, leg 2 was 29 '\n",
      "                'June to 16 July, and leg 3 was 20 July to 7 August, 2010. The '\n",
      "                'survey was conducted onboard NOAA Ship Oscar Dyson, a 64 '\n",
      "                'meter stern trawler equipped with acoustic and oceanographic '\n",
      "                'instrumentation in addition to trawling and biological '\n",
      "                'sampling capabilities. The primary instrumentation for the '\n",
      "                'survey was a Simrad EK60 split-beam echosounder system '\n",
      "                'utilizing five frequencies (18, 38, 70, 120, and 200 kHz) and '\n",
      "                'a Simrad ME70 multibeam echosounder, with the ME70 transmit '\n",
      "                'pulse synchronized to the EK60 system. This data set includes '\n",
      "                'Kongsberg Simrad ME70 raw multibeam data, Seabird CTD data, '\n",
      "                \"and ship's navigation/oceanographic/meteorological sensor \"\n",
      "                'data.',\n",
      " 'keywords': ['EARTH SCIENCE > Oceans > Ocean Acoustics > Acoustic Scattering',\n",
      "              'EARTH SCIENCE > Oceans > Aquatic Sciences > Fisheries',\n",
      "              'EARTH SCIENCE > Oceans > Bathymetry/Seafloor Topography > '\n",
      "              'Bathymetry',\n",
      "              'EARTH SCIENCE > Biosphere > Aquatic Ecosystems',\n",
      "              'EARTH SCIENCE > Biosphere > Aquatic Ecosystems > Marine Habitat',\n",
      "              'EARTH SCIENCE > Biosphere > Aquatic Ecosystems > Benthic '\n",
      "              'Habitat',\n",
      "              'EARTH SCIENCE > Biosphere > Aquatic Ecosystems > Pelagic '\n",
      "              'Habitat',\n",
      "              'EARTH SCIENCE > Oceans > Bathymetry/Seafloor Topography > '\n",
      "              'Seafloor Topography',\n",
      "              'Bering Sea',\n",
      "              'DOC/NOAA/NESDIS/NCEI > National Centers for Environmental '\n",
      "              'Information',\n",
      "              'NESDIS',\n",
      "              'NOAA',\n",
      "              'U.S. Department of Commerce',\n",
      "              'DOC/NOAA/NMFS > National Marine Fisheries Service',\n",
      "              'NOAA',\n",
      "              'U.S. Department of Commerce',\n",
      "              'Global',\n",
      "              'Sea Floor',\n",
      "              'In Situ/Laboratory Instruments > Profilers/Sounders > Acoustic '\n",
      "              'Sounders > WCMS > Water Column Mapping System'],\n",
      " 'lang': ['en-US'],\n",
      " 'title': 'Eastern Bering Sea Acoustic-Trawl Survey of Walleye Pollock '\n",
      "          '(DY1006)'}\n"
     ]
    }
   ],
   "source": [
    "cursor = db.records.find({'$text': {'$search': \"Russia\"}})\n",
    "for rec in cursor:\n",
    "    pprint(rec)"
   ]
  },
  {
   "cell_type": "markdown",
   "metadata": {},
   "source": [
    "### Projections \n",
    "\n",
    "Projections allow you to pass along the documents with only the specified fields to the next stage in the pipeline. The specified fields can be existing fields from the input documents or newly computed fields.\n",
    "\n",
    "For example, let's redo our fulltext Russia search, but project just the titles of the records:"
   ]
  },
  {
   "cell_type": "code",
   "execution_count": 41,
   "metadata": {},
   "outputs": [
    {
     "name": "stdout",
     "output_type": "stream",
     "text": [
      "{'title': 'Climate Prediction Center (CPC) East Atlantic/ Western Russia Teleconnection Pattern Index'}\n",
      "{'title': 'Russian River Ice Thickness and Duration'}\n",
      "{'title': 'Former Soviet Union Monthly Precipitation Archive, 1891-1993'}\n",
      "{'title': 'Daily Precipitation Sums at Coastal and Island Russian Arctic Stations, 1940-1990'}\n",
      "{'title': 'Monthly Mean Precipitation Sums at Russian Arctic Stations, 1966-1990'}\n",
      "{'title': 'Morphometric Characteristics of Ice and Snow in the Arctic Basin: Aircraft Landing Observations from the Former Soviet Union, 1928-1989'}\n",
      "{'title': 'Temperature, salinity, and other data from buoy casts in the Arctic Ocean, Barents Sea and Beaufort Sea from 1948 to 1993 (NCEI Accession 9800040)'}\n",
      "{'title': 'International Geophysical Year, 1957-1958: Drifting Station Alpha Documentary Film'}\n",
      "{'title': 'Eastern Bering Sea Acoustic-Trawl Survey of Walleye Pollock (DY1006)'}\n"
     ]
    }
   ],
   "source": [
    "cursor = db.records.find({'$text': {'$search': \"Russia\"}}, {\"title\": 1,\"_id\":0 })\n",
    "for rec in cursor:\n",
    "    print(rec)"
   ]
  },
  {
   "cell_type": "markdown",
   "metadata": {},
   "source": [
    "### Limit    \n",
    "\n",
    "`.limit()` passes the first _n_ documents unmodified to the pipeline where _n_ is the specified limit. For each input document, this method outputs either one document (for the first _n_ documents) or zero documents (after the first _n_ documents)."
   ]
  },
  {
   "cell_type": "code",
   "execution_count": 42,
   "metadata": {},
   "outputs": [
    {
     "name": "stdout",
     "output_type": "stream",
     "text": [
      "{'title': 'Climate Prediction Center (CPC) East Atlantic/ Western Russia Teleconnection Pattern Index'}\n",
      "{'title': 'Russian River Ice Thickness and Duration'}\n"
     ]
    }
   ],
   "source": [
    "cursor = db.records.find({'$text': {'$search': \"Russia\"}}, {\"title\": 1,\"_id\":0 }).limit(2)\n",
    "for rec in cursor:\n",
    "    print(rec)"
   ]
  },
  {
   "cell_type": "markdown",
   "metadata": {},
   "source": [
    "### Aggregate\n",
    "MongoDB can perform aggregation operations with `.aggregate()`, such as grouping by a specified key and evaluating a total or a count for each distinct group.    \n",
    "\n",
    "Use the `$group` stage to group by a specified key using the \\_id field. `$group` accesses fields by the field path, which is the field name prefixed by a dollar sign.    \n",
    "\n",
    "For example, we can use `$group` to aggregate all the languages of the NOAA records:"
   ]
  },
  {
   "cell_type": "code",
   "execution_count": 43,
   "metadata": {},
   "outputs": [
    {
     "name": "stdout",
     "output_type": "stream",
     "text": [
      "{'_id': ['en-US'], 'count': 1722}\n"
     ]
    }
   ],
   "source": [
    "cursor = db.records.aggregate(\n",
    "    [\n",
    "        {\"$group\": {\"_id\": \"$lang\", \"count\": {\"$sum\": 1}}}\n",
    "    ]\n",
    ")\n",
    "for document in cursor:\n",
    "    pprint(document)"
   ]
  },
  {
   "cell_type": "markdown",
   "metadata": {},
   "source": [
    "Or we can combine `$match` and `$group` to aggregate the titles of just the public access records that match the word 'Soviet':"
   ]
  },
  {
   "cell_type": "code",
   "execution_count": 44,
   "metadata": {},
   "outputs": [
    {
     "name": "stdout",
     "output_type": "stream",
     "text": [
      "{'_id': 'Monthly Mean Precipitation Sums at Russian Arctic Stations, 1966-1990'}\n",
      "{'_id': 'Climate Prediction Center (CPC) East Atlantic/ Western Russia '\n",
      "        'Teleconnection Pattern Index'}\n",
      "{'_id': 'Temperature, salinity, and other data from buoy casts in the Arctic '\n",
      "        'Ocean, Barents Sea and Beaufort Sea from 1948 to 1993 (NCEI Accession '\n",
      "        '9800040)'}\n",
      "{'_id': 'International Geophysical Year, 1957-1958: Drifting Station Alpha '\n",
      "        'Documentary Film'}\n",
      "{'_id': 'Eastern Bering Sea Acoustic-Trawl Survey of Walleye Pollock (DY1006)'}\n",
      "{'_id': 'Russian River Ice Thickness and Duration'}\n",
      "{'_id': 'Daily Precipitation Sums at Coastal and Island Russian Arctic '\n",
      "        'Stations, 1940-1990'}\n",
      "{'_id': 'Morphometric Characteristics of Ice and Snow in the Arctic Basin: '\n",
      "        'Aircraft Landing Observations from the Former Soviet Union, 1928-1989'}\n",
      "{'_id': 'Former Soviet Union Monthly Precipitation Archive, 1891-1993'}\n"
     ]
    }
   ],
   "source": [
    "cursor = db.records.aggregate(\n",
    "    [\n",
    "        {\"$match\": {'$text': {'$search': \"Russia\"}, \"accessLevel\": \"public\"}},\n",
    "        {\"$group\": {\"_id\": \"$title\"}}\n",
    "    ]\n",
    ")\n",
    "\n",
    "for document in cursor:\n",
    "    pprint(document)"
   ]
  },
  {
   "cell_type": "markdown",
   "metadata": {},
   "source": [
    "### The aggregation pipeline \n",
    "\n",
    "The [aggregation pipeline](https://docs.mongodb.org/manual/core/aggregation-pipeline/) allows MongoDB to provide native aggregation capabilities that corresponds to many common data aggregation operations in SQL.  Here's where you will put the pieces together to aggregate to get results that you can begin to analyze and perform machine learning on.\n",
    "\n",
    "Here's an example of an aggregation pipeline:"
   ]
  },
  {
   "cell_type": "code",
   "execution_count": 45,
   "metadata": {},
   "outputs": [
    {
     "data": {
      "image/png": "[encoded data removed]",
      "text/plain": [
       "<IPython.core.display.Image object>"
      ]
     },
     "execution_count": 45,
     "metadata": {
      "image/png": {
       "height": 300,
       "width": 600
      }
     },
     "output_type": "execute_result"
    }
   ],
   "source": [
    "from IPython.display import Image\n",
    "Image(filename='images/mongodb_pipeline.png', width=600, height=300)"
   ]
  },
  {
   "cell_type": "markdown",
   "metadata": {},
   "source": [
    "### Removing data    \n",
    "\n",
    "It's easy (almost too easy) to delete projects, collections, and databases in MongoDB. Before we get rid of anything, let's determine what collections we have in our database:"
   ]
  },
  {
   "cell_type": "code",
   "execution_count": 46,
   "metadata": {},
   "outputs": [
    {
     "data": {
      "text/plain": [
       "['records']"
      ]
     },
     "execution_count": 46,
     "metadata": {},
     "output_type": "execute_result"
    }
   ],
   "source": [
    "conn.earthwindfire.list_collection_names()"
   ]
  },
  {
   "cell_type": "markdown",
   "metadata": {},
   "source": [
    "Now let's delete our records collection and check again to see what collections are in our database:"
   ]
  },
  {
   "cell_type": "code",
   "execution_count": 47,
   "metadata": {},
   "outputs": [
    {
     "data": {
      "text/plain": [
       "[]"
      ]
     },
     "execution_count": 47,
     "metadata": {},
     "output_type": "execute_result"
    }
   ],
   "source": [
    "conn.earthwindfire.drop_collection(\"records\")\n",
    "conn.earthwindfire.list_collection_names()"
   ]
  },
  {
   "cell_type": "markdown",
   "metadata": {},
   "source": [
    "We can also just drop a database. First let's determine what databases we have:"
   ]
  },
  {
   "cell_type": "code",
   "execution_count": 48,
   "metadata": {},
   "outputs": [
    {
     "data": {
      "text/plain": [
       "['admin', 'config', 'local', 'mydb']"
      ]
     },
     "execution_count": 48,
     "metadata": {},
     "output_type": "execute_result"
    }
   ],
   "source": [
    "conn.list_database_names()"
   ]
  },
  {
   "cell_type": "markdown",
   "metadata": {},
   "source": [
    "Note that the 'earthwindfire' database is no longer listed.\n"
   ]
  },
  {
   "cell_type": "markdown",
   "metadata": {},
   "source": [
    "## Miscellaneous\n",
    "\n",
    "### Statistics    \n",
    "\n",
    "The [`dbstats`](https://docs.mongodb.org/manual/reference/method/db.stats/) method returns statistics that reflect the use state of a single database:"
   ]
  },
  {
   "cell_type": "code",
   "execution_count": 49,
   "metadata": {},
   "outputs": [
    {
     "data": {
      "text/plain": [
       "{'db': 'mydb',\n",
       " 'collections': 1,\n",
       " 'views': 0,\n",
       " 'objects': 3,\n",
       " 'avgObjSize': 121.0,\n",
       " 'dataSize': 363.0,\n",
       " 'storageSize': 4096.0,\n",
       " 'numExtents': 0,\n",
       " 'indexes': 1,\n",
       " 'indexSize': 4096.0,\n",
       " 'scaleFactor': 1.0,\n",
       " 'fsUsedSize': 91175235584.0,\n",
       " 'fsTotalSize': 125760958464.0,\n",
       " 'ok': 1.0}"
      ]
     },
     "execution_count": 49,
     "metadata": {},
     "output_type": "execute_result"
    }
   ],
   "source": [
    "db = conn.mydb\n",
    "collection = db.my_collection\n",
    "db.command({'dbstats': 1})"
   ]
  },
  {
   "cell_type": "markdown",
   "metadata": {},
   "source": [
    "[`collStats`](https://docs.mongodb.org/manual/reference/command/collStats/) returns a variety of storage statistics for a given collection. Let's try it out for our NOAA records collection:"
   ]
  },
  {
   "cell_type": "code",
   "execution_count": 50,
   "metadata": {},
   "outputs": [
    {
     "data": {
      "text/plain": [
       "{'ns': 'mydb.my_collection',\n",
       " 'size': 363,\n",
       " 'count': 3,\n",
       " 'avgObjSize': 121,\n",
       " 'storageSize': 4096,\n",
       " 'capped': False,\n",
       " 'wiredTiger': {'metadata': {'formatVersion': 1},\n",
       "  'creationString': 'access_pattern_hint=none,allocation_size=4KB,app_metadata=(formatVersion=1),assert=(commit_timestamp=none,durable_timestamp=none,read_timestamp=none),block_allocation=best,block_compressor=snappy,cache_resident=false,checksum=on,colgroups=,collator=,columns=,dictionary=0,encryption=(keyid=,name=),exclusive=false,extractor=,format=btree,huffman_key=,huffman_value=,ignore_in_memory_cache_size=false,immutable=false,internal_item_max=0,internal_key_max=0,internal_key_truncate=true,internal_page_max=4KB,key_format=q,key_gap=10,leaf_item_max=0,leaf_key_max=0,leaf_page_max=32KB,leaf_value_max=64MB,log=(enabled=true),lsm=(auto_throttle=true,bloom=true,bloom_bit_count=16,bloom_config=,bloom_hash_count=8,bloom_oldest=false,chunk_count_limit=0,chunk_max=5GB,chunk_size=10MB,merge_custom=(prefix=,start_generation=0,suffix=),merge_max=15,merge_min=0),memory_page_image_max=0,memory_page_max=10m,os_cache_dirty_max=0,os_cache_max=0,prefix_compression=false,prefix_compression_min=4,source=,split_deepen_min_child=0,split_deepen_per_child=0,split_pct=90,type=file,value_format=u',\n",
       "  'type': 'file',\n",
       "  'uri': 'statistics:table:collection-26--5274415563840746308',\n",
       "  'LSM': {'bloom filter false positives': 0,\n",
       "   'bloom filter hits': 0,\n",
       "   'bloom filter misses': 0,\n",
       "   'bloom filter pages evicted from cache': 0,\n",
       "   'bloom filter pages read into cache': 0,\n",
       "   'bloom filters in the LSM tree': 0,\n",
       "   'chunks in the LSM tree': 0,\n",
       "   'highest merge generation in the LSM tree': 0,\n",
       "   'queries that could have benefited from a Bloom filter that did not exist': 0,\n",
       "   'sleep for LSM checkpoint throttle': 0,\n",
       "   'sleep for LSM merge throttle': 0,\n",
       "   'total size of bloom filters': 0},\n",
       "  'block-manager': {'allocations requiring file extension': 0,\n",
       "   'blocks allocated': 0,\n",
       "   'blocks freed': 0,\n",
       "   'checkpoint size': 0,\n",
       "   'file allocation unit size': 4096,\n",
       "   'file bytes available for reuse': 0,\n",
       "   'file magic number': 120897,\n",
       "   'file major version number': 1,\n",
       "   'file size in bytes': 4096,\n",
       "   'minor version number': 0},\n",
       "  'btree': {'btree checkpoint generation': 0,\n",
       "   'column-store fixed-size leaf pages': 0,\n",
       "   'column-store internal pages': 0,\n",
       "   'column-store variable-size RLE encoded values': 0,\n",
       "   'column-store variable-size deleted values': 0,\n",
       "   'column-store variable-size leaf pages': 0,\n",
       "   'fixed-record size': 0,\n",
       "   'maximum internal page key size': 368,\n",
       "   'maximum internal page size': 4096,\n",
       "   'maximum leaf page key size': 2867,\n",
       "   'maximum leaf page size': 32768,\n",
       "   'maximum leaf page value size': 67108864,\n",
       "   'maximum tree depth': 3,\n",
       "   'number of key/value pairs': 0,\n",
       "   'overflow pages': 0,\n",
       "   'pages rewritten by compaction': 0,\n",
       "   'row-store empty values': 0,\n",
       "   'row-store internal pages': 0,\n",
       "   'row-store leaf pages': 0},\n",
       "  'cache': {'bytes currently in the cache': 1438,\n",
       "   'bytes dirty in the cache cumulative': 423,\n",
       "   'bytes read into cache': 0,\n",
       "   'bytes written from cache': 0,\n",
       "   'checkpoint blocked page eviction': 0,\n",
       "   'data source pages selected for eviction unable to be evicted': 0,\n",
       "   'eviction walk passes of a file': 0,\n",
       "   'eviction walk target pages histogram - 0-9': 0,\n",
       "   'eviction walk target pages histogram - 10-31': 0,\n",
       "   'eviction walk target pages histogram - 128 and higher': 0,\n",
       "   'eviction walk target pages histogram - 32-63': 0,\n",
       "   'eviction walk target pages histogram - 64-128': 0,\n",
       "   'eviction walks abandoned': 0,\n",
       "   'eviction walks gave up because they restarted their walk twice': 0,\n",
       "   'eviction walks gave up because they saw too many pages and found no candidates': 0,\n",
       "   'eviction walks gave up because they saw too many pages and found too few candidates': 0,\n",
       "   'eviction walks reached end of tree': 0,\n",
       "   'eviction walks started from root of tree': 0,\n",
       "   'eviction walks started from saved location in tree': 0,\n",
       "   'hazard pointer blocked page eviction': 0,\n",
       "   'in-memory page passed criteria to be split': 0,\n",
       "   'in-memory page splits': 0,\n",
       "   'internal pages evicted': 0,\n",
       "   'internal pages split during eviction': 0,\n",
       "   'leaf pages split during eviction': 0,\n",
       "   'modified pages evicted': 0,\n",
       "   'overflow pages read into cache': 0,\n",
       "   'page split during eviction deepened the tree': 0,\n",
       "   'page written requiring cache overflow records': 0,\n",
       "   'pages read into cache': 0,\n",
       "   'pages read into cache after truncate': 1,\n",
       "   'pages read into cache after truncate in prepare state': 0,\n",
       "   'pages read into cache requiring cache overflow entries': 0,\n",
       "   'pages requested from the cache': 5,\n",
       "   'pages seen by eviction walk': 0,\n",
       "   'pages written from cache': 0,\n",
       "   'pages written requiring in-memory restoration': 0,\n",
       "   'tracked dirty bytes in the cache': 1256,\n",
       "   'unmodified pages evicted': 0},\n",
       "  'cache_walk': {'Average difference between current eviction generation when the page was last considered': 0,\n",
       "   'Average on-disk page image size seen': 0,\n",
       "   'Average time in cache for pages that have been visited by the eviction server': 0,\n",
       "   'Average time in cache for pages that have not been visited by the eviction server': 0,\n",
       "   'Clean pages currently in cache': 0,\n",
       "   'Current eviction generation': 0,\n",
       "   'Dirty pages currently in cache': 0,\n",
       "   'Entries in the root page': 0,\n",
       "   'Internal pages currently in cache': 0,\n",
       "   'Leaf pages currently in cache': 0,\n",
       "   'Maximum difference between current eviction generation when the page was last considered': 0,\n",
       "   'Maximum page size seen': 0,\n",
       "   'Minimum on-disk page image size seen': 0,\n",
       "   'Number of pages never visited by eviction server': 0,\n",
       "   'On-disk page image sizes smaller than a single allocation unit': 0,\n",
       "   'Pages created in memory and never written': 0,\n",
       "   'Pages currently queued for eviction': 0,\n",
       "   'Pages that could not be queued for eviction': 0,\n",
       "   'Refs skipped during cache traversal': 0,\n",
       "   'Size of the root page': 0,\n",
       "   'Total number of pages currently in cache': 0},\n",
       "  'compression': {'compressed page maximum internal page size prior to compression': 4096,\n",
       "   'compressed page maximum leaf page size prior to compression ': 131072,\n",
       "   'compressed pages read': 0,\n",
       "   'compressed pages written': 0,\n",
       "   'page written failed to compress': 0,\n",
       "   'page written was too small to compress': 0},\n",
       "  'cursor': {'bulk loaded cursor insert calls': 0,\n",
       "   'cache cursors reuse count': 4,\n",
       "   'close calls that result in cache': 0,\n",
       "   'create calls': 1,\n",
       "   'insert calls': 3,\n",
       "   'insert key and value bytes': 366,\n",
       "   'modify': 0,\n",
       "   'modify key and value bytes affected': 0,\n",
       "   'modify value bytes modified': 0,\n",
       "   'next calls': 8,\n",
       "   'open cursor count': 0,\n",
       "   'operation restarted': 0,\n",
       "   'prev calls': 1,\n",
       "   'remove calls': 0,\n",
       "   'remove key bytes removed': 0,\n",
       "   'reserve calls': 0,\n",
       "   'reset calls': 11,\n",
       "   'search calls': 0,\n",
       "   'search near calls': 0,\n",
       "   'truncate calls': 0,\n",
       "   'update calls': 0,\n",
       "   'update key and value bytes': 0,\n",
       "   'update value size change': 0},\n",
       "  'reconciliation': {'dictionary matches': 0,\n",
       "   'fast-path pages deleted': 0,\n",
       "   'internal page key bytes discarded using suffix compression': 0,\n",
       "   'internal page multi-block writes': 0,\n",
       "   'internal-page overflow keys': 0,\n",
       "   'leaf page key bytes discarded using prefix compression': 0,\n",
       "   'leaf page multi-block writes': 0,\n",
       "   'leaf-page overflow keys': 0,\n",
       "   'maximum blocks required for a page': 0,\n",
       "   'overflow values written': 0,\n",
       "   'page checksum matches': 0,\n",
       "   'page reconciliation calls': 0,\n",
       "   'page reconciliation calls for eviction': 0,\n",
       "   'pages deleted': 0},\n",
       "  'session': {'object compaction': 0},\n",
       "  'transaction': {'update conflicts': 0}},\n",
       " 'nindexes': 1,\n",
       " 'indexDetails': {'_id_': {'metadata': {'formatVersion': 8},\n",
       "   'creationString': 'access_pattern_hint=none,allocation_size=4KB,app_metadata=(formatVersion=8),assert=(commit_timestamp=none,durable_timestamp=none,read_timestamp=none),block_allocation=best,block_compressor=,cache_resident=false,checksum=on,colgroups=,collator=,columns=,dictionary=0,encryption=(keyid=,name=),exclusive=false,extractor=,format=btree,huffman_key=,huffman_value=,ignore_in_memory_cache_size=false,immutable=false,internal_item_max=0,internal_key_max=0,internal_key_truncate=true,internal_page_max=16k,key_format=u,key_gap=10,leaf_item_max=0,leaf_key_max=0,leaf_page_max=16k,leaf_value_max=0,log=(enabled=true),lsm=(auto_throttle=true,bloom=true,bloom_bit_count=16,bloom_config=,bloom_hash_count=8,bloom_oldest=false,chunk_count_limit=0,chunk_max=5GB,chunk_size=10MB,merge_custom=(prefix=,start_generation=0,suffix=),merge_max=15,merge_min=0),memory_page_image_max=0,memory_page_max=5MB,os_cache_dirty_max=0,os_cache_max=0,prefix_compression=true,prefix_compression_min=4,source=,split_deepen_min_child=0,split_deepen_per_child=0,split_pct=90,type=file,value_format=u',\n",
       "   'type': 'file',\n",
       "   'uri': 'statistics:table:index-27--5274415563840746308',\n",
       "   'LSM': {'bloom filter false positives': 0,\n",
       "    'bloom filter hits': 0,\n",
       "    'bloom filter misses': 0,\n",
       "    'bloom filter pages evicted from cache': 0,\n",
       "    'bloom filter pages read into cache': 0,\n",
       "    'bloom filters in the LSM tree': 0,\n",
       "    'chunks in the LSM tree': 0,\n",
       "    'highest merge generation in the LSM tree': 0,\n",
       "    'queries that could have benefited from a Bloom filter that did not exist': 0,\n",
       "    'sleep for LSM checkpoint throttle': 0,\n",
       "    'sleep for LSM merge throttle': 0,\n",
       "    'total size of bloom filters': 0},\n",
       "   'block-manager': {'allocations requiring file extension': 0,\n",
       "    'blocks allocated': 0,\n",
       "    'blocks freed': 0,\n",
       "    'checkpoint size': 0,\n",
       "    'file allocation unit size': 4096,\n",
       "    'file bytes available for reuse': 0,\n",
       "    'file magic number': 120897,\n",
       "    'file major version number': 1,\n",
       "    'file size in bytes': 4096,\n",
       "    'minor version number': 0},\n",
       "   'btree': {'btree checkpoint generation': 0,\n",
       "    'column-store fixed-size leaf pages': 0,\n",
       "    'column-store internal pages': 0,\n",
       "    'column-store variable-size RLE encoded values': 0,\n",
       "    'column-store variable-size deleted values': 0,\n",
       "    'column-store variable-size leaf pages': 0,\n",
       "    'fixed-record size': 0,\n",
       "    'maximum internal page key size': 1474,\n",
       "    'maximum internal page size': 16384,\n",
       "    'maximum leaf page key size': 1474,\n",
       "    'maximum leaf page size': 16384,\n",
       "    'maximum leaf page value size': 7372,\n",
       "    'maximum tree depth': 3,\n",
       "    'number of key/value pairs': 0,\n",
       "    'overflow pages': 0,\n",
       "    'pages rewritten by compaction': 0,\n",
       "    'row-store empty values': 0,\n",
       "    'row-store internal pages': 0,\n",
       "    'row-store leaf pages': 0},\n",
       "   'cache': {'bytes currently in the cache': 1152,\n",
       "    'bytes dirty in the cache cumulative': 423,\n",
       "    'bytes read into cache': 0,\n",
       "    'bytes written from cache': 0,\n",
       "    'checkpoint blocked page eviction': 0,\n",
       "    'data source pages selected for eviction unable to be evicted': 0,\n",
       "    'eviction walk passes of a file': 0,\n",
       "    'eviction walk target pages histogram - 0-9': 0,\n",
       "    'eviction walk target pages histogram - 10-31': 0,\n",
       "    'eviction walk target pages histogram - 128 and higher': 0,\n",
       "    'eviction walk target pages histogram - 32-63': 0,\n",
       "    'eviction walk target pages histogram - 64-128': 0,\n",
       "    'eviction walks abandoned': 0,\n",
       "    'eviction walks gave up because they restarted their walk twice': 0,\n",
       "    'eviction walks gave up because they saw too many pages and found no candidates': 0,\n",
       "    'eviction walks gave up because they saw too many pages and found too few candidates': 0,\n",
       "    'eviction walks reached end of tree': 0,\n",
       "    'eviction walks started from root of tree': 0,\n",
       "    'eviction walks started from saved location in tree': 0,\n",
       "    'hazard pointer blocked page eviction': 0,\n",
       "    'in-memory page passed criteria to be split': 0,\n",
       "    'in-memory page splits': 0,\n",
       "    'internal pages evicted': 0,\n",
       "    'internal pages split during eviction': 0,\n",
       "    'leaf pages split during eviction': 0,\n",
       "    'modified pages evicted': 0,\n",
       "    'overflow pages read into cache': 0,\n",
       "    'page split during eviction deepened the tree': 0,\n",
       "    'page written requiring cache overflow records': 0,\n",
       "    'pages read into cache': 0,\n",
       "    'pages read into cache after truncate': 1,\n",
       "    'pages read into cache after truncate in prepare state': 0,\n",
       "    'pages read into cache requiring cache overflow entries': 0,\n",
       "    'pages requested from the cache': 3,\n",
       "    'pages seen by eviction walk': 0,\n",
       "    'pages written from cache': 0,\n",
       "    'pages written requiring in-memory restoration': 0,\n",
       "    'tracked dirty bytes in the cache': 969,\n",
       "    'unmodified pages evicted': 0},\n",
       "   'cache_walk': {'Average difference between current eviction generation when the page was last considered': 0,\n",
       "    'Average on-disk page image size seen': 0,\n",
       "    'Average time in cache for pages that have been visited by the eviction server': 0,\n",
       "    'Average time in cache for pages that have not been visited by the eviction server': 0,\n",
       "    'Clean pages currently in cache': 0,\n",
       "    'Current eviction generation': 0,\n",
       "    'Dirty pages currently in cache': 0,\n",
       "    'Entries in the root page': 0,\n",
       "    'Internal pages currently in cache': 0,\n",
       "    'Leaf pages currently in cache': 0,\n",
       "    'Maximum difference between current eviction generation when the page was last considered': 0,\n",
       "    'Maximum page size seen': 0,\n",
       "    'Minimum on-disk page image size seen': 0,\n",
       "    'Number of pages never visited by eviction server': 0,\n",
       "    'On-disk page image sizes smaller than a single allocation unit': 0,\n",
       "    'Pages created in memory and never written': 0,\n",
       "    'Pages currently queued for eviction': 0,\n",
       "    'Pages that could not be queued for eviction': 0,\n",
       "    'Refs skipped during cache traversal': 0,\n",
       "    'Size of the root page': 0,\n",
       "    'Total number of pages currently in cache': 0},\n",
       "   'compression': {'compressed page maximum internal page size prior to compression': 16384,\n",
       "    'compressed page maximum leaf page size prior to compression ': 16384,\n",
       "    'compressed pages read': 0,\n",
       "    'compressed pages written': 0,\n",
       "    'page written failed to compress': 0,\n",
       "    'page written was too small to compress': 0},\n",
       "   'cursor': {'bulk loaded cursor insert calls': 0,\n",
       "    'cache cursors reuse count': 2,\n",
       "    'close calls that result in cache': 0,\n",
       "    'create calls': 1,\n",
       "    'insert calls': 3,\n",
       "    'insert key and value bytes': 48,\n",
       "    'modify': 0,\n",
       "    'modify key and value bytes affected': 0,\n",
       "    'modify value bytes modified': 0,\n",
       "    'next calls': 0,\n",
       "    'open cursor count': 0,\n",
       "    'operation restarted': 0,\n",
       "    'prev calls': 0,\n",
       "    'remove calls': 0,\n",
       "    'remove key bytes removed': 0,\n",
       "    'reserve calls': 0,\n",
       "    'reset calls': 6,\n",
       "    'search calls': 0,\n",
       "    'search near calls': 0,\n",
       "    'truncate calls': 0,\n",
       "    'update calls': 0,\n",
       "    'update key and value bytes': 0,\n",
       "    'update value size change': 0},\n",
       "   'reconciliation': {'dictionary matches': 0,\n",
       "    'fast-path pages deleted': 0,\n",
       "    'internal page key bytes discarded using suffix compression': 0,\n",
       "    'internal page multi-block writes': 0,\n",
       "    'internal-page overflow keys': 0,\n",
       "    'leaf page key bytes discarded using prefix compression': 0,\n",
       "    'leaf page multi-block writes': 0,\n",
       "    'leaf-page overflow keys': 0,\n",
       "    'maximum blocks required for a page': 0,\n",
       "    'overflow values written': 0,\n",
       "    'page checksum matches': 0,\n",
       "    'page reconciliation calls': 0,\n",
       "    'page reconciliation calls for eviction': 0,\n",
       "    'pages deleted': 0},\n",
       "   'session': {'object compaction': 0},\n",
       "   'transaction': {'update conflicts': 0}}},\n",
       " 'indexBuilds': [],\n",
       " 'totalIndexSize': 4096,\n",
       " 'indexSizes': {'_id_': 4096},\n",
       " 'scaleFactor': 1,\n",
       " 'ok': 1.0}"
      ]
     },
     "execution_count": 50,
     "metadata": {},
     "output_type": "execute_result"
    }
   ],
   "source": [
    "db.command({'collstats': 'my_collection', 'verbose': 'true' })"
   ]
  },
  {
   "cell_type": "markdown",
   "metadata": {},
   "source": [
    "## Drop database\n",
    "\n",
    "We can drop or delete a populated database as well:"
   ]
  },
  {
   "cell_type": "code",
   "execution_count": 51,
   "metadata": {},
   "outputs": [
    {
     "data": {
      "text/plain": [
       "['admin', 'config', 'local', 'mydb']"
      ]
     },
     "execution_count": 51,
     "metadata": {},
     "output_type": "execute_result"
    }
   ],
   "source": [
    "# See list of databases:\n",
    "conn.list_database_names()"
   ]
  },
  {
   "cell_type": "code",
   "execution_count": 52,
   "metadata": {},
   "outputs": [
    {
     "data": {
      "text/plain": [
       "['admin', 'config', 'local']"
      ]
     },
     "execution_count": 52,
     "metadata": {},
     "output_type": "execute_result"
    }
   ],
   "source": [
    "# Drop the 'mydb' database created earlier.\n",
    "conn.drop_database(\"mydb\")\n",
    "conn.list_database_names()"
   ]
  },
  {
   "cell_type": "markdown",
   "metadata": {},
   "source": [
    "Nice work!"
   ]
  }
 ],
 "metadata": {
  "kernelspec": {
   "display_name": "Python 3",
   "language": "python",
   "name": "python3"
  },
  "language_info": {
   "codemirror_mode": {
    "name": "ipython",
    "version": 3
   },
   "file_extension": ".py",
   "mimetype": "text/x-python",
   "name": "python",
   "nbconvert_exporter": "python",
   "pygments_lexer": "ipython3",
   "version": "3.7.4"
  }
 },
 "nbformat": 4,
 "nbformat_minor": 1
}
